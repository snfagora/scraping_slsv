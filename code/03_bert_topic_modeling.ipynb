{
 "cells": [
  {
   "cell_type": "markdown",
   "id": "31d0cf9f",
   "metadata": {},
   "source": [
    "# BERT topic modeling \n",
    "\n",
    "The code is adapted from https://maartengr.github.io/BERTopic/index.html#quick-start "
   ]
  },
  {
   "cell_type": "markdown",
   "id": "b35b2327",
   "metadata": {},
   "source": [
    "## Import pkgs "
   ]
  },
  {
   "cell_type": "code",
   "execution_count": 1,
   "id": "926bc4ad",
   "metadata": {},
   "outputs": [],
   "source": [
    "from bertopic import BERTopic\n",
    "\n",
    "# for word + document embedding\n",
    "from bertopic.backend import WordDocEmbedder\n",
    "import gensim.downloader as api\n",
    "from sentence_transformers import SentenceTransformer\n",
    "\n",
    "import pandas as pd\n",
    "import os\n",
    "from sklearn.datasets import fetch_20newsgroups # for test data\n",
    "\n",
    "# print every ouput\n",
    "from IPython.core.interactiveshell import InteractiveShell\n",
    "InteractiveShell.ast_node_interactivity = \"all\""
   ]
  },
  {
   "cell_type": "code",
   "execution_count": 2,
   "id": "059b0c71",
   "metadata": {},
   "outputs": [
    {
     "data": {
      "text/plain": [
       "'/Users/jaeyeonkim/scraping_slsv/code'"
      ]
     },
     "execution_count": 2,
     "metadata": {},
     "output_type": "execute_result"
    }
   ],
   "source": [
    "# print the current wd \n",
    "os.getcwd()\n",
    "\n",
    "# change the current wd \n",
    "os.chdir('/Users/jaeyeonkim/scraping_slsv')"
   ]
  },
  {
   "cell_type": "code",
   "execution_count": 3,
   "id": "7e7b5162",
   "metadata": {},
   "outputs": [
    {
     "data": {
      "text/plain": [
       "'/Users/jaeyeonkim/scraping_slsv'"
      ]
     },
     "execution_count": 3,
     "metadata": {},
     "output_type": "execute_result"
    }
   ],
   "source": [
    "# check the current wd\n",
    "os.getcwd()"
   ]
  },
  {
   "cell_type": "code",
   "execution_count": 4,
   "id": "6017e538",
   "metadata": {},
   "outputs": [],
   "source": [
    "df = pd.read_csv('./outputs/filtered_df.csv')"
   ]
  },
  {
   "cell_type": "code",
   "execution_count": 5,
   "id": "d26a6e5e-882a-471a-b3c2-d70af121f1df",
   "metadata": {},
   "outputs": [
    {
     "data": {
      "text/html": [
       "<div>\n",
       "<style scoped>\n",
       "    .dataframe tbody tr th:only-of-type {\n",
       "        vertical-align: middle;\n",
       "    }\n",
       "\n",
       "    .dataframe tbody tr th {\n",
       "        vertical-align: top;\n",
       "    }\n",
       "\n",
       "    .dataframe thead th {\n",
       "        text-align: right;\n",
       "    }\n",
       "</style>\n",
       "<table border=\"1\" class=\"dataframe\">\n",
       "  <thead>\n",
       "    <tr style=\"text-align: right;\">\n",
       "      <th></th>\n",
       "      <th>text</th>\n",
       "      <th>name</th>\n",
       "    </tr>\n",
       "  </thead>\n",
       "  <tbody>\n",
       "    <tr>\n",
       "      <th>0</th>\n",
       "      <td>voter education voter turnout voter registrat...</td>\n",
       "      <td>2019-2020-Nazareth-College-Action-Plan.pdf</td>\n",
       "    </tr>\n",
       "    <tr>\n",
       "      <th>1</th>\n",
       "      <td>gw votes 2020 action plan honey w nashman cen...</td>\n",
       "      <td>2020-Action-Plan-FINAL.pdf</td>\n",
       "    </tr>\n",
       "    <tr>\n",
       "      <th>2</th>\n",
       "      <td>tricia debertolis alfred university 1 saxon dr...</td>\n",
       "      <td>Action-Plan-Alfred.pdf</td>\n",
       "    </tr>\n",
       "    <tr>\n",
       "      <th>3</th>\n",
       "      <td>allegany college all in one campus plan to in...</td>\n",
       "      <td>Action-Plan-Allegany-College.pdf</td>\n",
       "    </tr>\n",
       "    <tr>\n",
       "      <th>4</th>\n",
       "      <td>all in campus democracy challenge 2016 action...</td>\n",
       "      <td>Action-Plan-Anne-Arundel-Community-College.pdf</td>\n",
       "    </tr>\n",
       "    <tr>\n",
       "      <th>...</th>\n",
       "      <td>...</td>\n",
       "      <td>...</td>\n",
       "    </tr>\n",
       "    <tr>\n",
       "      <th>1221</th>\n",
       "      <td>voter education engagement master plan 429 n c...</td>\n",
       "      <td>Wofford-College-Action-Plan-2018.pdf</td>\n",
       "    </tr>\n",
       "    <tr>\n",
       "      <th>1222</th>\n",
       "      <td>voter education engagement action plan 2022 ex...</td>\n",
       "      <td>Wofford-College-Action-Plan-2022-May.pdf</td>\n",
       "    </tr>\n",
       "    <tr>\n",
       "      <th>1223</th>\n",
       "      <td>worcester state university has aimed to increa...</td>\n",
       "      <td>Worcester-State-University-Action-Plan-2018.pdf</td>\n",
       "    </tr>\n",
       "    <tr>\n",
       "      <th>1224</th>\n",
       "      <td>worcester state university 2020 action plan th...</td>\n",
       "      <td>Worcester-State-University-Action-Plan-2020.pdf</td>\n",
       "    </tr>\n",
       "    <tr>\n",
       "      <th>1225</th>\n",
       "      <td>i executive summary in our mission and vision ...</td>\n",
       "      <td>York-College-Action-Plan-2020.pdf</td>\n",
       "    </tr>\n",
       "  </tbody>\n",
       "</table>\n",
       "<p>1226 rows × 2 columns</p>\n",
       "</div>"
      ],
      "text/plain": [
       "                                                   text  \\\n",
       "0      voter education voter turnout voter registrat...   \n",
       "1      gw votes 2020 action plan honey w nashman cen...   \n",
       "2     tricia debertolis alfred university 1 saxon dr...   \n",
       "3      allegany college all in one campus plan to in...   \n",
       "4      all in campus democracy challenge 2016 action...   \n",
       "...                                                 ...   \n",
       "1221  voter education engagement master plan 429 n c...   \n",
       "1222  voter education engagement action plan 2022 ex...   \n",
       "1223  worcester state university has aimed to increa...   \n",
       "1224  worcester state university 2020 action plan th...   \n",
       "1225  i executive summary in our mission and vision ...   \n",
       "\n",
       "                                                 name  \n",
       "0          2019-2020-Nazareth-College-Action-Plan.pdf  \n",
       "1                          2020-Action-Plan-FINAL.pdf  \n",
       "2                              Action-Plan-Alfred.pdf  \n",
       "3                    Action-Plan-Allegany-College.pdf  \n",
       "4      Action-Plan-Anne-Arundel-Community-College.pdf  \n",
       "...                                               ...  \n",
       "1221             Wofford-College-Action-Plan-2018.pdf  \n",
       "1222         Wofford-College-Action-Plan-2022-May.pdf  \n",
       "1223  Worcester-State-University-Action-Plan-2018.pdf  \n",
       "1224  Worcester-State-University-Action-Plan-2020.pdf  \n",
       "1225                York-College-Action-Plan-2020.pdf  \n",
       "\n",
       "[1226 rows x 2 columns]"
      ]
     },
     "execution_count": 5,
     "metadata": {},
     "output_type": "execute_result"
    }
   ],
   "source": [
    "# check the file \n",
    "df"
   ]
  },
  {
   "cell_type": "markdown",
   "id": "50d5343d-3e62-4e48-ac1e-1c69fd75ff67",
   "metadata": {},
   "source": [
    "# Feature engineering"
   ]
  },
  {
   "cell_type": "code",
   "execution_count": 8,
   "id": "1c179079-da0a-44fe-b50c-4f2957aebac9",
   "metadata": {},
   "outputs": [
    {
     "name": "stderr",
     "output_type": "stream",
     "text": [
      "[nltk_data] Downloading package stopwords to\n",
      "[nltk_data]     /Users/jaeyeonkim/nltk_data...\n",
      "[nltk_data]   Package stopwords is already up-to-date!\n"
     ]
    },
    {
     "data": {
      "text/plain": [
       "True"
      ]
     },
     "execution_count": 8,
     "metadata": {},
     "output_type": "execute_result"
    }
   ],
   "source": [
    "# stopwords dictionary\n",
    "import nltk\n",
    "nltk.download('stopwords')\n",
    "\n",
    "from nltk.corpus import stopwords\n",
    "\n",
    "stop_words = stopwords.words('english')"
   ]
  },
  {
   "cell_type": "code",
   "execution_count": 9,
   "id": "1fd17d64-27b4-4a75-98ac-fffd778cba4d",
   "metadata": {},
   "outputs": [],
   "source": [
    "# using list comprehension\n",
    "df['text'] = df[\"text\"].apply(lambda words: ' '.join(word.lower() for word in words.split() if word not in stop_words))"
   ]
  },
  {
   "cell_type": "markdown",
   "id": "b171d024-5fad-45aa-bd02-acd2cf042f84",
   "metadata": {},
   "source": [
    "## BERT topic modeling"
   ]
  },
  {
   "cell_type": "markdown",
   "id": "c4819509-c6a7-4d46-a642-987177714913",
   "metadata": {},
   "source": [
    "### Silent agenda "
   ]
  },
  {
   "cell_type": "code",
   "execution_count": 10,
   "id": "6f2483cc-a13e-4e46-9ce7-056d54abb362",
   "metadata": {},
   "outputs": [],
   "source": [
    "#topic_model = BERTopic(embedding_model=\"all-MiniLM-L6-v2\")\n",
    "\n",
    "from sentence_transformers import SentenceTransformer\n",
    "\n",
    "sentence_model = SentenceTransformer(\"all-MiniLM-L6-v2\")\n",
    "\n",
    "topic_model = BERTopic(embedding_model=sentence_model)\n",
    "\n",
    "# Word embedding model\n",
    "#ft = api.load('fasttext-wiki-news-subwords-300')\n",
    "\n",
    "# Document embedding model\n",
    "#embedding_model = SentenceTransformer(\"all-MiniLM-L6-v2\")\n",
    "\n",
    "# Create a model that uses both language models and pass it through BERTopic\n",
    "#word_doc_embedder = WordDocEmbedder(embedding_model=embedding_model, word_embedding_model=ft)\n",
    "\n",
    "#topic_model = BERTopic(embedding_model=word_doc_embedder)"
   ]
  },
  {
   "cell_type": "code",
   "execution_count": 11,
   "id": "7074665a",
   "metadata": {},
   "outputs": [
    {
     "data": {
      "text/html": [
       "<div>\n",
       "<style scoped>\n",
       "    .dataframe tbody tr th:only-of-type {\n",
       "        vertical-align: middle;\n",
       "    }\n",
       "\n",
       "    .dataframe tbody tr th {\n",
       "        vertical-align: top;\n",
       "    }\n",
       "\n",
       "    .dataframe thead th {\n",
       "        text-align: right;\n",
       "    }\n",
       "</style>\n",
       "<table border=\"1\" class=\"dataframe\">\n",
       "  <thead>\n",
       "    <tr style=\"text-align: right;\">\n",
       "      <th></th>\n",
       "      <th>Topic</th>\n",
       "      <th>Count</th>\n",
       "      <th>Name</th>\n",
       "    </tr>\n",
       "  </thead>\n",
       "  <tbody>\n",
       "    <tr>\n",
       "      <th>0</th>\n",
       "      <td>-1</td>\n",
       "      <td>501</td>\n",
       "      <td>-1_students_voter_engagement_campus</td>\n",
       "    </tr>\n",
       "    <tr>\n",
       "      <th>1</th>\n",
       "      <td>0</td>\n",
       "      <td>136</td>\n",
       "      <td>0_engagement_civic_students_student</td>\n",
       "    </tr>\n",
       "    <tr>\n",
       "      <th>2</th>\n",
       "      <td>1</td>\n",
       "      <td>89</td>\n",
       "      <td>1_voter_students_student_registration</td>\n",
       "    </tr>\n",
       "    <tr>\n",
       "      <th>3</th>\n",
       "      <td>2</td>\n",
       "      <td>56</td>\n",
       "      <td>2_students_voter_student_community</td>\n",
       "    </tr>\n",
       "    <tr>\n",
       "      <th>4</th>\n",
       "      <td>3</td>\n",
       "      <td>50</td>\n",
       "      <td>3_harvard_campus_following_voter</td>\n",
       "    </tr>\n",
       "    <tr>\n",
       "      <th>5</th>\n",
       "      <td>4</td>\n",
       "      <td>36</td>\n",
       "      <td>4_florida_miami_students_campus</td>\n",
       "    </tr>\n",
       "    <tr>\n",
       "      <th>6</th>\n",
       "      <td>5</td>\n",
       "      <td>30</td>\n",
       "      <td>5_student_voter_campus_engagement</td>\n",
       "    </tr>\n",
       "    <tr>\n",
       "      <th>7</th>\n",
       "      <td>6</td>\n",
       "      <td>30</td>\n",
       "      <td>6_texas_campus_tlu_students</td>\n",
       "    </tr>\n",
       "    <tr>\n",
       "      <th>8</th>\n",
       "      <td>7</td>\n",
       "      <td>28</td>\n",
       "      <td>7_illinois_students_voting_voter</td>\n",
       "    </tr>\n",
       "    <tr>\n",
       "      <th>9</th>\n",
       "      <td>8</td>\n",
       "      <td>27</td>\n",
       "      <td>8_campus_students_voter_student</td>\n",
       "    </tr>\n",
       "    <tr>\n",
       "      <th>10</th>\n",
       "      <td>9</td>\n",
       "      <td>24</td>\n",
       "      <td>9_voter_student_siue_registration</td>\n",
       "    </tr>\n",
       "    <tr>\n",
       "      <th>11</th>\n",
       "      <td>10</td>\n",
       "      <td>24</td>\n",
       "      <td>10_etsu_voter_students_voting</td>\n",
       "    </tr>\n",
       "    <tr>\n",
       "      <th>12</th>\n",
       "      <td>11</td>\n",
       "      <td>21</td>\n",
       "      <td>11_students_rit_engagement_campus</td>\n",
       "    </tr>\n",
       "    <tr>\n",
       "      <th>13</th>\n",
       "      <td>12</td>\n",
       "      <td>20</td>\n",
       "      <td>12_michigan_students_student_voter</td>\n",
       "    </tr>\n",
       "    <tr>\n",
       "      <th>14</th>\n",
       "      <td>13</td>\n",
       "      <td>19</td>\n",
       "      <td>13_oklahoma_ou_engagement_campus</td>\n",
       "    </tr>\n",
       "    <tr>\n",
       "      <th>15</th>\n",
       "      <td>14</td>\n",
       "      <td>17</td>\n",
       "      <td>14_asu_arizona_nau_asasu</td>\n",
       "    </tr>\n",
       "    <tr>\n",
       "      <th>16</th>\n",
       "      <td>15</td>\n",
       "      <td>17</td>\n",
       "      <td>15_atlanta_cau_georgia_emory</td>\n",
       "    </tr>\n",
       "    <tr>\n",
       "      <th>17</th>\n",
       "      <td>16</td>\n",
       "      <td>16</td>\n",
       "      <td>16_colorado_denver_students_era</td>\n",
       "    </tr>\n",
       "    <tr>\n",
       "      <th>18</th>\n",
       "      <td>17</td>\n",
       "      <td>16</td>\n",
       "      <td>17_umsl_missouri_louis_voter</td>\n",
       "    </tr>\n",
       "    <tr>\n",
       "      <th>19</th>\n",
       "      <td>18</td>\n",
       "      <td>16</td>\n",
       "      <td>18_umbc_civic_engagement_students</td>\n",
       "    </tr>\n",
       "    <tr>\n",
       "      <th>20</th>\n",
       "      <td>19</td>\n",
       "      <td>15</td>\n",
       "      <td>19_iowa_drake_student_voter</td>\n",
       "    </tr>\n",
       "    <tr>\n",
       "      <th>21</th>\n",
       "      <td>20</td>\n",
       "      <td>11</td>\n",
       "      <td>20_gw_students_votes_uw</td>\n",
       "    </tr>\n",
       "    <tr>\n",
       "      <th>22</th>\n",
       "      <td>21</td>\n",
       "      <td>11</td>\n",
       "      <td>21_morris_umn_minnesota_student</td>\n",
       "    </tr>\n",
       "    <tr>\n",
       "      <th>23</th>\n",
       "      <td>22</td>\n",
       "      <td>11</td>\n",
       "      <td>22_wisconsin_alverno_voting_students</td>\n",
       "    </tr>\n",
       "  </tbody>\n",
       "</table>\n",
       "</div>"
      ],
      "text/plain": [
       "    Topic  Count                                   Name\n",
       "0      -1    501    -1_students_voter_engagement_campus\n",
       "1       0    136    0_engagement_civic_students_student\n",
       "2       1     89  1_voter_students_student_registration\n",
       "3       2     56     2_students_voter_student_community\n",
       "4       3     50       3_harvard_campus_following_voter\n",
       "5       4     36        4_florida_miami_students_campus\n",
       "6       5     30      5_student_voter_campus_engagement\n",
       "7       6     30            6_texas_campus_tlu_students\n",
       "8       7     28       7_illinois_students_voting_voter\n",
       "9       8     27        8_campus_students_voter_student\n",
       "10      9     24      9_voter_student_siue_registration\n",
       "11     10     24          10_etsu_voter_students_voting\n",
       "12     11     21      11_students_rit_engagement_campus\n",
       "13     12     20     12_michigan_students_student_voter\n",
       "14     13     19       13_oklahoma_ou_engagement_campus\n",
       "15     14     17               14_asu_arizona_nau_asasu\n",
       "16     15     17           15_atlanta_cau_georgia_emory\n",
       "17     16     16        16_colorado_denver_students_era\n",
       "18     17     16           17_umsl_missouri_louis_voter\n",
       "19     18     16      18_umbc_civic_engagement_students\n",
       "20     19     15            19_iowa_drake_student_voter\n",
       "21     20     11                20_gw_students_votes_uw\n",
       "22     21     11        21_morris_umn_minnesota_student\n",
       "23     22     11   22_wisconsin_alverno_voting_students"
      ]
     },
     "execution_count": 11,
     "metadata": {},
     "output_type": "execute_result"
    }
   ],
   "source": [
    "topics, probs = topic_model.fit_transform(df['text'].unique())\n",
    "\n",
    "topic_model.get_topic_info() # 2 topics: (1) health spending, (2) tax, income, jobs, (3) immigration, trade, (4) education, job creation"
   ]
  },
  {
   "cell_type": "code",
   "execution_count": 15,
   "id": "7ad572e2-c0b3-4ad1-8fd6-aa8cf8cf1f51",
   "metadata": {},
   "outputs": [
    {
     "data": {
      "text/plain": [
       "[('engagement', 0.023723420328570992),\n",
       " ('civic', 0.022454705504838687),\n",
       " ('students', 0.020479969864622135),\n",
       " ('student', 0.020359275025236063),\n",
       " ('campus', 0.020141726480267786),\n",
       " ('community', 0.01827453483656546),\n",
       " ('learning', 0.016265281496764185),\n",
       " ('plan', 0.016264935368142476),\n",
       " ('voter', 0.01482686698272112),\n",
       " ('voting', 0.013124441908351244)]"
      ]
     },
     "execution_count": 15,
     "metadata": {},
     "output_type": "execute_result"
    }
   ],
   "source": [
    "topic_model.get_topic(0) "
   ]
  },
  {
   "cell_type": "code",
   "execution_count": 16,
   "id": "010de9f2-37f1-4478-b1b9-337c79662a45",
   "metadata": {},
   "outputs": [
    {
     "data": {
      "text/plain": [
       "[('voter', 0.025269491419155687),\n",
       " ('students', 0.024301591504023484),\n",
       " ('student', 0.022090483276637634),\n",
       " ('registration', 0.02070658842154926),\n",
       " ('campus', 0.01915155544067472),\n",
       " ('voting', 0.018930858230033504),\n",
       " ('hopkins', 0.018062680203357342),\n",
       " ('vote', 0.017801795109683955),\n",
       " ('election', 0.017535592037128095),\n",
       " ('day', 0.015292258139481206)]"
      ]
     },
     "execution_count": 16,
     "metadata": {},
     "output_type": "execute_result"
    }
   ],
   "source": [
    "topic_model.get_topic(1) "
   ]
  },
  {
   "cell_type": "code",
   "execution_count": 17,
   "id": "23231ce5-a51c-459a-8986-466386336fc8",
   "metadata": {},
   "outputs": [
    {
     "data": {
      "text/plain": [
       "[('students', 0.021822333540753313),\n",
       " ('voter', 0.017803113145325185),\n",
       " ('student', 0.016476533777543472),\n",
       " ('community', 0.015886729472725604),\n",
       " ('campus', 0.015827061937832586),\n",
       " ('registration', 0.01519985692138873),\n",
       " ('engagement', 0.014774617823583516),\n",
       " ('civic', 0.013029571669811339),\n",
       " ('faculty', 0.01286715166409284),\n",
       " ('saint', 0.011959575733202542)]"
      ]
     },
     "execution_count": 17,
     "metadata": {},
     "output_type": "execute_result"
    }
   ],
   "source": [
    "topic_model.get_topic(2) "
   ]
  }
 ],
 "metadata": {
  "kernelspec": {
   "display_name": "Python 3 (ipykernel)",
   "language": "python",
   "name": "python3"
  },
  "language_info": {
   "codemirror_mode": {
    "name": "ipython",
    "version": 3
   },
   "file_extension": ".py",
   "mimetype": "text/x-python",
   "name": "python",
   "nbconvert_exporter": "python",
   "pygments_lexer": "ipython3",
   "version": "3.9.12"
  }
 },
 "nbformat": 4,
 "nbformat_minor": 5
}
