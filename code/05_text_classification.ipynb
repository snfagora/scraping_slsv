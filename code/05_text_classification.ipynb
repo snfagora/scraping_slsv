{
 "cells": [
  {
   "cell_type": "markdown",
   "id": "31d0cf9f",
   "metadata": {},
   "source": [
    "# Text classificaton\n"
   ]
  },
  {
   "cell_type": "markdown",
   "id": "b35b2327",
   "metadata": {},
   "source": [
    "## Import pkgs "
   ]
  },
  {
   "cell_type": "code",
   "execution_count": 83,
   "id": "926bc4ad",
   "metadata": {},
   "outputs": [],
   "source": [
    "import pandas as pd\n",
    "import os\n",
    "\n",
    "# print every ouput\n",
    "from IPython.core.interactiveshell import InteractiveShell\n",
    "InteractiveShell.ast_node_interactivity = \"all\""
   ]
  },
  {
   "cell_type": "markdown",
   "id": "1d8e3345-1bb5-4614-97f2-be481fd62599",
   "metadata": {},
   "source": [
    "## Import data "
   ]
  },
  {
   "cell_type": "code",
   "execution_count": 84,
   "id": "059b0c71",
   "metadata": {},
   "outputs": [],
   "source": [
    "# change the current wd \n",
    "os.chdir('/home/jae/scraping_slsv')"
   ]
  },
  {
   "cell_type": "code",
   "execution_count": 85,
   "id": "7e7b5162",
   "metadata": {},
   "outputs": [
    {
     "data": {
      "text/plain": [
       "'/home/jae/scraping_slsv'"
      ]
     },
     "execution_count": 85,
     "metadata": {},
     "output_type": "execute_result"
    }
   ],
   "source": [
    "# check the current wd\n",
    "os.getcwd()"
   ]
  },
  {
   "cell_type": "code",
   "execution_count": 86,
   "id": "0e732858-2683-4c87-a917-10f6127c00f4",
   "metadata": {},
   "outputs": [],
   "source": [
    "df = pd.read_csv(\"./processed_data/text4class.csv\")"
   ]
  },
  {
   "cell_type": "code",
   "execution_count": 87,
   "id": "d26a6e5e-882a-471a-b3c2-d70af121f1df",
   "metadata": {},
   "outputs": [
    {
     "data": {
      "text/plain": [
       "1977"
      ]
     },
     "execution_count": 87,
     "metadata": {},
     "output_type": "execute_result"
    }
   ],
   "source": [
    "# the number of rows \n",
    "df.shape[0]"
   ]
  },
  {
   "cell_type": "code",
   "execution_count": 88,
   "id": "e6be9638-6a01-4096-b1b8-eb95e6718d11",
   "metadata": {},
   "outputs": [],
   "source": [
    "# no null in the name field\n",
    "filtered_df = df[df['name'].notnull()]"
   ]
  },
  {
   "cell_type": "code",
   "execution_count": 89,
   "id": "c4827037-b353-49db-a936-5ad50e9e8f55",
   "metadata": {},
   "outputs": [
    {
     "data": {
      "text/plain": [
       "1975"
      ]
     },
     "execution_count": 89,
     "metadata": {},
     "output_type": "execute_result"
    }
   ],
   "source": [
    "filtered_df.shape[0]"
   ]
  },
  {
   "cell_type": "code",
   "execution_count": 90,
   "id": "1781c87a-6251-467f-b939-73c9de282b4c",
   "metadata": {},
   "outputs": [
    {
     "data": {
      "text/html": [
       "<div>\n",
       "<style scoped>\n",
       "    .dataframe tbody tr th:only-of-type {\n",
       "        vertical-align: middle;\n",
       "    }\n",
       "\n",
       "    .dataframe tbody tr th {\n",
       "        vertical-align: top;\n",
       "    }\n",
       "\n",
       "    .dataframe thead th {\n",
       "        text-align: right;\n",
       "    }\n",
       "</style>\n",
       "<table border=\"1\" class=\"dataframe\">\n",
       "  <thead>\n",
       "    <tr style=\"text-align: right;\">\n",
       "      <th></th>\n",
       "      <th>name</th>\n",
       "      <th>text</th>\n",
       "      <th>type</th>\n",
       "    </tr>\n",
       "  </thead>\n",
       "  <tbody>\n",
       "    <tr>\n",
       "      <th>0</th>\n",
       "      <td>nazareth college</td>\n",
       "      <td>voter education voter turnout voter registrati...</td>\n",
       "      <td>accountability</td>\n",
       "    </tr>\n",
       "    <tr>\n",
       "      <th>1</th>\n",
       "      <td>nazareth college</td>\n",
       "      <td>voter education voter turnout voter registrati...</td>\n",
       "      <td>learning</td>\n",
       "    </tr>\n",
       "    <tr>\n",
       "      <th>2</th>\n",
       "      <td>nazareth college</td>\n",
       "      <td>voter education voter turnout voter registrati...</td>\n",
       "      <td>strategic_capacity</td>\n",
       "    </tr>\n",
       "    <tr>\n",
       "      <th>4</th>\n",
       "      <td>alfred</td>\n",
       "      <td>tricia debertolis alfred university 1 saxon dr...</td>\n",
       "      <td>NaN</td>\n",
       "    </tr>\n",
       "    <tr>\n",
       "      <th>5</th>\n",
       "      <td>allegany college</td>\n",
       "      <td>allegany college   one campus plan  increase v...</td>\n",
       "      <td>accountability</td>\n",
       "    </tr>\n",
       "  </tbody>\n",
       "</table>\n",
       "</div>"
      ],
      "text/plain": [
       "               name                                               text  \\\n",
       "0  nazareth college  voter education voter turnout voter registrati...   \n",
       "1  nazareth college  voter education voter turnout voter registrati...   \n",
       "2  nazareth college  voter education voter turnout voter registrati...   \n",
       "4            alfred  tricia debertolis alfred university 1 saxon dr...   \n",
       "5  allegany college  allegany college   one campus plan  increase v...   \n",
       "\n",
       "                 type  \n",
       "0      accountability  \n",
       "1            learning  \n",
       "2  strategic_capacity  \n",
       "4                 NaN  \n",
       "5      accountability  "
      ]
     },
     "execution_count": 90,
     "metadata": {},
     "output_type": "execute_result"
    }
   ],
   "source": [
    "filtered_df.head()"
   ]
  },
  {
   "cell_type": "markdown",
   "id": "1390ba79-61fe-477f-81ff-5496907910c3",
   "metadata": {},
   "source": [
    "## wrangle data "
   ]
  },
  {
   "cell_type": "code",
   "execution_count": 91,
   "id": "d1f3f003-db54-47ad-970e-d745461171fb",
   "metadata": {},
   "outputs": [],
   "source": [
    "# add row id \n",
    "\n",
    "filtered_df[\"id\"] = filtered_df.index + 1"
   ]
  },
  {
   "cell_type": "code",
   "execution_count": 92,
   "id": "21dfa2e3-e5eb-4de7-81ef-ee4e1e89b998",
   "metadata": {},
   "outputs": [
    {
     "data": {
      "text/html": [
       "<div>\n",
       "<style scoped>\n",
       "    .dataframe tbody tr th:only-of-type {\n",
       "        vertical-align: middle;\n",
       "    }\n",
       "\n",
       "    .dataframe tbody tr th {\n",
       "        vertical-align: top;\n",
       "    }\n",
       "\n",
       "    .dataframe thead th {\n",
       "        text-align: right;\n",
       "    }\n",
       "</style>\n",
       "<table border=\"1\" class=\"dataframe\">\n",
       "  <thead>\n",
       "    <tr style=\"text-align: right;\">\n",
       "      <th></th>\n",
       "      <th>name</th>\n",
       "      <th>text</th>\n",
       "      <th>type</th>\n",
       "      <th>id</th>\n",
       "    </tr>\n",
       "  </thead>\n",
       "  <tbody>\n",
       "    <tr>\n",
       "      <th>0</th>\n",
       "      <td>nazareth college</td>\n",
       "      <td>voter education voter turnout voter registrati...</td>\n",
       "      <td>accountability</td>\n",
       "      <td>1</td>\n",
       "    </tr>\n",
       "    <tr>\n",
       "      <th>1</th>\n",
       "      <td>nazareth college</td>\n",
       "      <td>voter education voter turnout voter registrati...</td>\n",
       "      <td>learning</td>\n",
       "      <td>2</td>\n",
       "    </tr>\n",
       "    <tr>\n",
       "      <th>2</th>\n",
       "      <td>nazareth college</td>\n",
       "      <td>voter education voter turnout voter registrati...</td>\n",
       "      <td>strategic_capacity</td>\n",
       "      <td>3</td>\n",
       "    </tr>\n",
       "    <tr>\n",
       "      <th>4</th>\n",
       "      <td>alfred</td>\n",
       "      <td>tricia debertolis alfred university 1 saxon dr...</td>\n",
       "      <td>NaN</td>\n",
       "      <td>5</td>\n",
       "    </tr>\n",
       "    <tr>\n",
       "      <th>5</th>\n",
       "      <td>allegany college</td>\n",
       "      <td>allegany college   one campus plan  increase v...</td>\n",
       "      <td>accountability</td>\n",
       "      <td>6</td>\n",
       "    </tr>\n",
       "  </tbody>\n",
       "</table>\n",
       "</div>"
      ],
      "text/plain": [
       "               name                                               text  \\\n",
       "0  nazareth college  voter education voter turnout voter registrati...   \n",
       "1  nazareth college  voter education voter turnout voter registrati...   \n",
       "2  nazareth college  voter education voter turnout voter registrati...   \n",
       "4            alfred  tricia debertolis alfred university 1 saxon dr...   \n",
       "5  allegany college  allegany college   one campus plan  increase v...   \n",
       "\n",
       "                 type  id  \n",
       "0      accountability   1  \n",
       "1            learning   2  \n",
       "2  strategic_capacity   3  \n",
       "4                 NaN   5  \n",
       "5      accountability   6  "
      ]
     },
     "execution_count": 92,
     "metadata": {},
     "output_type": "execute_result"
    }
   ],
   "source": [
    "filtered_df.head()"
   ]
  },
  {
   "cell_type": "code",
   "execution_count": 93,
   "id": "ffda39bd-8832-4068-91ad-b4c68cf1ecf7",
   "metadata": {},
   "outputs": [],
   "source": [
    "# rearrange columns \n",
    "cols = filtered_df.columns.tolist()\n",
    "cols = cols[-1:] + cols[:-1]\n",
    "\n",
    "filtered_df = filtered_df[cols]"
   ]
  },
  {
   "cell_type": "code",
   "execution_count": 94,
   "id": "da0551f6-e68e-4595-838a-05af40f38454",
   "metadata": {},
   "outputs": [],
   "source": [
    "acc_df = filtered_df[(filtered_df['type'] == 'accountability') | (filtered_df['type'].isnull())]"
   ]
  },
  {
   "cell_type": "code",
   "execution_count": 95,
   "id": "bb13782b-5920-46b5-81f0-97c071acac56",
   "metadata": {},
   "outputs": [],
   "source": [
    "learn_df = filtered_df[(filtered_df['type'] == 'learning') | (filtered_df['type'].isnull())]"
   ]
  },
  {
   "cell_type": "code",
   "execution_count": 96,
   "id": "e7c73c1d-2c7f-4876-b87e-a03d6c38e9a3",
   "metadata": {},
   "outputs": [],
   "source": [
    "sc_df = filtered_df[(filtered_df['type'] == 'strategic_capacity') | (filtered_df['type'].isnull())]"
   ]
  },
  {
   "cell_type": "code",
   "execution_count": 97,
   "id": "58ae3c02-63ad-4fcb-a534-e146f6eb1fd0",
   "metadata": {},
   "outputs": [
    {
     "data": {
      "text/plain": [
       "NaN               844\n",
       "accountability    377\n",
       "Name: type, dtype: int64"
      ]
     },
     "execution_count": 97,
     "metadata": {},
     "output_type": "execute_result"
    },
    {
     "data": {
      "text/plain": [
       "NaN         844\n",
       "learning    377\n",
       "Name: type, dtype: int64"
      ]
     },
     "execution_count": 97,
     "metadata": {},
     "output_type": "execute_result"
    },
    {
     "data": {
      "text/plain": [
       "NaN                   844\n",
       "strategic_capacity    377\n",
       "Name: type, dtype: int64"
      ]
     },
     "execution_count": 97,
     "metadata": {},
     "output_type": "execute_result"
    }
   ],
   "source": [
    "acc_df['type'].value_counts(dropna = False)\n",
    "learn_df['type'].value_counts(dropna = False)\n",
    "sc_df['type'].value_counts(dropna = False)"
   ]
  },
  {
   "cell_type": "code",
   "execution_count": null,
   "id": "98e6096a-aed8-49c8-9ed9-cbc7acade65a",
   "metadata": {},
   "outputs": [],
   "source": []
  },
  {
   "cell_type": "code",
   "execution_count": null,
   "id": "36078a5a-3552-4106-86bf-204dfd82ab58",
   "metadata": {},
   "outputs": [],
   "source": []
  },
  {
   "cell_type": "code",
   "execution_count": null,
   "id": "2b66897e-f821-4e49-8cdf-ca98b3e2c48f",
   "metadata": {},
   "outputs": [],
   "source": []
  }
 ],
 "metadata": {
  "kernelspec": {
   "display_name": "Python 3 (ipykernel)",
   "language": "python",
   "name": "python3"
  },
  "language_info": {
   "codemirror_mode": {
    "name": "ipython",
    "version": 3
   },
   "file_extension": ".py",
   "mimetype": "text/x-python",
   "name": "python",
   "nbconvert_exporter": "python",
   "pygments_lexer": "ipython3",
   "version": "3.9.15"
  }
 },
 "nbformat": 4,
 "nbformat_minor": 5
}
