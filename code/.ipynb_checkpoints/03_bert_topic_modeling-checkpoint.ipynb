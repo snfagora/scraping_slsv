{
 "cells": [
  {
   "cell_type": "markdown",
   "id": "31d0cf9f",
   "metadata": {},
   "source": [
    "# BERT topic modeling \n",
    "\n",
    "The code is adapted from https://maartengr.github.io/BERTopic/index.html#quick-start "
   ]
  },
  {
   "cell_type": "markdown",
   "id": "b35b2327",
   "metadata": {},
   "source": [
    "## Import pkgs "
   ]
  },
  {
   "cell_type": "code",
   "execution_count": 1,
   "id": "926bc4ad",
   "metadata": {},
   "outputs": [],
   "source": [
    "from bertopic import BERTopic\n",
    "\n",
    "# for word + document embedding\n",
    "from bertopic.backend import WordDocEmbedder\n",
    "import gensim.downloader as api\n",
    "from sentence_transformers import SentenceTransformer\n",
    "\n",
    "import pandas as pd\n",
    "import os\n",
    "from sklearn.datasets import fetch_20newsgroups # for test data\n",
    "\n",
    "# print every ouput\n",
    "from IPython.core.interactiveshell import InteractiveShell\n",
    "InteractiveShell.ast_node_interactivity = \"all\""
   ]
  },
  {
   "cell_type": "code",
   "execution_count": 8,
   "id": "059b0c71",
   "metadata": {},
   "outputs": [
    {
     "data": {
      "text/plain": [
       "'/Users/jaeyeonkim/scraping_slsv/outputs'"
      ]
     },
     "execution_count": 8,
     "metadata": {},
     "output_type": "execute_result"
    }
   ],
   "source": [
    "# print the current wd \n",
    "os.getcwd()\n",
    "\n",
    "# change the current wd \n",
    "os.chdir('/Users/jaeyeonkim/scraping_slsv')"
   ]
  },
  {
   "cell_type": "code",
   "execution_count": 9,
   "id": "7e7b5162",
   "metadata": {},
   "outputs": [
    {
     "data": {
      "text/plain": [
       "'/Users/jaeyeonkim/scraping_slsv'"
      ]
     },
     "execution_count": 9,
     "metadata": {},
     "output_type": "execute_result"
    }
   ],
   "source": [
    "# check the current wd\n",
    "os.getcwd()"
   ]
  },
  {
   "cell_type": "code",
   "execution_count": 40,
   "id": "6017e538",
   "metadata": {},
   "outputs": [],
   "source": [
    "df = pd.read_csv('./outputs/filtered_df.csv')"
   ]
  },
  {
   "cell_type": "code",
   "execution_count": 41,
   "id": "d26a6e5e-882a-471a-b3c2-d70af121f1df",
   "metadata": {},
   "outputs": [
    {
     "data": {
      "text/html": [
       "<div>\n",
       "<style scoped>\n",
       "    .dataframe tbody tr th:only-of-type {\n",
       "        vertical-align: middle;\n",
       "    }\n",
       "\n",
       "    .dataframe tbody tr th {\n",
       "        vertical-align: top;\n",
       "    }\n",
       "\n",
       "    .dataframe thead th {\n",
       "        text-align: right;\n",
       "    }\n",
       "</style>\n",
       "<table border=\"1\" class=\"dataframe\">\n",
       "  <thead>\n",
       "    <tr style=\"text-align: right;\">\n",
       "      <th></th>\n",
       "      <th>text</th>\n",
       "      <th>name</th>\n",
       "    </tr>\n",
       "  </thead>\n",
       "  <tbody>\n",
       "    <tr>\n",
       "      <th>0</th>\n",
       "      <td>voter education voter turnout voter registrat...</td>\n",
       "      <td>2019-2020-Nazareth-College-Action-Plan.pdf</td>\n",
       "    </tr>\n",
       "    <tr>\n",
       "      <th>1</th>\n",
       "      <td>gw votes 2020 action plan honey w nashman cen...</td>\n",
       "      <td>2020-Action-Plan-FINAL.pdf</td>\n",
       "    </tr>\n",
       "    <tr>\n",
       "      <th>2</th>\n",
       "      <td>tricia debertolis alfred university 1 saxon dr...</td>\n",
       "      <td>Action-Plan-Alfred.pdf</td>\n",
       "    </tr>\n",
       "    <tr>\n",
       "      <th>3</th>\n",
       "      <td>allegany college all in one campus plan to in...</td>\n",
       "      <td>Action-Plan-Allegany-College.pdf</td>\n",
       "    </tr>\n",
       "    <tr>\n",
       "      <th>4</th>\n",
       "      <td>all in campus democracy challenge 2016 action...</td>\n",
       "      <td>Action-Plan-Anne-Arundel-Community-College.pdf</td>\n",
       "    </tr>\n",
       "    <tr>\n",
       "      <th>...</th>\n",
       "      <td>...</td>\n",
       "      <td>...</td>\n",
       "    </tr>\n",
       "    <tr>\n",
       "      <th>1221</th>\n",
       "      <td>voter education engagement master plan 429 n c...</td>\n",
       "      <td>Wofford-College-Action-Plan-2018.pdf</td>\n",
       "    </tr>\n",
       "    <tr>\n",
       "      <th>1222</th>\n",
       "      <td>voter education engagement action plan 2022 ex...</td>\n",
       "      <td>Wofford-College-Action-Plan-2022-May.pdf</td>\n",
       "    </tr>\n",
       "    <tr>\n",
       "      <th>1223</th>\n",
       "      <td>worcester state university has aimed to increa...</td>\n",
       "      <td>Worcester-State-University-Action-Plan-2018.pdf</td>\n",
       "    </tr>\n",
       "    <tr>\n",
       "      <th>1224</th>\n",
       "      <td>worcester state university 2020 action plan th...</td>\n",
       "      <td>Worcester-State-University-Action-Plan-2020.pdf</td>\n",
       "    </tr>\n",
       "    <tr>\n",
       "      <th>1225</th>\n",
       "      <td>i executive summary in our mission and vision ...</td>\n",
       "      <td>York-College-Action-Plan-2020.pdf</td>\n",
       "    </tr>\n",
       "  </tbody>\n",
       "</table>\n",
       "<p>1226 rows × 2 columns</p>\n",
       "</div>"
      ],
      "text/plain": [
       "                                                   text  \\\n",
       "0      voter education voter turnout voter registrat...   \n",
       "1      gw votes 2020 action plan honey w nashman cen...   \n",
       "2     tricia debertolis alfred university 1 saxon dr...   \n",
       "3      allegany college all in one campus plan to in...   \n",
       "4      all in campus democracy challenge 2016 action...   \n",
       "...                                                 ...   \n",
       "1221  voter education engagement master plan 429 n c...   \n",
       "1222  voter education engagement action plan 2022 ex...   \n",
       "1223  worcester state university has aimed to increa...   \n",
       "1224  worcester state university 2020 action plan th...   \n",
       "1225  i executive summary in our mission and vision ...   \n",
       "\n",
       "                                                 name  \n",
       "0          2019-2020-Nazareth-College-Action-Plan.pdf  \n",
       "1                          2020-Action-Plan-FINAL.pdf  \n",
       "2                              Action-Plan-Alfred.pdf  \n",
       "3                    Action-Plan-Allegany-College.pdf  \n",
       "4      Action-Plan-Anne-Arundel-Community-College.pdf  \n",
       "...                                               ...  \n",
       "1221             Wofford-College-Action-Plan-2018.pdf  \n",
       "1222         Wofford-College-Action-Plan-2022-May.pdf  \n",
       "1223  Worcester-State-University-Action-Plan-2018.pdf  \n",
       "1224  Worcester-State-University-Action-Plan-2020.pdf  \n",
       "1225                York-College-Action-Plan-2020.pdf  \n",
       "\n",
       "[1226 rows x 2 columns]"
      ]
     },
     "execution_count": 41,
     "metadata": {},
     "output_type": "execute_result"
    }
   ],
   "source": [
    "# check the file \n",
    "df"
   ]
  },
  {
   "cell_type": "markdown",
   "id": "50d5343d-3e62-4e48-ac1e-1c69fd75ff67",
   "metadata": {},
   "source": [
    "# Feature engineering"
   ]
  },
  {
   "cell_type": "code",
   "execution_count": 42,
   "id": "1c179079-da0a-44fe-b50c-4f2957aebac9",
   "metadata": {},
   "outputs": [
    {
     "name": "stderr",
     "output_type": "stream",
     "text": [
      "[nltk_data] Downloading package stopwords to\n",
      "[nltk_data]     /Users/jaeyeonkim/nltk_data...\n",
      "[nltk_data]   Package stopwords is already up-to-date!\n"
     ]
    },
    {
     "data": {
      "text/plain": [
       "True"
      ]
     },
     "execution_count": 42,
     "metadata": {},
     "output_type": "execute_result"
    }
   ],
   "source": [
    "# stopwords dictionary\n",
    "import nltk\n",
    "nltk.download('stopwords')\n",
    "\n",
    "from nltk.corpus import stopwords\n",
    "\n",
    "stop_words = stopwords.words('english')"
   ]
  },
  {
   "cell_type": "code",
   "execution_count": 48,
   "id": "1fd17d64-27b4-4a75-98ac-fffd778cba4d",
   "metadata": {},
   "outputs": [],
   "source": [
    "# using list comprehension\n",
    "df['text'] = df[\"text\"].apply(lambda words: ' '.join(word.lower() for word in words.split() if word not in stop_words))"
   ]
  },
  {
   "cell_type": "markdown",
   "id": "b171d024-5fad-45aa-bd02-acd2cf042f84",
   "metadata": {},
   "source": [
    "## BERT topic modeling"
   ]
  },
  {
   "cell_type": "markdown",
   "id": "c4819509-c6a7-4d46-a642-987177714913",
   "metadata": {},
   "source": [
    "### Silent agenda "
   ]
  },
  {
   "cell_type": "code",
   "execution_count": null,
   "id": "6f2483cc-a13e-4e46-9ce7-056d54abb362",
   "metadata": {},
   "outputs": [],
   "source": [
    "#topic_model = BERTopic(embedding_model=\"all-MiniLM-L6-v2\")\n",
    "\n",
    "from sentence_transformers import SentenceTransformer\n",
    "\n",
    "sentence_model = SentenceTransformer(\"all-MiniLM-L6-v2\")\n",
    "\n",
    "topic_model = BERTopic(embedding_model=sentence_model)\n",
    "\n",
    "# Word embedding model\n",
    "#ft = api.load('fasttext-wiki-news-subwords-300')\n",
    "\n",
    "# Document embedding model\n",
    "#embedding_model = SentenceTransformer(\"all-MiniLM-L6-v2\")\n",
    "\n",
    "# Create a model that uses both language models and pass it through BERTopic\n",
    "#word_doc_embedder = WordDocEmbedder(embedding_model=embedding_model, word_embedding_model=ft)\n",
    "\n",
    "#topic_model = BERTopic(embedding_model=word_doc_embedder)"
   ]
  },
  {
   "cell_type": "code",
   "execution_count": 14,
   "id": "7074665a",
   "metadata": {},
   "outputs": [
    {
     "data": {
      "text/html": [
       "<div>\n",
       "<style scoped>\n",
       "    .dataframe tbody tr th:only-of-type {\n",
       "        vertical-align: middle;\n",
       "    }\n",
       "\n",
       "    .dataframe tbody tr th {\n",
       "        vertical-align: top;\n",
       "    }\n",
       "\n",
       "    .dataframe thead th {\n",
       "        text-align: right;\n",
       "    }\n",
       "</style>\n",
       "<table border=\"1\" class=\"dataframe\">\n",
       "  <thead>\n",
       "    <tr style=\"text-align: right;\">\n",
       "      <th></th>\n",
       "      <th>Topic</th>\n",
       "      <th>Count</th>\n",
       "      <th>Name</th>\n",
       "    </tr>\n",
       "  </thead>\n",
       "  <tbody>\n",
       "    <tr>\n",
       "      <th>0</th>\n",
       "      <td>-1</td>\n",
       "      <td>424</td>\n",
       "      <td>-1_and_the_to_of</td>\n",
       "    </tr>\n",
       "    <tr>\n",
       "      <th>1</th>\n",
       "      <td>0</td>\n",
       "      <td>219</td>\n",
       "      <td>0_the_and_of_to</td>\n",
       "    </tr>\n",
       "    <tr>\n",
       "      <th>2</th>\n",
       "      <td>1</td>\n",
       "      <td>121</td>\n",
       "      <td>1_to_the_and_of</td>\n",
       "    </tr>\n",
       "    <tr>\n",
       "      <th>3</th>\n",
       "      <td>2</td>\n",
       "      <td>55</td>\n",
       "      <td>2_our_campus_the_following</td>\n",
       "    </tr>\n",
       "    <tr>\n",
       "      <th>4</th>\n",
       "      <td>3</td>\n",
       "      <td>48</td>\n",
       "      <td>3_and_the_of_to</td>\n",
       "    </tr>\n",
       "    <tr>\n",
       "      <th>5</th>\n",
       "      <td>4</td>\n",
       "      <td>35</td>\n",
       "      <td>4_to_the_and_of</td>\n",
       "    </tr>\n",
       "    <tr>\n",
       "      <th>6</th>\n",
       "      <td>5</td>\n",
       "      <td>30</td>\n",
       "      <td>5_the_and_to_of</td>\n",
       "    </tr>\n",
       "    <tr>\n",
       "      <th>7</th>\n",
       "      <td>6</td>\n",
       "      <td>30</td>\n",
       "      <td>6_the_to_and_texas</td>\n",
       "    </tr>\n",
       "    <tr>\n",
       "      <th>8</th>\n",
       "      <td>7</td>\n",
       "      <td>29</td>\n",
       "      <td>7_the_to_and_of</td>\n",
       "    </tr>\n",
       "    <tr>\n",
       "      <th>9</th>\n",
       "      <td>8</td>\n",
       "      <td>27</td>\n",
       "      <td>8_asu_the_to_and</td>\n",
       "    </tr>\n",
       "    <tr>\n",
       "      <th>11</th>\n",
       "      <td>9</td>\n",
       "      <td>23</td>\n",
       "      <td>9_and_the_to_of</td>\n",
       "    </tr>\n",
       "    <tr>\n",
       "      <th>10</th>\n",
       "      <td>10</td>\n",
       "      <td>23</td>\n",
       "      <td>10_to_the_we_and</td>\n",
       "    </tr>\n",
       "    <tr>\n",
       "      <th>12</th>\n",
       "      <td>11</td>\n",
       "      <td>22</td>\n",
       "      <td>11_iowa_the_to_and</td>\n",
       "    </tr>\n",
       "    <tr>\n",
       "      <th>13</th>\n",
       "      <td>12</td>\n",
       "      <td>19</td>\n",
       "      <td>12_the_and_umsl_louis</td>\n",
       "    </tr>\n",
       "    <tr>\n",
       "      <th>14</th>\n",
       "      <td>13</td>\n",
       "      <td>19</td>\n",
       "      <td>13_the_and_to_of</td>\n",
       "    </tr>\n",
       "    <tr>\n",
       "      <th>15</th>\n",
       "      <td>14</td>\n",
       "      <td>18</td>\n",
       "      <td>14_to_and_colorado_the</td>\n",
       "    </tr>\n",
       "    <tr>\n",
       "      <th>16</th>\n",
       "      <td>15</td>\n",
       "      <td>16</td>\n",
       "      <td>15_the_and_to_of</td>\n",
       "    </tr>\n",
       "    <tr>\n",
       "      <th>17</th>\n",
       "      <td>16</td>\n",
       "      <td>15</td>\n",
       "      <td>16_and_the_to_in</td>\n",
       "    </tr>\n",
       "    <tr>\n",
       "      <th>18</th>\n",
       "      <td>17</td>\n",
       "      <td>14</td>\n",
       "      <td>17_tcnj_the_to_and</td>\n",
       "    </tr>\n",
       "    <tr>\n",
       "      <th>19</th>\n",
       "      <td>18</td>\n",
       "      <td>12</td>\n",
       "      <td>18_morris_umn_minnesota_student</td>\n",
       "    </tr>\n",
       "    <tr>\n",
       "      <th>20</th>\n",
       "      <td>19</td>\n",
       "      <td>11</td>\n",
       "      <td>19_the_to_wesleyan_and</td>\n",
       "    </tr>\n",
       "    <tr>\n",
       "      <th>21</th>\n",
       "      <td>20</td>\n",
       "      <td>11</td>\n",
       "      <td>20_to_and_the_in</td>\n",
       "    </tr>\n",
       "  </tbody>\n",
       "</table>\n",
       "</div>"
      ],
      "text/plain": [
       "    Topic  Count                             Name\n",
       "0      -1    424                 -1_and_the_to_of\n",
       "1       0    219                  0_the_and_of_to\n",
       "2       1    121                  1_to_the_and_of\n",
       "3       2     55       2_our_campus_the_following\n",
       "4       3     48                  3_and_the_of_to\n",
       "5       4     35                  4_to_the_and_of\n",
       "6       5     30                  5_the_and_to_of\n",
       "7       6     30               6_the_to_and_texas\n",
       "8       7     29                  7_the_to_and_of\n",
       "9       8     27                 8_asu_the_to_and\n",
       "11      9     23                  9_and_the_to_of\n",
       "10     10     23                 10_to_the_we_and\n",
       "12     11     22               11_iowa_the_to_and\n",
       "13     12     19            12_the_and_umsl_louis\n",
       "14     13     19                 13_the_and_to_of\n",
       "15     14     18           14_to_and_colorado_the\n",
       "16     15     16                 15_the_and_to_of\n",
       "17     16     15                 16_and_the_to_in\n",
       "18     17     14               17_tcnj_the_to_and\n",
       "19     18     12  18_morris_umn_minnesota_student\n",
       "20     19     11           19_the_to_wesleyan_and\n",
       "21     20     11                 20_to_and_the_in"
      ]
     },
     "execution_count": 14,
     "metadata": {},
     "output_type": "execute_result"
    }
   ],
   "source": [
    "topics, probs = topic_model.fit_transform(df['text'].unique())\n",
    "\n",
    "topic_model.get_topic_info() # 2 topics: (1) health spending, (2) tax, income, jobs, (3) immigration, trade, (4) education, job creation"
   ]
  },
  {
   "cell_type": "code",
   "execution_count": null,
   "id": "7ad572e2-c0b3-4ad1-8fd6-aa8cf8cf1f51",
   "metadata": {},
   "outputs": [],
   "source": [
    "topic_model.get_topic(0) # heatlh care topic "
   ]
  },
  {
   "cell_type": "code",
   "execution_count": 86,
   "id": "010de9f2-37f1-4478-b1b9-337c79662a45",
   "metadata": {},
   "outputs": [
    {
     "data": {
      "text/plain": [
       "[('tax', 0.18777503804760035),\n",
       " ('flat', 0.06509608083706696),\n",
       " ('income', 0.0422358435166987),\n",
       " ('fair', 0.03976813842409393),\n",
       " ('option', 0.03976813842409393),\n",
       " ('payer', 0.03820079628689287),\n",
       " ('cuts', 0.03690491058008278),\n",
       " ('jobs', 0.03484706739969161),\n",
       " ('options', 0.030855414571679684),\n",
       " ('taxes', 0.03019622287354521)]"
      ]
     },
     "execution_count": 86,
     "metadata": {},
     "output_type": "execute_result"
    }
   ],
   "source": [
    "topic_model.get_topic(1) # tax, income, jobs"
   ]
  },
  {
   "cell_type": "code",
   "execution_count": 87,
   "id": "23231ce5-a51c-459a-8986-466386336fc8",
   "metadata": {},
   "outputs": [
    {
     "data": {
      "text/plain": [
       "[('immigration', 0.2714462824557912),\n",
       " ('illegal', 0.12668919139449786),\n",
       " ('overseas', 0.08223374908152511),\n",
       " ('trade', 0.07277239210629413),\n",
       " ('effect', 0.06725180219713811),\n",
       " ('spending', 0.06209583315436263),\n",
       " ('state', 0.059448475650289455),\n",
       " ('federal', 0.05515291849049353),\n",
       " ('economy', 0.05398318381800181),\n",
       " ('government', 0.053435065933553905)]"
      ]
     },
     "execution_count": 87,
     "metadata": {},
     "output_type": "execute_result"
    }
   ],
   "source": [
    "topic_model.get_topic(2) # immigration, trade"
   ]
  },
  {
   "cell_type": "code",
   "execution_count": 88,
   "id": "c196b5f9-6a79-442a-8d11-1b91c0f65c96",
   "metadata": {},
   "outputs": [
    {
     "data": {
      "text/plain": [
       "[('education', 0.27811338413014397),\n",
       " ('jobs', 0.16768513635941823),\n",
       " ('job', 0.15503310190708683),\n",
       " ('really', 0.14602596271260546),\n",
       " ('creation', 0.12034115778220543),\n",
       " ('waste', 0.1118396762896731),\n",
       " ('economy', 0.08296362986766594),\n",
       " ('cuts', 0.07769454858964796),\n",
       " ('bureacratic', 0.07473712806978168),\n",
       " ('neet', 0.07473712806978168)]"
      ]
     },
     "execution_count": 88,
     "metadata": {},
     "output_type": "execute_result"
    }
   ],
   "source": [
    "topic_model.get_topic(3) # education, job creation"
   ]
  }
 ],
 "metadata": {
  "kernelspec": {
   "display_name": "Python 3 (ipykernel)",
   "language": "python",
   "name": "python3"
  },
  "language_info": {
   "codemirror_mode": {
    "name": "ipython",
    "version": 3
   },
   "file_extension": ".py",
   "mimetype": "text/x-python",
   "name": "python",
   "nbconvert_exporter": "python",
   "pygments_lexer": "ipython3",
   "version": "3.9.12"
  }
 },
 "nbformat": 4,
 "nbformat_minor": 5
}
