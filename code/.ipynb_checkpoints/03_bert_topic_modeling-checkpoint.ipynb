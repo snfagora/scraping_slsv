{
 "cells": [
  {
   "cell_type": "markdown",
   "id": "31d0cf9f",
   "metadata": {},
   "source": [
    "# BERT topic modeling \n",
    "\n",
    "The code is adapted from https://maartengr.github.io/BERTopic/index.html#quick-start "
   ]
  },
  {
   "cell_type": "markdown",
   "id": "b35b2327",
   "metadata": {},
   "source": [
    "## Import pkgs "
   ]
  },
  {
   "cell_type": "code",
   "execution_count": 1,
   "id": "926bc4ad",
   "metadata": {},
   "outputs": [],
   "source": [
    "from bertopic import BERTopic\n",
    "\n",
    "# for word + document embedding\n",
    "from bertopic.backend import WordDocEmbedder\n",
    "import gensim.downloader as api\n",
    "from sentence_transformers import SentenceTransformer\n",
    "\n",
    "import pandas as pd\n",
    "import os\n",
    "from sklearn.datasets import fetch_20newsgroups # for test data\n",
    "\n",
    "# print every ouput\n",
    "from IPython.core.interactiveshell import InteractiveShell\n",
    "InteractiveShell.ast_node_interactivity = \"all\""
   ]
  },
  {
   "cell_type": "code",
   "execution_count": 2,
   "id": "059b0c71",
   "metadata": {},
   "outputs": [
    {
     "data": {
      "text/plain": [
       "'/Users/jaeyeonkim/scraping_slsv/code'"
      ]
     },
     "execution_count": 2,
     "metadata": {},
     "output_type": "execute_result"
    }
   ],
   "source": [
    "# print the current wd \n",
    "os.getcwd()\n",
    "\n",
    "# change the current wd \n",
    "os.chdir('/Users/jaeyeonkim/scraping_slsv')"
   ]
  },
  {
   "cell_type": "code",
   "execution_count": 3,
   "id": "7e7b5162",
   "metadata": {},
   "outputs": [
    {
     "data": {
      "text/plain": [
       "'/Users/jaeyeonkim/scraping_slsv'"
      ]
     },
     "execution_count": 3,
     "metadata": {},
     "output_type": "execute_result"
    }
   ],
   "source": [
    "# check the current wd\n",
    "os.getcwd()"
   ]
  },
  {
   "cell_type": "code",
   "execution_count": 4,
   "id": "6017e538",
   "metadata": {},
   "outputs": [],
   "source": [
    "df = pd.read_csv('./outputs/filtered_df.csv')"
   ]
  },
  {
   "cell_type": "code",
   "execution_count": 5,
   "id": "d26a6e5e-882a-471a-b3c2-d70af121f1df",
   "metadata": {},
   "outputs": [
    {
     "data": {
      "text/html": [
       "<div>\n",
       "<style scoped>\n",
       "    .dataframe tbody tr th:only-of-type {\n",
       "        vertical-align: middle;\n",
       "    }\n",
       "\n",
       "    .dataframe tbody tr th {\n",
       "        vertical-align: top;\n",
       "    }\n",
       "\n",
       "    .dataframe thead th {\n",
       "        text-align: right;\n",
       "    }\n",
       "</style>\n",
       "<table border=\"1\" class=\"dataframe\">\n",
       "  <thead>\n",
       "    <tr style=\"text-align: right;\">\n",
       "      <th></th>\n",
       "      <th>text</th>\n",
       "      <th>name</th>\n",
       "    </tr>\n",
       "  </thead>\n",
       "  <tbody>\n",
       "    <tr>\n",
       "      <th>0</th>\n",
       "      <td>voter education voter turnout voter registrat...</td>\n",
       "      <td>2019-2020-Nazareth-College-Action-Plan.pdf</td>\n",
       "    </tr>\n",
       "    <tr>\n",
       "      <th>1</th>\n",
       "      <td>gw votes 2020 action plan honey w nashman cen...</td>\n",
       "      <td>2020-Action-Plan-FINAL.pdf</td>\n",
       "    </tr>\n",
       "    <tr>\n",
       "      <th>2</th>\n",
       "      <td>tricia debertolis alfred university 1 saxon dr...</td>\n",
       "      <td>Action-Plan-Alfred.pdf</td>\n",
       "    </tr>\n",
       "    <tr>\n",
       "      <th>3</th>\n",
       "      <td>allegany college all in one campus plan to in...</td>\n",
       "      <td>Action-Plan-Allegany-College.pdf</td>\n",
       "    </tr>\n",
       "    <tr>\n",
       "      <th>4</th>\n",
       "      <td>all in campus democracy challenge 2016 action...</td>\n",
       "      <td>Action-Plan-Anne-Arundel-Community-College.pdf</td>\n",
       "    </tr>\n",
       "    <tr>\n",
       "      <th>...</th>\n",
       "      <td>...</td>\n",
       "      <td>...</td>\n",
       "    </tr>\n",
       "    <tr>\n",
       "      <th>1221</th>\n",
       "      <td>voter education engagement master plan 429 n c...</td>\n",
       "      <td>Wofford-College-Action-Plan-2018.pdf</td>\n",
       "    </tr>\n",
       "    <tr>\n",
       "      <th>1222</th>\n",
       "      <td>voter education engagement action plan 2022 ex...</td>\n",
       "      <td>Wofford-College-Action-Plan-2022-May.pdf</td>\n",
       "    </tr>\n",
       "    <tr>\n",
       "      <th>1223</th>\n",
       "      <td>worcester state university has aimed to increa...</td>\n",
       "      <td>Worcester-State-University-Action-Plan-2018.pdf</td>\n",
       "    </tr>\n",
       "    <tr>\n",
       "      <th>1224</th>\n",
       "      <td>worcester state university 2020 action plan th...</td>\n",
       "      <td>Worcester-State-University-Action-Plan-2020.pdf</td>\n",
       "    </tr>\n",
       "    <tr>\n",
       "      <th>1225</th>\n",
       "      <td>i executive summary in our mission and vision ...</td>\n",
       "      <td>York-College-Action-Plan-2020.pdf</td>\n",
       "    </tr>\n",
       "  </tbody>\n",
       "</table>\n",
       "<p>1226 rows × 2 columns</p>\n",
       "</div>"
      ],
      "text/plain": [
       "                                                   text  \\\n",
       "0      voter education voter turnout voter registrat...   \n",
       "1      gw votes 2020 action plan honey w nashman cen...   \n",
       "2     tricia debertolis alfred university 1 saxon dr...   \n",
       "3      allegany college all in one campus plan to in...   \n",
       "4      all in campus democracy challenge 2016 action...   \n",
       "...                                                 ...   \n",
       "1221  voter education engagement master plan 429 n c...   \n",
       "1222  voter education engagement action plan 2022 ex...   \n",
       "1223  worcester state university has aimed to increa...   \n",
       "1224  worcester state university 2020 action plan th...   \n",
       "1225  i executive summary in our mission and vision ...   \n",
       "\n",
       "                                                 name  \n",
       "0          2019-2020-Nazareth-College-Action-Plan.pdf  \n",
       "1                          2020-Action-Plan-FINAL.pdf  \n",
       "2                              Action-Plan-Alfred.pdf  \n",
       "3                    Action-Plan-Allegany-College.pdf  \n",
       "4      Action-Plan-Anne-Arundel-Community-College.pdf  \n",
       "...                                               ...  \n",
       "1221             Wofford-College-Action-Plan-2018.pdf  \n",
       "1222         Wofford-College-Action-Plan-2022-May.pdf  \n",
       "1223  Worcester-State-University-Action-Plan-2018.pdf  \n",
       "1224  Worcester-State-University-Action-Plan-2020.pdf  \n",
       "1225                York-College-Action-Plan-2020.pdf  \n",
       "\n",
       "[1226 rows x 2 columns]"
      ]
     },
     "execution_count": 5,
     "metadata": {},
     "output_type": "execute_result"
    }
   ],
   "source": [
    "# check the file \n",
    "df"
   ]
  },
  {
   "cell_type": "markdown",
   "id": "b171d024-5fad-45aa-bd02-acd2cf042f84",
   "metadata": {},
   "source": [
    "## BERT topic modeling"
   ]
  },
  {
   "cell_type": "markdown",
   "id": "03f6eb37-4e50-4e7d-9be2-8e87ed8197cc",
   "metadata": {},
   "source": [
    "### Training"
   ]
  },
  {
   "cell_type": "code",
   "execution_count": 9,
   "id": "6f2483cc-a13e-4e46-9ce7-056d54abb362",
   "metadata": {},
   "outputs": [],
   "source": [
    "from bertopic import BERTopic\n",
    "from sklearn.feature_extraction.text import CountVectorizer\n",
    "\n",
    "vectorizer_model = CountVectorizer(stop_words=\"english\")\n",
    "\n",
    "docs = df['text']"
   ]
  },
  {
   "cell_type": "code",
   "execution_count": 102,
   "id": "95883f95-96c4-44f5-89ba-615ae539e585",
   "metadata": {},
   "outputs": [],
   "source": [
    "# dimension reduction tools\n",
    "from umap import UMAP\n",
    "\n",
    "umap_model = UMAP(n_neighbors=15, n_components=5, min_dist=0.0, metric='cosine')\n",
    "\n",
    "from hdbscan import HDBSCAN\n",
    "\n",
    "hdbscan_model = HDBSCAN(min_cluster_size=10, metric='euclidean', prediction_data=True)\n",
    "\n",
    "from sklearn.decomposition import PCA\n",
    "\n",
    "dim_model = PCA(n_components=5)"
   ]
  },
  {
   "cell_type": "code",
   "execution_count": 103,
   "id": "e3e3f814-6eea-4ecb-aa06-0d35a1d2b054",
   "metadata": {},
   "outputs": [],
   "source": [
    "# importing random module\n",
    "import random\n",
    " \n",
    "random.seed(1234)"
   ]
  },
  {
   "cell_type": "code",
   "execution_count": 56,
   "id": "9bcebb4f-f3be-4b1a-b4aa-9c836240115b",
   "metadata": {},
   "outputs": [],
   "source": [
    "# embeddings\n",
    "from sentence_transformers import SentenceTransformer\n",
    "\n",
    "sentence_model = SentenceTransformer(\"all-MiniLM-L6-v2\")\n",
    "embeddings = sentence_model.encode(docs, show_progress_bar=False)"
   ]
  },
  {
   "cell_type": "code",
   "execution_count": 104,
   "id": "0d490a1e-45b6-42e4-9268-85f6597af236",
   "metadata": {},
   "outputs": [],
   "source": [
    "topic_model = BERTopic(nr_topics=\"auto\", # topic reduction\n",
    "                      n_gram_range = (1,2), \n",
    "                      embedding_model=sentence_model, # embedding model\n",
    "                      vectorizer_model=vectorizer_model, # remove stop words\n",
    "                      #diversity=0.2, # diversify topic representation\n",
    "                      umap_model=umap_model, # dimension reduction \n",
    "                      hdbscan_model=hdbscan_model) # reducing the embeddings with HDBSCAN"
   ]
  },
  {
   "cell_type": "code",
   "execution_count": 105,
   "id": "961cfe46-e7e2-476f-95a9-053bb58025b9",
   "metadata": {},
   "outputs": [],
   "source": [
    "topics, probs = topic_model.fit_transform(docs, embeddings)"
   ]
  },
  {
   "cell_type": "code",
   "execution_count": 106,
   "id": "7c13139c-b9df-4166-9882-2d04ddbe2820",
   "metadata": {},
   "outputs": [],
   "source": [
    "# save model\n",
    "topic_model.save('./outputs/my_model')"
   ]
  },
  {
   "cell_type": "code",
   "execution_count": 107,
   "id": "04ffa7da-ed5c-44a8-8272-dc300a1c6380",
   "metadata": {},
   "outputs": [
    {
     "data": {
      "text/plain": [
       "<bertopic._bertopic.BERTopic at 0x7fcdf2eecd90>"
      ]
     },
     "execution_count": 107,
     "metadata": {},
     "output_type": "execute_result"
    }
   ],
   "source": [
    "# load model \n",
    "BERTopic.load('./outputs/my_model')"
   ]
  },
  {
   "cell_type": "code",
   "execution_count": 108,
   "id": "7074665a",
   "metadata": {},
   "outputs": [
    {
     "data": {
      "text/html": [
       "<div>\n",
       "<style scoped>\n",
       "    .dataframe tbody tr th:only-of-type {\n",
       "        vertical-align: middle;\n",
       "    }\n",
       "\n",
       "    .dataframe tbody tr th {\n",
       "        vertical-align: top;\n",
       "    }\n",
       "\n",
       "    .dataframe thead th {\n",
       "        text-align: right;\n",
       "    }\n",
       "</style>\n",
       "<table border=\"1\" class=\"dataframe\">\n",
       "  <thead>\n",
       "    <tr style=\"text-align: right;\">\n",
       "      <th></th>\n",
       "      <th>Topic</th>\n",
       "      <th>Count</th>\n",
       "      <th>Name</th>\n",
       "    </tr>\n",
       "  </thead>\n",
       "  <tbody>\n",
       "    <tr>\n",
       "      <th>0</th>\n",
       "      <td>0</td>\n",
       "      <td>1207</td>\n",
       "      <td>0_students_student_voter_campus</td>\n",
       "    </tr>\n",
       "    <tr>\n",
       "      <th>1</th>\n",
       "      <td>1</td>\n",
       "      <td>19</td>\n",
       "      <td>1_students_voter_campus_registration</td>\n",
       "    </tr>\n",
       "  </tbody>\n",
       "</table>\n",
       "</div>"
      ],
      "text/plain": [
       "   Topic  Count                                  Name\n",
       "0      0   1207       0_students_student_voter_campus\n",
       "1      1     19  1_students_voter_campus_registration"
      ]
     },
     "execution_count": 108,
     "metadata": {},
     "output_type": "execute_result"
    }
   ],
   "source": [
    "topic_model.get_topic_info() "
   ]
  },
  {
   "cell_type": "code",
   "execution_count": 90,
   "id": "54e289cc-d935-46e9-a3d2-cf3c7e3ba1ad",
   "metadata": {},
   "outputs": [
    {
     "data": {
      "text/plain": [
       "[('students', 0.05859358044044818),\n",
       " ('engagement', 0.0577106395833715),\n",
       " ('voter', 0.05257463868588628),\n",
       " ('campus', 0.044636258197646175),\n",
       " ('community', 0.0405975180672147),\n",
       " ('voting', 0.03476439981645081),\n",
       " ('plan', 0.03180783518510186),\n",
       " ('vote', 0.025119526311978918),\n",
       " ('democratic', 0.01982934758447438),\n",
       " ('elections', 0.018830973798583436)]"
      ]
     },
     "execution_count": 90,
     "metadata": {},
     "output_type": "execute_result"
    }
   ],
   "source": [
    "topic_model.get_topic(0)[:20]"
   ]
  },
  {
   "cell_type": "markdown",
   "id": "5b6dea2c-aa31-467e-9317-517ed1e46f32",
   "metadata": {},
   "source": [
    "### Visualization"
   ]
  },
  {
   "cell_type": "code",
   "execution_count": 76,
   "id": "cfa07b7d-568c-4952-8a52-681c17b14c07",
   "metadata": {},
   "outputs": [],
   "source": [
    "fig = topic_model.visualize_topics()\n",
    "fig.write_html(\"./outputs/topic.html\")"
   ]
  },
  {
   "cell_type": "code",
   "execution_count": 77,
   "id": "92b48a1f-b8f6-48d5-b7cb-58950d7e9d88",
   "metadata": {},
   "outputs": [
    {
     "data": {
      "application/vnd.plotly.v1+json": {
       "config": {
        "plotlyServerURL": "https://plot.ly"
       },
       "data": [
        {
         "hoverinfo": "text",
         "marker": {
          "color": "rgb(61,153,112)"
         },
         "mode": "lines",
         "type": "scatter",
         "x": [
          0,
          0.30065885359960637,
          0.30065885359960637,
          0
         ],
         "xaxis": "x",
         "y": [
          -5,
          -5,
          -15,
          -15
         ],
         "yaxis": "y"
        },
        {
         "hoverinfo": "text",
         "marker": {
          "color": "rgb(255,65,54)"
         },
         "mode": "lines",
         "type": "scatter",
         "x": [
          0,
          0.2316595418115341,
          0.2316595418115341,
          0
         ],
         "xaxis": "x",
         "y": [
          -25,
          -25,
          -35,
          -35
         ],
         "yaxis": "y"
        },
        {
         "hoverinfo": "text",
         "marker": {
          "color": "rgb(255,65,54)"
         },
         "mode": "lines",
         "type": "scatter",
         "x": [
          0,
          0.35376768943772213,
          0.35376768943772213,
          0
         ],
         "xaxis": "x",
         "y": [
          -45,
          -45,
          -55,
          -55
         ],
         "yaxis": "y"
        },
        {
         "hoverinfo": "text",
         "marker": {
          "color": "rgb(255,65,54)"
         },
         "mode": "lines",
         "type": "scatter",
         "x": [
          0.2316595418115341,
          0.37677904009735574,
          0.37677904009735574,
          0.35376768943772213
         ],
         "xaxis": "x",
         "y": [
          -30,
          -30,
          -50,
          -50
         ],
         "yaxis": "y"
        },
        {
         "hoverinfo": "text",
         "marker": {
          "color": "rgb(255,65,54)"
         },
         "mode": "lines",
         "type": "scatter",
         "x": [
          0,
          0.24029410990809957,
          0.24029410990809957,
          0
         ],
         "xaxis": "x",
         "y": [
          -75,
          -75,
          -85,
          -85
         ],
         "yaxis": "y"
        },
        {
         "hoverinfo": "text",
         "marker": {
          "color": "rgb(255,65,54)"
         },
         "mode": "lines",
         "type": "scatter",
         "x": [
          0,
          0.4050576586710602,
          0.4050576586710602,
          0.24029410990809957
         ],
         "xaxis": "x",
         "y": [
          -65,
          -65,
          -80,
          -80
         ],
         "yaxis": "y"
        },
        {
         "hoverinfo": "text",
         "marker": {
          "color": "rgb(255,65,54)"
         },
         "mode": "lines",
         "type": "scatter",
         "x": [
          0.37677904009735574,
          0.5333027284790182,
          0.5333027284790182,
          0.4050576586710602
         ],
         "xaxis": "x",
         "y": [
          -40,
          -40,
          -72.5,
          -72.5
         ],
         "yaxis": "y"
        },
        {
         "hoverinfo": "text",
         "marker": {
          "color": "rgb(255,65,54)"
         },
         "mode": "lines",
         "type": "scatter",
         "x": [
          0,
          0.16893525129670584,
          0.16893525129670584,
          0
         ],
         "xaxis": "x",
         "y": [
          -115,
          -115,
          -125,
          -125
         ],
         "yaxis": "y"
        },
        {
         "hoverinfo": "text",
         "marker": {
          "color": "rgb(255,65,54)"
         },
         "mode": "lines",
         "type": "scatter",
         "x": [
          0,
          0.23698773099786347,
          0.23698773099786347,
          0.16893525129670584
         ],
         "xaxis": "x",
         "y": [
          -105,
          -105,
          -120,
          -120
         ],
         "yaxis": "y"
        },
        {
         "hoverinfo": "text",
         "marker": {
          "color": "rgb(255,65,54)"
         },
         "mode": "lines",
         "type": "scatter",
         "x": [
          0,
          0.2707770775450502,
          0.2707770775450502,
          0.23698773099786347
         ],
         "xaxis": "x",
         "y": [
          -95,
          -95,
          -112.5,
          -112.5
         ],
         "yaxis": "y"
        },
        {
         "hoverinfo": "text",
         "marker": {
          "color": "rgb(255,65,54)"
         },
         "mode": "lines",
         "type": "scatter",
         "x": [
          0,
          0.17197710144353415,
          0.17197710144353415,
          0
         ],
         "xaxis": "x",
         "y": [
          -145,
          -145,
          -155,
          -155
         ],
         "yaxis": "y"
        },
        {
         "hoverinfo": "text",
         "marker": {
          "color": "rgb(255,65,54)"
         },
         "mode": "lines",
         "type": "scatter",
         "x": [
          0,
          0.2216267863266031,
          0.2216267863266031,
          0.17197710144353415
         ],
         "xaxis": "x",
         "y": [
          -135,
          -135,
          -150,
          -150
         ],
         "yaxis": "y"
        },
        {
         "hoverinfo": "text",
         "marker": {
          "color": "rgb(255,65,54)"
         },
         "mode": "lines",
         "type": "scatter",
         "x": [
          0,
          0.20010985093381797,
          0.20010985093381797,
          0
         ],
         "xaxis": "x",
         "y": [
          -165,
          -165,
          -175,
          -175
         ],
         "yaxis": "y"
        },
        {
         "hoverinfo": "text",
         "marker": {
          "color": "rgb(255,65,54)"
         },
         "mode": "lines",
         "type": "scatter",
         "x": [
          0,
          0.255576878991755,
          0.255576878991755,
          0
         ],
         "xaxis": "x",
         "y": [
          -185,
          -185,
          -195,
          -195
         ],
         "yaxis": "y"
        },
        {
         "hoverinfo": "text",
         "marker": {
          "color": "rgb(255,65,54)"
         },
         "mode": "lines",
         "type": "scatter",
         "x": [
          0.20010985093381797,
          0.35459956636670165,
          0.35459956636670165,
          0.255576878991755
         ],
         "xaxis": "x",
         "y": [
          -170,
          -170,
          -190,
          -190
         ],
         "yaxis": "y"
        },
        {
         "hoverinfo": "text",
         "marker": {
          "color": "rgb(255,65,54)"
         },
         "mode": "lines",
         "type": "scatter",
         "x": [
          0.2216267863266031,
          0.4387654957909551,
          0.4387654957909551,
          0.35459956636670165
         ],
         "xaxis": "x",
         "y": [
          -142.5,
          -142.5,
          -180,
          -180
         ],
         "yaxis": "y"
        },
        {
         "hoverinfo": "text",
         "marker": {
          "color": "rgb(255,65,54)"
         },
         "mode": "lines",
         "type": "scatter",
         "x": [
          0.2707770775450502,
          0.639604681842216,
          0.639604681842216,
          0.4387654957909551
         ],
         "xaxis": "x",
         "y": [
          -103.75,
          -103.75,
          -161.25,
          -161.25
         ],
         "yaxis": "y"
        },
        {
         "hoverinfo": "text",
         "marker": {
          "color": "rgb(255,65,54)"
         },
         "mode": "lines",
         "type": "scatter",
         "x": [
          0.5333027284790182,
          0.8701566031697644,
          0.8701566031697644,
          0.639604681842216
         ],
         "xaxis": "x",
         "y": [
          -56.25,
          -56.25,
          -132.5,
          -132.5
         ],
         "yaxis": "y"
        },
        {
         "hoverinfo": "text",
         "marker": {
          "color": "rgb(0,116,217)"
         },
         "mode": "lines",
         "type": "scatter",
         "x": [
          0.30065885359960637,
          1.0806657160933058,
          1.0806657160933058,
          0.8701566031697644
         ],
         "xaxis": "x",
         "y": [
          -10,
          -10,
          -94.375,
          -94.375
         ],
         "yaxis": "y"
        },
        {
         "hoverinfo": "text",
         "marker": {
          "color": "rgb(35,205,205)"
         },
         "mode": "lines",
         "type": "scatter",
         "x": [
          0,
          0.6264319168452863,
          0.6264319168452863,
          0
         ],
         "xaxis": "x",
         "y": [
          -205,
          -205,
          -215,
          -215
         ],
         "yaxis": "y"
        },
        {
         "hoverinfo": "text",
         "marker": {
          "color": "rgb(133,20,75)"
         },
         "mode": "lines",
         "type": "scatter",
         "x": [
          0,
          0.21258538977192246,
          0.21258538977192246,
          0
         ],
         "xaxis": "x",
         "y": [
          -235,
          -235,
          -245,
          -245
         ],
         "yaxis": "y"
        },
        {
         "hoverinfo": "text",
         "marker": {
          "color": "rgb(133,20,75)"
         },
         "mode": "lines",
         "type": "scatter",
         "x": [
          0,
          0.41325178942750695,
          0.41325178942750695,
          0.21258538977192246
         ],
         "xaxis": "x",
         "y": [
          -225,
          -225,
          -240,
          -240
         ],
         "yaxis": "y"
        },
        {
         "hoverinfo": "text",
         "marker": {
          "color": "rgb(133,20,75)"
         },
         "mode": "lines",
         "type": "scatter",
         "x": [
          0,
          0.33927591465798007,
          0.33927591465798007,
          0
         ],
         "xaxis": "x",
         "y": [
          -275,
          -275,
          -285,
          -285
         ],
         "yaxis": "y"
        },
        {
         "hoverinfo": "text",
         "marker": {
          "color": "rgb(133,20,75)"
         },
         "mode": "lines",
         "type": "scatter",
         "x": [
          0,
          0.39166624205343814,
          0.39166624205343814,
          0.33927591465798007
         ],
         "xaxis": "x",
         "y": [
          -265,
          -265,
          -280,
          -280
         ],
         "yaxis": "y"
        },
        {
         "hoverinfo": "text",
         "marker": {
          "color": "rgb(133,20,75)"
         },
         "mode": "lines",
         "type": "scatter",
         "x": [
          0,
          0.5074820043483151,
          0.5074820043483151,
          0.39166624205343814
         ],
         "xaxis": "x",
         "y": [
          -255,
          -255,
          -272.5,
          -272.5
         ],
         "yaxis": "y"
        },
        {
         "hoverinfo": "text",
         "marker": {
          "color": "rgb(133,20,75)"
         },
         "mode": "lines",
         "type": "scatter",
         "x": [
          0.41325178942750695,
          0.5989922631815395,
          0.5989922631815395,
          0.5074820043483151
         ],
         "xaxis": "x",
         "y": [
          -232.5,
          -232.5,
          -263.75,
          -263.75
         ],
         "yaxis": "y"
        },
        {
         "hoverinfo": "text",
         "marker": {
          "color": "rgb(133,20,75)"
         },
         "mode": "lines",
         "type": "scatter",
         "x": [
          0,
          0.3464408512664138,
          0.3464408512664138,
          0
         ],
         "xaxis": "x",
         "y": [
          -315,
          -315,
          -325,
          -325
         ],
         "yaxis": "y"
        },
        {
         "hoverinfo": "text",
         "marker": {
          "color": "rgb(133,20,75)"
         },
         "mode": "lines",
         "type": "scatter",
         "x": [
          0,
          0.4160965131239822,
          0.4160965131239822,
          0.3464408512664138
         ],
         "xaxis": "x",
         "y": [
          -305,
          -305,
          -320,
          -320
         ],
         "yaxis": "y"
        },
        {
         "hoverinfo": "text",
         "marker": {
          "color": "rgb(133,20,75)"
         },
         "mode": "lines",
         "type": "scatter",
         "x": [
          0,
          0.27490676284998455,
          0.27490676284998455,
          0
         ],
         "xaxis": "x",
         "y": [
          -335,
          -335,
          -345,
          -345
         ],
         "yaxis": "y"
        },
        {
         "hoverinfo": "text",
         "marker": {
          "color": "rgb(133,20,75)"
         },
         "mode": "lines",
         "type": "scatter",
         "x": [
          0,
          0.2790953219959621,
          0.2790953219959621,
          0
         ],
         "xaxis": "x",
         "y": [
          -355,
          -355,
          -365,
          -365
         ],
         "yaxis": "y"
        },
        {
         "hoverinfo": "text",
         "marker": {
          "color": "rgb(133,20,75)"
         },
         "mode": "lines",
         "type": "scatter",
         "x": [
          0.27490676284998455,
          0.4368797298885661,
          0.4368797298885661,
          0.2790953219959621
         ],
         "xaxis": "x",
         "y": [
          -340,
          -340,
          -360,
          -360
         ],
         "yaxis": "y"
        },
        {
         "hoverinfo": "text",
         "marker": {
          "color": "rgb(133,20,75)"
         },
         "mode": "lines",
         "type": "scatter",
         "x": [
          0.4160965131239822,
          0.5476244669199664,
          0.5476244669199664,
          0.4368797298885661
         ],
         "xaxis": "x",
         "y": [
          -312.5,
          -312.5,
          -350,
          -350
         ],
         "yaxis": "y"
        },
        {
         "hoverinfo": "text",
         "marker": {
          "color": "rgb(133,20,75)"
         },
         "mode": "lines",
         "type": "scatter",
         "x": [
          0,
          0.615862563522946,
          0.615862563522946,
          0.5476244669199664
         ],
         "xaxis": "x",
         "y": [
          -295,
          -295,
          -331.25,
          -331.25
         ],
         "yaxis": "y"
        },
        {
         "hoverinfo": "text",
         "marker": {
          "color": "rgb(133,20,75)"
         },
         "mode": "lines",
         "type": "scatter",
         "x": [
          0.5989922631815395,
          0.9938434185224091,
          0.9938434185224091,
          0.615862563522946
         ],
         "xaxis": "x",
         "y": [
          -248.125,
          -248.125,
          -313.125,
          -313.125
         ],
         "yaxis": "y"
        },
        {
         "hoverinfo": "text",
         "marker": {
          "color": "rgb(0,116,217)"
         },
         "mode": "lines",
         "type": "scatter",
         "x": [
          0.6264319168452863,
          1.2481717248288313,
          1.2481717248288313,
          0.9938434185224091
         ],
         "xaxis": "x",
         "y": [
          -210,
          -210,
          -280.625,
          -280.625
         ],
         "yaxis": "y"
        },
        {
         "hoverinfo": "text",
         "marker": {
          "color": "rgb(0,116,217)"
         },
         "mode": "lines",
         "type": "scatter",
         "x": [
          1.0806657160933058,
          1.9324943011999636,
          1.9324943011999636,
          1.2481717248288313
         ],
         "xaxis": "x",
         "y": [
          -52.1875,
          -52.1875,
          -245.3125,
          -245.3125
         ],
         "yaxis": "y"
        }
       ],
       "layout": {
        "autosize": false,
        "height": 755,
        "hoverlabel": {
         "bgcolor": "white",
         "font": {
          "family": "Rockwell",
          "size": 16
         }
        },
        "hovermode": "closest",
        "plot_bgcolor": "#ECEFF1",
        "showlegend": false,
        "template": {
         "data": {
          "bar": [
           {
            "error_x": {
             "color": "#2a3f5f"
            },
            "error_y": {
             "color": "#2a3f5f"
            },
            "marker": {
             "line": {
              "color": "white",
              "width": 0.5
             },
             "pattern": {
              "fillmode": "overlay",
              "size": 10,
              "solidity": 0.2
             }
            },
            "type": "bar"
           }
          ],
          "barpolar": [
           {
            "marker": {
             "line": {
              "color": "white",
              "width": 0.5
             },
             "pattern": {
              "fillmode": "overlay",
              "size": 10,
              "solidity": 0.2
             }
            },
            "type": "barpolar"
           }
          ],
          "carpet": [
           {
            "aaxis": {
             "endlinecolor": "#2a3f5f",
             "gridcolor": "#C8D4E3",
             "linecolor": "#C8D4E3",
             "minorgridcolor": "#C8D4E3",
             "startlinecolor": "#2a3f5f"
            },
            "baxis": {
             "endlinecolor": "#2a3f5f",
             "gridcolor": "#C8D4E3",
             "linecolor": "#C8D4E3",
             "minorgridcolor": "#C8D4E3",
             "startlinecolor": "#2a3f5f"
            },
            "type": "carpet"
           }
          ],
          "choropleth": [
           {
            "colorbar": {
             "outlinewidth": 0,
             "ticks": ""
            },
            "type": "choropleth"
           }
          ],
          "contour": [
           {
            "colorbar": {
             "outlinewidth": 0,
             "ticks": ""
            },
            "colorscale": [
             [
              0,
              "#0d0887"
             ],
             [
              0.1111111111111111,
              "#46039f"
             ],
             [
              0.2222222222222222,
              "#7201a8"
             ],
             [
              0.3333333333333333,
              "#9c179e"
             ],
             [
              0.4444444444444444,
              "#bd3786"
             ],
             [
              0.5555555555555556,
              "#d8576b"
             ],
             [
              0.6666666666666666,
              "#ed7953"
             ],
             [
              0.7777777777777778,
              "#fb9f3a"
             ],
             [
              0.8888888888888888,
              "#fdca26"
             ],
             [
              1,
              "#f0f921"
             ]
            ],
            "type": "contour"
           }
          ],
          "contourcarpet": [
           {
            "colorbar": {
             "outlinewidth": 0,
             "ticks": ""
            },
            "type": "contourcarpet"
           }
          ],
          "heatmap": [
           {
            "colorbar": {
             "outlinewidth": 0,
             "ticks": ""
            },
            "colorscale": [
             [
              0,
              "#0d0887"
             ],
             [
              0.1111111111111111,
              "#46039f"
             ],
             [
              0.2222222222222222,
              "#7201a8"
             ],
             [
              0.3333333333333333,
              "#9c179e"
             ],
             [
              0.4444444444444444,
              "#bd3786"
             ],
             [
              0.5555555555555556,
              "#d8576b"
             ],
             [
              0.6666666666666666,
              "#ed7953"
             ],
             [
              0.7777777777777778,
              "#fb9f3a"
             ],
             [
              0.8888888888888888,
              "#fdca26"
             ],
             [
              1,
              "#f0f921"
             ]
            ],
            "type": "heatmap"
           }
          ],
          "heatmapgl": [
           {
            "colorbar": {
             "outlinewidth": 0,
             "ticks": ""
            },
            "colorscale": [
             [
              0,
              "#0d0887"
             ],
             [
              0.1111111111111111,
              "#46039f"
             ],
             [
              0.2222222222222222,
              "#7201a8"
             ],
             [
              0.3333333333333333,
              "#9c179e"
             ],
             [
              0.4444444444444444,
              "#bd3786"
             ],
             [
              0.5555555555555556,
              "#d8576b"
             ],
             [
              0.6666666666666666,
              "#ed7953"
             ],
             [
              0.7777777777777778,
              "#fb9f3a"
             ],
             [
              0.8888888888888888,
              "#fdca26"
             ],
             [
              1,
              "#f0f921"
             ]
            ],
            "type": "heatmapgl"
           }
          ],
          "histogram": [
           {
            "marker": {
             "pattern": {
              "fillmode": "overlay",
              "size": 10,
              "solidity": 0.2
             }
            },
            "type": "histogram"
           }
          ],
          "histogram2d": [
           {
            "colorbar": {
             "outlinewidth": 0,
             "ticks": ""
            },
            "colorscale": [
             [
              0,
              "#0d0887"
             ],
             [
              0.1111111111111111,
              "#46039f"
             ],
             [
              0.2222222222222222,
              "#7201a8"
             ],
             [
              0.3333333333333333,
              "#9c179e"
             ],
             [
              0.4444444444444444,
              "#bd3786"
             ],
             [
              0.5555555555555556,
              "#d8576b"
             ],
             [
              0.6666666666666666,
              "#ed7953"
             ],
             [
              0.7777777777777778,
              "#fb9f3a"
             ],
             [
              0.8888888888888888,
              "#fdca26"
             ],
             [
              1,
              "#f0f921"
             ]
            ],
            "type": "histogram2d"
           }
          ],
          "histogram2dcontour": [
           {
            "colorbar": {
             "outlinewidth": 0,
             "ticks": ""
            },
            "colorscale": [
             [
              0,
              "#0d0887"
             ],
             [
              0.1111111111111111,
              "#46039f"
             ],
             [
              0.2222222222222222,
              "#7201a8"
             ],
             [
              0.3333333333333333,
              "#9c179e"
             ],
             [
              0.4444444444444444,
              "#bd3786"
             ],
             [
              0.5555555555555556,
              "#d8576b"
             ],
             [
              0.6666666666666666,
              "#ed7953"
             ],
             [
              0.7777777777777778,
              "#fb9f3a"
             ],
             [
              0.8888888888888888,
              "#fdca26"
             ],
             [
              1,
              "#f0f921"
             ]
            ],
            "type": "histogram2dcontour"
           }
          ],
          "mesh3d": [
           {
            "colorbar": {
             "outlinewidth": 0,
             "ticks": ""
            },
            "type": "mesh3d"
           }
          ],
          "parcoords": [
           {
            "line": {
             "colorbar": {
              "outlinewidth": 0,
              "ticks": ""
             }
            },
            "type": "parcoords"
           }
          ],
          "pie": [
           {
            "automargin": true,
            "type": "pie"
           }
          ],
          "scatter": [
           {
            "marker": {
             "colorbar": {
              "outlinewidth": 0,
              "ticks": ""
             }
            },
            "type": "scatter"
           }
          ],
          "scatter3d": [
           {
            "line": {
             "colorbar": {
              "outlinewidth": 0,
              "ticks": ""
             }
            },
            "marker": {
             "colorbar": {
              "outlinewidth": 0,
              "ticks": ""
             }
            },
            "type": "scatter3d"
           }
          ],
          "scattercarpet": [
           {
            "marker": {
             "colorbar": {
              "outlinewidth": 0,
              "ticks": ""
             }
            },
            "type": "scattercarpet"
           }
          ],
          "scattergeo": [
           {
            "marker": {
             "colorbar": {
              "outlinewidth": 0,
              "ticks": ""
             }
            },
            "type": "scattergeo"
           }
          ],
          "scattergl": [
           {
            "marker": {
             "colorbar": {
              "outlinewidth": 0,
              "ticks": ""
             }
            },
            "type": "scattergl"
           }
          ],
          "scattermapbox": [
           {
            "marker": {
             "colorbar": {
              "outlinewidth": 0,
              "ticks": ""
             }
            },
            "type": "scattermapbox"
           }
          ],
          "scatterpolar": [
           {
            "marker": {
             "colorbar": {
              "outlinewidth": 0,
              "ticks": ""
             }
            },
            "type": "scatterpolar"
           }
          ],
          "scatterpolargl": [
           {
            "marker": {
             "colorbar": {
              "outlinewidth": 0,
              "ticks": ""
             }
            },
            "type": "scatterpolargl"
           }
          ],
          "scatterternary": [
           {
            "marker": {
             "colorbar": {
              "outlinewidth": 0,
              "ticks": ""
             }
            },
            "type": "scatterternary"
           }
          ],
          "surface": [
           {
            "colorbar": {
             "outlinewidth": 0,
             "ticks": ""
            },
            "colorscale": [
             [
              0,
              "#0d0887"
             ],
             [
              0.1111111111111111,
              "#46039f"
             ],
             [
              0.2222222222222222,
              "#7201a8"
             ],
             [
              0.3333333333333333,
              "#9c179e"
             ],
             [
              0.4444444444444444,
              "#bd3786"
             ],
             [
              0.5555555555555556,
              "#d8576b"
             ],
             [
              0.6666666666666666,
              "#ed7953"
             ],
             [
              0.7777777777777778,
              "#fb9f3a"
             ],
             [
              0.8888888888888888,
              "#fdca26"
             ],
             [
              1,
              "#f0f921"
             ]
            ],
            "type": "surface"
           }
          ],
          "table": [
           {
            "cells": {
             "fill": {
              "color": "#EBF0F8"
             },
             "line": {
              "color": "white"
             }
            },
            "header": {
             "fill": {
              "color": "#C8D4E3"
             },
             "line": {
              "color": "white"
             }
            },
            "type": "table"
           }
          ]
         },
         "layout": {
          "annotationdefaults": {
           "arrowcolor": "#2a3f5f",
           "arrowhead": 0,
           "arrowwidth": 1
          },
          "autotypenumbers": "strict",
          "coloraxis": {
           "colorbar": {
            "outlinewidth": 0,
            "ticks": ""
           }
          },
          "colorscale": {
           "diverging": [
            [
             0,
             "#8e0152"
            ],
            [
             0.1,
             "#c51b7d"
            ],
            [
             0.2,
             "#de77ae"
            ],
            [
             0.3,
             "#f1b6da"
            ],
            [
             0.4,
             "#fde0ef"
            ],
            [
             0.5,
             "#f7f7f7"
            ],
            [
             0.6,
             "#e6f5d0"
            ],
            [
             0.7,
             "#b8e186"
            ],
            [
             0.8,
             "#7fbc41"
            ],
            [
             0.9,
             "#4d9221"
            ],
            [
             1,
             "#276419"
            ]
           ],
           "sequential": [
            [
             0,
             "#0d0887"
            ],
            [
             0.1111111111111111,
             "#46039f"
            ],
            [
             0.2222222222222222,
             "#7201a8"
            ],
            [
             0.3333333333333333,
             "#9c179e"
            ],
            [
             0.4444444444444444,
             "#bd3786"
            ],
            [
             0.5555555555555556,
             "#d8576b"
            ],
            [
             0.6666666666666666,
             "#ed7953"
            ],
            [
             0.7777777777777778,
             "#fb9f3a"
            ],
            [
             0.8888888888888888,
             "#fdca26"
            ],
            [
             1,
             "#f0f921"
            ]
           ],
           "sequentialminus": [
            [
             0,
             "#0d0887"
            ],
            [
             0.1111111111111111,
             "#46039f"
            ],
            [
             0.2222222222222222,
             "#7201a8"
            ],
            [
             0.3333333333333333,
             "#9c179e"
            ],
            [
             0.4444444444444444,
             "#bd3786"
            ],
            [
             0.5555555555555556,
             "#d8576b"
            ],
            [
             0.6666666666666666,
             "#ed7953"
            ],
            [
             0.7777777777777778,
             "#fb9f3a"
            ],
            [
             0.8888888888888888,
             "#fdca26"
            ],
            [
             1,
             "#f0f921"
            ]
           ]
          },
          "colorway": [
           "#636efa",
           "#EF553B",
           "#00cc96",
           "#ab63fa",
           "#FFA15A",
           "#19d3f3",
           "#FF6692",
           "#B6E880",
           "#FF97FF",
           "#FECB52"
          ],
          "font": {
           "color": "#2a3f5f"
          },
          "geo": {
           "bgcolor": "white",
           "lakecolor": "white",
           "landcolor": "white",
           "showlakes": true,
           "showland": true,
           "subunitcolor": "#C8D4E3"
          },
          "hoverlabel": {
           "align": "left"
          },
          "hovermode": "closest",
          "mapbox": {
           "style": "light"
          },
          "paper_bgcolor": "white",
          "plot_bgcolor": "white",
          "polar": {
           "angularaxis": {
            "gridcolor": "#EBF0F8",
            "linecolor": "#EBF0F8",
            "ticks": ""
           },
           "bgcolor": "white",
           "radialaxis": {
            "gridcolor": "#EBF0F8",
            "linecolor": "#EBF0F8",
            "ticks": ""
           }
          },
          "scene": {
           "xaxis": {
            "backgroundcolor": "white",
            "gridcolor": "#DFE8F3",
            "gridwidth": 2,
            "linecolor": "#EBF0F8",
            "showbackground": true,
            "ticks": "",
            "zerolinecolor": "#EBF0F8"
           },
           "yaxis": {
            "backgroundcolor": "white",
            "gridcolor": "#DFE8F3",
            "gridwidth": 2,
            "linecolor": "#EBF0F8",
            "showbackground": true,
            "ticks": "",
            "zerolinecolor": "#EBF0F8"
           },
           "zaxis": {
            "backgroundcolor": "white",
            "gridcolor": "#DFE8F3",
            "gridwidth": 2,
            "linecolor": "#EBF0F8",
            "showbackground": true,
            "ticks": "",
            "zerolinecolor": "#EBF0F8"
           }
          },
          "shapedefaults": {
           "line": {
            "color": "#2a3f5f"
           }
          },
          "ternary": {
           "aaxis": {
            "gridcolor": "#DFE8F3",
            "linecolor": "#A2B1C6",
            "ticks": ""
           },
           "baxis": {
            "gridcolor": "#DFE8F3",
            "linecolor": "#A2B1C6",
            "ticks": ""
           },
           "bgcolor": "white",
           "caxis": {
            "gridcolor": "#DFE8F3",
            "linecolor": "#A2B1C6",
            "ticks": ""
           }
          },
          "title": {
           "x": 0.05
          },
          "xaxis": {
           "automargin": true,
           "gridcolor": "#EBF0F8",
           "linecolor": "#EBF0F8",
           "ticks": "",
           "title": {
            "standoff": 15
           },
           "zerolinecolor": "#EBF0F8",
           "zerolinewidth": 2
          },
          "yaxis": {
           "automargin": true,
           "gridcolor": "#EBF0F8",
           "linecolor": "#EBF0F8",
           "ticks": "",
           "title": {
            "standoff": 15
           },
           "zerolinecolor": "#EBF0F8",
           "zerolinewidth": 2
          }
         }
        },
        "title": {
         "font": {
          "color": "Black",
          "size": 22
         },
         "text": "<b>Hierarchical Clustering",
         "x": 0.5,
         "xanchor": "center",
         "yanchor": "top"
        },
        "width": 1000,
        "xaxis": {
         "autorange": true,
         "mirror": "allticks",
         "range": [
          0,
          1.9324943011999636
         ],
         "rangemode": "tozero",
         "showgrid": false,
         "showline": true,
         "showticklabels": true,
         "ticks": "outside",
         "type": "linear",
         "zeroline": false
        },
        "yaxis": {
         "mirror": "allticks",
         "range": [
          -370,
          0
         ],
         "rangemode": "tozero",
         "showgrid": false,
         "showline": true,
         "showticklabels": true,
         "tickmode": "array",
         "ticks": "outside",
         "ticktext": [
          "20_shipvotes_campus_voter",
          "36_hws_votes_hamvotes",
          "24_unc_carolina_nc",
          "30_uncp_campus_students",
          "8_etsu_mtsu_tennessee",
          "31_ucsb_voter_clara",
          "12_georgia_emory_students",
          "11_iowa_voter_campus",
          "16_wisconsin_uw_voting",
          "32_binghamton_voter_students",
          "19_mercer_voter_vote",
          "3_osl_voter_vote",
          "5_voter_students_voting",
          "0_florida_students_voter",
          "22_students_udc_community",
          "28_campus_voter_students",
          "4_michigan_students_voter",
          "15_students_campus_dartmouth",
          "6_illinois_uic_chicago",
          "13_indiana_iu_campus",
          "21_tcnj_rider_jersey",
          "34_csb_sju_saint",
          "29_mica_umbc_civic",
          "2_engagement_civic_community",
          "9_ti_civic_engagement",
          "17_csun_students_san",
          "35_rvotes_rvcc_plan",
          "1_following_nslve_plan",
          "33_rit_rtv_roar",
          "27_wesleyan_virginia_vwu",
          "23_umsl_missouri_voter",
          "14_asu_nau_asasu",
          "25_umn_minnesota_register",
          "10_colorado_students_msu",
          "26_connecticut_columbus_stu...",
          "7_jmu_students_madison",
          "18_leavitt_msmu_utah"
         ],
         "tickvals": [
          -5,
          -15,
          -25,
          -35,
          -45,
          -55,
          -65,
          -75,
          -85,
          -95,
          -105,
          -115,
          -125,
          -135,
          -145,
          -155,
          -165,
          -175,
          -185,
          -195,
          -205,
          -215,
          -225,
          -235,
          -245,
          -255,
          -265,
          -275,
          -285,
          -295,
          -305,
          -315,
          -325,
          -335,
          -345,
          -355,
          -365
         ],
         "type": "linear",
         "zeroline": false
        }
       }
      },
      "image/png": "[encoded data removed]",
      "text/html": [
       "<div>                            <div id=\"a83d3b1d-4358-4577-bf8b-d3fed2c0787f\" class=\"plotly-graph-div\" style=\"height:755px; width:1000px;\"></div>            <script type=\"text/javascript\">                require([\"plotly\"], function(Plotly) {                    window.PLOTLYENV=window.PLOTLYENV || {};                                    if (document.getElementById(\"a83d3b1d-4358-4577-bf8b-d3fed2c0787f\")) {                    Plotly.newPlot(                        \"a83d3b1d-4358-4577-bf8b-d3fed2c0787f\",                        [{\"hoverinfo\":\"text\",\"marker\":{\"color\":\"rgb(61,153,112)\"},\"mode\":\"lines\",\"x\":[0.0,0.30065885359960637,0.30065885359960637,0.0],\"xaxis\":\"x\",\"y\":[-5.0,-5.0,-15.0,-15.0],\"yaxis\":\"y\",\"type\":\"scatter\"},{\"hoverinfo\":\"text\",\"marker\":{\"color\":\"rgb(255,65,54)\"},\"mode\":\"lines\",\"x\":[0.0,0.2316595418115341,0.2316595418115341,0.0],\"xaxis\":\"x\",\"y\":[-25.0,-25.0,-35.0,-35.0],\"yaxis\":\"y\",\"type\":\"scatter\"},{\"hoverinfo\":\"text\",\"marker\":{\"color\":\"rgb(255,65,54)\"},\"mode\":\"lines\",\"x\":[0.0,0.35376768943772213,0.35376768943772213,0.0],\"xaxis\":\"x\",\"y\":[-45.0,-45.0,-55.0,-55.0],\"yaxis\":\"y\",\"type\":\"scatter\"},{\"hoverinfo\":\"text\",\"marker\":{\"color\":\"rgb(255,65,54)\"},\"mode\":\"lines\",\"x\":[0.2316595418115341,0.37677904009735574,0.37677904009735574,0.35376768943772213],\"xaxis\":\"x\",\"y\":[-30.0,-30.0,-50.0,-50.0],\"yaxis\":\"y\",\"type\":\"scatter\"},{\"hoverinfo\":\"text\",\"marker\":{\"color\":\"rgb(255,65,54)\"},\"mode\":\"lines\",\"x\":[0.0,0.24029410990809957,0.24029410990809957,0.0],\"xaxis\":\"x\",\"y\":[-75.0,-75.0,-85.0,-85.0],\"yaxis\":\"y\",\"type\":\"scatter\"},{\"hoverinfo\":\"text\",\"marker\":{\"color\":\"rgb(255,65,54)\"},\"mode\":\"lines\",\"x\":[0.0,0.4050576586710602,0.4050576586710602,0.24029410990809957],\"xaxis\":\"x\",\"y\":[-65.0,-65.0,-80.0,-80.0],\"yaxis\":\"y\",\"type\":\"scatter\"},{\"hoverinfo\":\"text\",\"marker\":{\"color\":\"rgb(255,65,54)\"},\"mode\":\"lines\",\"x\":[0.37677904009735574,0.5333027284790182,0.5333027284790182,0.4050576586710602],\"xaxis\":\"x\",\"y\":[-40.0,-40.0,-72.5,-72.5],\"yaxis\":\"y\",\"type\":\"scatter\"},{\"hoverinfo\":\"text\",\"marker\":{\"color\":\"rgb(255,65,54)\"},\"mode\":\"lines\",\"x\":[0.0,0.16893525129670584,0.16893525129670584,0.0],\"xaxis\":\"x\",\"y\":[-115.0,-115.0,-125.0,-125.0],\"yaxis\":\"y\",\"type\":\"scatter\"},{\"hoverinfo\":\"text\",\"marker\":{\"color\":\"rgb(255,65,54)\"},\"mode\":\"lines\",\"x\":[0.0,0.23698773099786347,0.23698773099786347,0.16893525129670584],\"xaxis\":\"x\",\"y\":[-105.0,-105.0,-120.0,-120.0],\"yaxis\":\"y\",\"type\":\"scatter\"},{\"hoverinfo\":\"text\",\"marker\":{\"color\":\"rgb(255,65,54)\"},\"mode\":\"lines\",\"x\":[0.0,0.2707770775450502,0.2707770775450502,0.23698773099786347],\"xaxis\":\"x\",\"y\":[-95.0,-95.0,-112.5,-112.5],\"yaxis\":\"y\",\"type\":\"scatter\"},{\"hoverinfo\":\"text\",\"marker\":{\"color\":\"rgb(255,65,54)\"},\"mode\":\"lines\",\"x\":[0.0,0.17197710144353415,0.17197710144353415,0.0],\"xaxis\":\"x\",\"y\":[-145.0,-145.0,-155.0,-155.0],\"yaxis\":\"y\",\"type\":\"scatter\"},{\"hoverinfo\":\"text\",\"marker\":{\"color\":\"rgb(255,65,54)\"},\"mode\":\"lines\",\"x\":[0.0,0.2216267863266031,0.2216267863266031,0.17197710144353415],\"xaxis\":\"x\",\"y\":[-135.0,-135.0,-150.0,-150.0],\"yaxis\":\"y\",\"type\":\"scatter\"},{\"hoverinfo\":\"text\",\"marker\":{\"color\":\"rgb(255,65,54)\"},\"mode\":\"lines\",\"x\":[0.0,0.20010985093381797,0.20010985093381797,0.0],\"xaxis\":\"x\",\"y\":[-165.0,-165.0,-175.0,-175.0],\"yaxis\":\"y\",\"type\":\"scatter\"},{\"hoverinfo\":\"text\",\"marker\":{\"color\":\"rgb(255,65,54)\"},\"mode\":\"lines\",\"x\":[0.0,0.255576878991755,0.255576878991755,0.0],\"xaxis\":\"x\",\"y\":[-185.0,-185.0,-195.0,-195.0],\"yaxis\":\"y\",\"type\":\"scatter\"},{\"hoverinfo\":\"text\",\"marker\":{\"color\":\"rgb(255,65,54)\"},\"mode\":\"lines\",\"x\":[0.20010985093381797,0.35459956636670165,0.35459956636670165,0.255576878991755],\"xaxis\":\"x\",\"y\":[-170.0,-170.0,-190.0,-190.0],\"yaxis\":\"y\",\"type\":\"scatter\"},{\"hoverinfo\":\"text\",\"marker\":{\"color\":\"rgb(255,65,54)\"},\"mode\":\"lines\",\"x\":[0.2216267863266031,0.4387654957909551,0.4387654957909551,0.35459956636670165],\"xaxis\":\"x\",\"y\":[-142.5,-142.5,-180.0,-180.0],\"yaxis\":\"y\",\"type\":\"scatter\"},{\"hoverinfo\":\"text\",\"marker\":{\"color\":\"rgb(255,65,54)\"},\"mode\":\"lines\",\"x\":[0.2707770775450502,0.639604681842216,0.639604681842216,0.4387654957909551],\"xaxis\":\"x\",\"y\":[-103.75,-103.75,-161.25,-161.25],\"yaxis\":\"y\",\"type\":\"scatter\"},{\"hoverinfo\":\"text\",\"marker\":{\"color\":\"rgb(255,65,54)\"},\"mode\":\"lines\",\"x\":[0.5333027284790182,0.8701566031697644,0.8701566031697644,0.639604681842216],\"xaxis\":\"x\",\"y\":[-56.25,-56.25,-132.5,-132.5],\"yaxis\":\"y\",\"type\":\"scatter\"},{\"hoverinfo\":\"text\",\"marker\":{\"color\":\"rgb(0,116,217)\"},\"mode\":\"lines\",\"x\":[0.30065885359960637,1.0806657160933058,1.0806657160933058,0.8701566031697644],\"xaxis\":\"x\",\"y\":[-10.0,-10.0,-94.375,-94.375],\"yaxis\":\"y\",\"type\":\"scatter\"},{\"hoverinfo\":\"text\",\"marker\":{\"color\":\"rgb(35,205,205)\"},\"mode\":\"lines\",\"x\":[0.0,0.6264319168452863,0.6264319168452863,0.0],\"xaxis\":\"x\",\"y\":[-205.0,-205.0,-215.0,-215.0],\"yaxis\":\"y\",\"type\":\"scatter\"},{\"hoverinfo\":\"text\",\"marker\":{\"color\":\"rgb(133,20,75)\"},\"mode\":\"lines\",\"x\":[0.0,0.21258538977192246,0.21258538977192246,0.0],\"xaxis\":\"x\",\"y\":[-235.0,-235.0,-245.0,-245.0],\"yaxis\":\"y\",\"type\":\"scatter\"},{\"hoverinfo\":\"text\",\"marker\":{\"color\":\"rgb(133,20,75)\"},\"mode\":\"lines\",\"x\":[0.0,0.41325178942750695,0.41325178942750695,0.21258538977192246],\"xaxis\":\"x\",\"y\":[-225.0,-225.0,-240.0,-240.0],\"yaxis\":\"y\",\"type\":\"scatter\"},{\"hoverinfo\":\"text\",\"marker\":{\"color\":\"rgb(133,20,75)\"},\"mode\":\"lines\",\"x\":[0.0,0.33927591465798007,0.33927591465798007,0.0],\"xaxis\":\"x\",\"y\":[-275.0,-275.0,-285.0,-285.0],\"yaxis\":\"y\",\"type\":\"scatter\"},{\"hoverinfo\":\"text\",\"marker\":{\"color\":\"rgb(133,20,75)\"},\"mode\":\"lines\",\"x\":[0.0,0.39166624205343814,0.39166624205343814,0.33927591465798007],\"xaxis\":\"x\",\"y\":[-265.0,-265.0,-280.0,-280.0],\"yaxis\":\"y\",\"type\":\"scatter\"},{\"hoverinfo\":\"text\",\"marker\":{\"color\":\"rgb(133,20,75)\"},\"mode\":\"lines\",\"x\":[0.0,0.5074820043483151,0.5074820043483151,0.39166624205343814],\"xaxis\":\"x\",\"y\":[-255.0,-255.0,-272.5,-272.5],\"yaxis\":\"y\",\"type\":\"scatter\"},{\"hoverinfo\":\"text\",\"marker\":{\"color\":\"rgb(133,20,75)\"},\"mode\":\"lines\",\"x\":[0.41325178942750695,0.5989922631815395,0.5989922631815395,0.5074820043483151],\"xaxis\":\"x\",\"y\":[-232.5,-232.5,-263.75,-263.75],\"yaxis\":\"y\",\"type\":\"scatter\"},{\"hoverinfo\":\"text\",\"marker\":{\"color\":\"rgb(133,20,75)\"},\"mode\":\"lines\",\"x\":[0.0,0.3464408512664138,0.3464408512664138,0.0],\"xaxis\":\"x\",\"y\":[-315.0,-315.0,-325.0,-325.0],\"yaxis\":\"y\",\"type\":\"scatter\"},{\"hoverinfo\":\"text\",\"marker\":{\"color\":\"rgb(133,20,75)\"},\"mode\":\"lines\",\"x\":[0.0,0.4160965131239822,0.4160965131239822,0.3464408512664138],\"xaxis\":\"x\",\"y\":[-305.0,-305.0,-320.0,-320.0],\"yaxis\":\"y\",\"type\":\"scatter\"},{\"hoverinfo\":\"text\",\"marker\":{\"color\":\"rgb(133,20,75)\"},\"mode\":\"lines\",\"x\":[0.0,0.27490676284998455,0.27490676284998455,0.0],\"xaxis\":\"x\",\"y\":[-335.0,-335.0,-345.0,-345.0],\"yaxis\":\"y\",\"type\":\"scatter\"},{\"hoverinfo\":\"text\",\"marker\":{\"color\":\"rgb(133,20,75)\"},\"mode\":\"lines\",\"x\":[0.0,0.2790953219959621,0.2790953219959621,0.0],\"xaxis\":\"x\",\"y\":[-355.0,-355.0,-365.0,-365.0],\"yaxis\":\"y\",\"type\":\"scatter\"},{\"hoverinfo\":\"text\",\"marker\":{\"color\":\"rgb(133,20,75)\"},\"mode\":\"lines\",\"x\":[0.27490676284998455,0.4368797298885661,0.4368797298885661,0.2790953219959621],\"xaxis\":\"x\",\"y\":[-340.0,-340.0,-360.0,-360.0],\"yaxis\":\"y\",\"type\":\"scatter\"},{\"hoverinfo\":\"text\",\"marker\":{\"color\":\"rgb(133,20,75)\"},\"mode\":\"lines\",\"x\":[0.4160965131239822,0.5476244669199664,0.5476244669199664,0.4368797298885661],\"xaxis\":\"x\",\"y\":[-312.5,-312.5,-350.0,-350.0],\"yaxis\":\"y\",\"type\":\"scatter\"},{\"hoverinfo\":\"text\",\"marker\":{\"color\":\"rgb(133,20,75)\"},\"mode\":\"lines\",\"x\":[0.0,0.615862563522946,0.615862563522946,0.5476244669199664],\"xaxis\":\"x\",\"y\":[-295.0,-295.0,-331.25,-331.25],\"yaxis\":\"y\",\"type\":\"scatter\"},{\"hoverinfo\":\"text\",\"marker\":{\"color\":\"rgb(133,20,75)\"},\"mode\":\"lines\",\"x\":[0.5989922631815395,0.9938434185224091,0.9938434185224091,0.615862563522946],\"xaxis\":\"x\",\"y\":[-248.125,-248.125,-313.125,-313.125],\"yaxis\":\"y\",\"type\":\"scatter\"},{\"hoverinfo\":\"text\",\"marker\":{\"color\":\"rgb(0,116,217)\"},\"mode\":\"lines\",\"x\":[0.6264319168452863,1.2481717248288313,1.2481717248288313,0.9938434185224091],\"xaxis\":\"x\",\"y\":[-210.0,-210.0,-280.625,-280.625],\"yaxis\":\"y\",\"type\":\"scatter\"},{\"hoverinfo\":\"text\",\"marker\":{\"color\":\"rgb(0,116,217)\"},\"mode\":\"lines\",\"x\":[1.0806657160933058,1.9324943011999636,1.9324943011999636,1.2481717248288313],\"xaxis\":\"x\",\"y\":[-52.1875,-52.1875,-245.3125,-245.3125],\"yaxis\":\"y\",\"type\":\"scatter\"}],                        {\"autosize\":false,\"height\":755,\"hovermode\":\"closest\",\"showlegend\":false,\"width\":1000,\"xaxis\":{\"mirror\":\"allticks\",\"rangemode\":\"tozero\",\"showgrid\":false,\"showline\":true,\"showticklabels\":true,\"ticks\":\"outside\",\"type\":\"linear\",\"zeroline\":false},\"yaxis\":{\"mirror\":\"allticks\",\"rangemode\":\"tozero\",\"showgrid\":false,\"showline\":true,\"showticklabels\":true,\"tickmode\":\"array\",\"ticks\":\"outside\",\"ticktext\":[\"20_shipvotes_campus_voter\",\"36_hws_votes_hamvotes\",\"24_unc_carolina_nc\",\"30_uncp_campus_students\",\"8_etsu_mtsu_tennessee\",\"31_ucsb_voter_clara\",\"12_georgia_emory_students\",\"11_iowa_voter_campus\",\"16_wisconsin_uw_voting\",\"32_binghamton_voter_students\",\"19_mercer_voter_vote\",\"3_osl_voter_vote\",\"5_voter_students_voting\",\"0_florida_students_voter\",\"22_students_udc_community\",\"28_campus_voter_students\",\"4_michigan_students_voter\",\"15_students_campus_dartmouth\",\"6_illinois_uic_chicago\",\"13_indiana_iu_campus\",\"21_tcnj_rider_jersey\",\"34_csb_sju_saint\",\"29_mica_umbc_civic\",\"2_engagement_civic_community\",\"9_ti_civic_engagement\",\"17_csun_students_san\",\"35_rvotes_rvcc_plan\",\"1_following_nslve_plan\",\"33_rit_rtv_roar\",\"27_wesleyan_virginia_vwu\",\"23_umsl_missouri_voter\",\"14_asu_nau_asasu\",\"25_umn_minnesota_register\",\"10_colorado_students_msu\",\"26_connecticut_columbus_stu...\",\"7_jmu_students_madison\",\"18_leavitt_msmu_utah\"],\"tickvals\":[-5.0,-15.0,-25.0,-35.0,-45.0,-55.0,-65.0,-75.0,-85.0,-95.0,-105.0,-115.0,-125.0,-135.0,-145.0,-155.0,-165.0,-175.0,-185.0,-195.0,-205.0,-215.0,-225.0,-235.0,-245.0,-255.0,-265.0,-275.0,-285.0,-295.0,-305.0,-315.0,-325.0,-335.0,-345.0,-355.0,-365.0],\"type\":\"linear\",\"zeroline\":false,\"range\":[-370.0,0.0]},\"template\":{\"data\":{\"barpolar\":[{\"marker\":{\"line\":{\"color\":\"white\",\"width\":0.5},\"pattern\":{\"fillmode\":\"overlay\",\"size\":10,\"solidity\":0.2}},\"type\":\"barpolar\"}],\"bar\":[{\"error_x\":{\"color\":\"#2a3f5f\"},\"error_y\":{\"color\":\"#2a3f5f\"},\"marker\":{\"line\":{\"color\":\"white\",\"width\":0.5},\"pattern\":{\"fillmode\":\"overlay\",\"size\":10,\"solidity\":0.2}},\"type\":\"bar\"}],\"carpet\":[{\"aaxis\":{\"endlinecolor\":\"#2a3f5f\",\"gridcolor\":\"#C8D4E3\",\"linecolor\":\"#C8D4E3\",\"minorgridcolor\":\"#C8D4E3\",\"startlinecolor\":\"#2a3f5f\"},\"baxis\":{\"endlinecolor\":\"#2a3f5f\",\"gridcolor\":\"#C8D4E3\",\"linecolor\":\"#C8D4E3\",\"minorgridcolor\":\"#C8D4E3\",\"startlinecolor\":\"#2a3f5f\"},\"type\":\"carpet\"}],\"choropleth\":[{\"colorbar\":{\"outlinewidth\":0,\"ticks\":\"\"},\"type\":\"choropleth\"}],\"contourcarpet\":[{\"colorbar\":{\"outlinewidth\":0,\"ticks\":\"\"},\"type\":\"contourcarpet\"}],\"contour\":[{\"colorbar\":{\"outlinewidth\":0,\"ticks\":\"\"},\"colorscale\":[[0.0,\"#0d0887\"],[0.1111111111111111,\"#46039f\"],[0.2222222222222222,\"#7201a8\"],[0.3333333333333333,\"#9c179e\"],[0.4444444444444444,\"#bd3786\"],[0.5555555555555556,\"#d8576b\"],[0.6666666666666666,\"#ed7953\"],[0.7777777777777778,\"#fb9f3a\"],[0.8888888888888888,\"#fdca26\"],[1.0,\"#f0f921\"]],\"type\":\"contour\"}],\"heatmapgl\":[{\"colorbar\":{\"outlinewidth\":0,\"ticks\":\"\"},\"colorscale\":[[0.0,\"#0d0887\"],[0.1111111111111111,\"#46039f\"],[0.2222222222222222,\"#7201a8\"],[0.3333333333333333,\"#9c179e\"],[0.4444444444444444,\"#bd3786\"],[0.5555555555555556,\"#d8576b\"],[0.6666666666666666,\"#ed7953\"],[0.7777777777777778,\"#fb9f3a\"],[0.8888888888888888,\"#fdca26\"],[1.0,\"#f0f921\"]],\"type\":\"heatmapgl\"}],\"heatmap\":[{\"colorbar\":{\"outlinewidth\":0,\"ticks\":\"\"},\"colorscale\":[[0.0,\"#0d0887\"],[0.1111111111111111,\"#46039f\"],[0.2222222222222222,\"#7201a8\"],[0.3333333333333333,\"#9c179e\"],[0.4444444444444444,\"#bd3786\"],[0.5555555555555556,\"#d8576b\"],[0.6666666666666666,\"#ed7953\"],[0.7777777777777778,\"#fb9f3a\"],[0.8888888888888888,\"#fdca26\"],[1.0,\"#f0f921\"]],\"type\":\"heatmap\"}],\"histogram2dcontour\":[{\"colorbar\":{\"outlinewidth\":0,\"ticks\":\"\"},\"colorscale\":[[0.0,\"#0d0887\"],[0.1111111111111111,\"#46039f\"],[0.2222222222222222,\"#7201a8\"],[0.3333333333333333,\"#9c179e\"],[0.4444444444444444,\"#bd3786\"],[0.5555555555555556,\"#d8576b\"],[0.6666666666666666,\"#ed7953\"],[0.7777777777777778,\"#fb9f3a\"],[0.8888888888888888,\"#fdca26\"],[1.0,\"#f0f921\"]],\"type\":\"histogram2dcontour\"}],\"histogram2d\":[{\"colorbar\":{\"outlinewidth\":0,\"ticks\":\"\"},\"colorscale\":[[0.0,\"#0d0887\"],[0.1111111111111111,\"#46039f\"],[0.2222222222222222,\"#7201a8\"],[0.3333333333333333,\"#9c179e\"],[0.4444444444444444,\"#bd3786\"],[0.5555555555555556,\"#d8576b\"],[0.6666666666666666,\"#ed7953\"],[0.7777777777777778,\"#fb9f3a\"],[0.8888888888888888,\"#fdca26\"],[1.0,\"#f0f921\"]],\"type\":\"histogram2d\"}],\"histogram\":[{\"marker\":{\"pattern\":{\"fillmode\":\"overlay\",\"size\":10,\"solidity\":0.2}},\"type\":\"histogram\"}],\"mesh3d\":[{\"colorbar\":{\"outlinewidth\":0,\"ticks\":\"\"},\"type\":\"mesh3d\"}],\"parcoords\":[{\"line\":{\"colorbar\":{\"outlinewidth\":0,\"ticks\":\"\"}},\"type\":\"parcoords\"}],\"pie\":[{\"automargin\":true,\"type\":\"pie\"}],\"scatter3d\":[{\"line\":{\"colorbar\":{\"outlinewidth\":0,\"ticks\":\"\"}},\"marker\":{\"colorbar\":{\"outlinewidth\":0,\"ticks\":\"\"}},\"type\":\"scatter3d\"}],\"scattercarpet\":[{\"marker\":{\"colorbar\":{\"outlinewidth\":0,\"ticks\":\"\"}},\"type\":\"scattercarpet\"}],\"scattergeo\":[{\"marker\":{\"colorbar\":{\"outlinewidth\":0,\"ticks\":\"\"}},\"type\":\"scattergeo\"}],\"scattergl\":[{\"marker\":{\"colorbar\":{\"outlinewidth\":0,\"ticks\":\"\"}},\"type\":\"scattergl\"}],\"scattermapbox\":[{\"marker\":{\"colorbar\":{\"outlinewidth\":0,\"ticks\":\"\"}},\"type\":\"scattermapbox\"}],\"scatterpolargl\":[{\"marker\":{\"colorbar\":{\"outlinewidth\":0,\"ticks\":\"\"}},\"type\":\"scatterpolargl\"}],\"scatterpolar\":[{\"marker\":{\"colorbar\":{\"outlinewidth\":0,\"ticks\":\"\"}},\"type\":\"scatterpolar\"}],\"scatter\":[{\"marker\":{\"colorbar\":{\"outlinewidth\":0,\"ticks\":\"\"}},\"type\":\"scatter\"}],\"scatterternary\":[{\"marker\":{\"colorbar\":{\"outlinewidth\":0,\"ticks\":\"\"}},\"type\":\"scatterternary\"}],\"surface\":[{\"colorbar\":{\"outlinewidth\":0,\"ticks\":\"\"},\"colorscale\":[[0.0,\"#0d0887\"],[0.1111111111111111,\"#46039f\"],[0.2222222222222222,\"#7201a8\"],[0.3333333333333333,\"#9c179e\"],[0.4444444444444444,\"#bd3786\"],[0.5555555555555556,\"#d8576b\"],[0.6666666666666666,\"#ed7953\"],[0.7777777777777778,\"#fb9f3a\"],[0.8888888888888888,\"#fdca26\"],[1.0,\"#f0f921\"]],\"type\":\"surface\"}],\"table\":[{\"cells\":{\"fill\":{\"color\":\"#EBF0F8\"},\"line\":{\"color\":\"white\"}},\"header\":{\"fill\":{\"color\":\"#C8D4E3\"},\"line\":{\"color\":\"white\"}},\"type\":\"table\"}]},\"layout\":{\"annotationdefaults\":{\"arrowcolor\":\"#2a3f5f\",\"arrowhead\":0,\"arrowwidth\":1},\"autotypenumbers\":\"strict\",\"coloraxis\":{\"colorbar\":{\"outlinewidth\":0,\"ticks\":\"\"}},\"colorscale\":{\"diverging\":[[0,\"#8e0152\"],[0.1,\"#c51b7d\"],[0.2,\"#de77ae\"],[0.3,\"#f1b6da\"],[0.4,\"#fde0ef\"],[0.5,\"#f7f7f7\"],[0.6,\"#e6f5d0\"],[0.7,\"#b8e186\"],[0.8,\"#7fbc41\"],[0.9,\"#4d9221\"],[1,\"#276419\"]],\"sequential\":[[0.0,\"#0d0887\"],[0.1111111111111111,\"#46039f\"],[0.2222222222222222,\"#7201a8\"],[0.3333333333333333,\"#9c179e\"],[0.4444444444444444,\"#bd3786\"],[0.5555555555555556,\"#d8576b\"],[0.6666666666666666,\"#ed7953\"],[0.7777777777777778,\"#fb9f3a\"],[0.8888888888888888,\"#fdca26\"],[1.0,\"#f0f921\"]],\"sequentialminus\":[[0.0,\"#0d0887\"],[0.1111111111111111,\"#46039f\"],[0.2222222222222222,\"#7201a8\"],[0.3333333333333333,\"#9c179e\"],[0.4444444444444444,\"#bd3786\"],[0.5555555555555556,\"#d8576b\"],[0.6666666666666666,\"#ed7953\"],[0.7777777777777778,\"#fb9f3a\"],[0.8888888888888888,\"#fdca26\"],[1.0,\"#f0f921\"]]},\"colorway\":[\"#636efa\",\"#EF553B\",\"#00cc96\",\"#ab63fa\",\"#FFA15A\",\"#19d3f3\",\"#FF6692\",\"#B6E880\",\"#FF97FF\",\"#FECB52\"],\"font\":{\"color\":\"#2a3f5f\"},\"geo\":{\"bgcolor\":\"white\",\"lakecolor\":\"white\",\"landcolor\":\"white\",\"showlakes\":true,\"showland\":true,\"subunitcolor\":\"#C8D4E3\"},\"hoverlabel\":{\"align\":\"left\"},\"hovermode\":\"closest\",\"mapbox\":{\"style\":\"light\"},\"paper_bgcolor\":\"white\",\"plot_bgcolor\":\"white\",\"polar\":{\"angularaxis\":{\"gridcolor\":\"#EBF0F8\",\"linecolor\":\"#EBF0F8\",\"ticks\":\"\"},\"bgcolor\":\"white\",\"radialaxis\":{\"gridcolor\":\"#EBF0F8\",\"linecolor\":\"#EBF0F8\",\"ticks\":\"\"}},\"scene\":{\"xaxis\":{\"backgroundcolor\":\"white\",\"gridcolor\":\"#DFE8F3\",\"gridwidth\":2,\"linecolor\":\"#EBF0F8\",\"showbackground\":true,\"ticks\":\"\",\"zerolinecolor\":\"#EBF0F8\"},\"yaxis\":{\"backgroundcolor\":\"white\",\"gridcolor\":\"#DFE8F3\",\"gridwidth\":2,\"linecolor\":\"#EBF0F8\",\"showbackground\":true,\"ticks\":\"\",\"zerolinecolor\":\"#EBF0F8\"},\"zaxis\":{\"backgroundcolor\":\"white\",\"gridcolor\":\"#DFE8F3\",\"gridwidth\":2,\"linecolor\":\"#EBF0F8\",\"showbackground\":true,\"ticks\":\"\",\"zerolinecolor\":\"#EBF0F8\"}},\"shapedefaults\":{\"line\":{\"color\":\"#2a3f5f\"}},\"ternary\":{\"aaxis\":{\"gridcolor\":\"#DFE8F3\",\"linecolor\":\"#A2B1C6\",\"ticks\":\"\"},\"baxis\":{\"gridcolor\":\"#DFE8F3\",\"linecolor\":\"#A2B1C6\",\"ticks\":\"\"},\"bgcolor\":\"white\",\"caxis\":{\"gridcolor\":\"#DFE8F3\",\"linecolor\":\"#A2B1C6\",\"ticks\":\"\"}},\"title\":{\"x\":0.05},\"xaxis\":{\"automargin\":true,\"gridcolor\":\"#EBF0F8\",\"linecolor\":\"#EBF0F8\",\"ticks\":\"\",\"title\":{\"standoff\":15},\"zerolinecolor\":\"#EBF0F8\",\"zerolinewidth\":2},\"yaxis\":{\"automargin\":true,\"gridcolor\":\"#EBF0F8\",\"linecolor\":\"#EBF0F8\",\"ticks\":\"\",\"title\":{\"standoff\":15},\"zerolinecolor\":\"#EBF0F8\",\"zerolinewidth\":2}}},\"title\":{\"font\":{\"size\":22,\"color\":\"Black\"},\"text\":\"<b>Hierarchical Clustering\",\"x\":0.5,\"xanchor\":\"center\",\"yanchor\":\"top\"},\"hoverlabel\":{\"font\":{\"size\":16,\"family\":\"Rockwell\"},\"bgcolor\":\"white\"},\"plot_bgcolor\":\"#ECEFF1\"},                        {\"responsive\": true}                    ).then(function(){\n",
       "                            \n",
       "var gd = document.getElementById('a83d3b1d-4358-4577-bf8b-d3fed2c0787f');\n",
       "var x = new MutationObserver(function (mutations, observer) {{\n",
       "        var display = window.getComputedStyle(gd).display;\n",
       "        if (!display || display === 'none') {{\n",
       "            console.log([gd, 'removed!']);\n",
       "            Plotly.purge(gd);\n",
       "            observer.disconnect();\n",
       "        }}\n",
       "}});\n",
       "\n",
       "// Listen for the removal of the full notebook cells\n",
       "var notebookContainer = gd.closest('#notebook-container');\n",
       "if (notebookContainer) {{\n",
       "    x.observe(notebookContainer, {childList: true});\n",
       "}}\n",
       "\n",
       "// Listen for the clearing of the current output cell\n",
       "var outputEl = gd.closest('.output');\n",
       "if (outputEl) {{\n",
       "    x.observe(outputEl, {childList: true});\n",
       "}}\n",
       "\n",
       "                        })                };                });            </script>        </div>"
      ]
     },
     "metadata": {},
     "output_type": "display_data"
    }
   ],
   "source": [
    "topic_model.visualize_hierarchy()\n",
    "\n",
    "topic_model.visualize_hierarchy().write_html(\"./outputs/hierarchy.html\")"
   ]
  },
  {
   "cell_type": "code",
   "execution_count": 79,
   "id": "2e90e4f9-6c15-4a31-864e-ea4713c1e704",
   "metadata": {},
   "outputs": [
    {
     "data": {
      "application/vnd.plotly.v1+json": {
       "config": {
        "plotlyServerURL": "https://plot.ly"
       },
       "data": [
        {
         "coloraxis": "coloraxis",
         "hovertemplate": "x: %{x}<br>y: %{y}<br>Similarity Score: %{z}<extra></extra>",
         "name": "0",
         "type": "heatmap",
         "x": [
          "0_florida_students_voter",
          "1_following_nslve_plan",
          "2_engagement_civic_community",
          "3_osl_voter_vote",
          "4_michigan_students_voter",
          "5_voter_students_voting",
          "6_illinois_uic_chicago",
          "7_jmu_students_madison",
          "8_etsu_mtsu_tennessee",
          "9_ti_civic_engagement",
          "10_colorado_students_msu",
          "11_iowa_voter_campus",
          "12_georgia_emory_students",
          "13_indiana_iu_campus",
          "14_asu_nau_asasu",
          "15_students_campus_dartmouth",
          "16_wisconsin_uw_voting",
          "17_csun_students_san",
          "18_leavitt_msmu_utah",
          "19_mercer_voter_vote",
          "20_shipvotes_campus_voter",
          "21_tcnj_rider_jersey",
          "22_students_udc_community",
          "23_umsl_missouri_voter",
          "24_unc_carolina_nc",
          "25_umn_minnesota_register",
          "26_connecticut_columbus_stu...",
          "27_wesleyan_virginia_vwu",
          "28_campus_voter_students",
          "29_mica_umbc_civic",
          "30_uncp_campus_students",
          "31_ucsb_voter_clara",
          "32_binghamton_voter_students",
          "33_rit_rtv_roar",
          "34_csb_sju_saint",
          "35_rvotes_rvcc_plan",
          "36_hws_votes_hamvotes"
         ],
         "xaxis": "x",
         "y": [
          "0_florida_students_voter",
          "1_following_nslve_plan",
          "2_engagement_civic_community",
          "3_osl_voter_vote",
          "4_michigan_students_voter",
          "5_voter_students_voting",
          "6_illinois_uic_chicago",
          "7_jmu_students_madison",
          "8_etsu_mtsu_tennessee",
          "9_ti_civic_engagement",
          "10_colorado_students_msu",
          "11_iowa_voter_campus",
          "12_georgia_emory_students",
          "13_indiana_iu_campus",
          "14_asu_nau_asasu",
          "15_students_campus_dartmouth",
          "16_wisconsin_uw_voting",
          "17_csun_students_san",
          "18_leavitt_msmu_utah",
          "19_mercer_voter_vote",
          "20_shipvotes_campus_voter",
          "21_tcnj_rider_jersey",
          "22_students_udc_community",
          "23_umsl_missouri_voter",
          "24_unc_carolina_nc",
          "25_umn_minnesota_register",
          "26_connecticut_columbus_stu...",
          "27_wesleyan_virginia_vwu",
          "28_campus_voter_students",
          "29_mica_umbc_civic",
          "30_uncp_campus_students",
          "31_ucsb_voter_clara",
          "32_binghamton_voter_students",
          "33_rit_rtv_roar",
          "34_csb_sju_saint",
          "35_rvotes_rvcc_plan",
          "36_hws_votes_hamvotes"
         ],
         "yaxis": "y",
         "z": [
          [
           1.0000000000000004,
           0.9655511696760526,
           0.7692174643340346,
           0.8406002267266274,
           0.9103083039850948,
           0.8884310375142759,
           0.9357779429329518,
           0.8489589269874278,
           0.7693044925320948,
           0.8020196650485351,
           0.814015641918382,
           0.8164784228486992,
           0.8452640006698638,
           0.8191855932416363,
           0.8712203064055142,
           0.7257689334668177,
           0.9041858422370953,
           0.831146915580267,
           0.7344354120924699,
           0.7794653598517614,
           0.92136328611981,
           0.9038815163967793,
           0.6690635772310298,
           0.9321807002670379,
           0.7534564016290107,
           0.8554841130815649,
           0.75449095589049,
           0.8093758993773731,
           0.7127422949669047,
           0.9478770977226494,
           0.77582574603901,
           0.8551607545428219,
           0.8135921288396581,
           0.9016695859626094,
           0.7901970706776285,
           0.5867892239044376,
           0.75894248470958
          ],
          [
           0.9655511696760526,
           0.9999999999999996,
           0.7641229990552554,
           0.8542969765439333,
           0.8817726550796421,
           0.9157174437642575,
           0.8874034312334607,
           0.8657448976348823,
           0.8227806920173286,
           0.8197284830475611,
           0.8037590897320739,
           0.8738620577384819,
           0.8429918862859128,
           0.8649245436462842,
           0.8866408463143532,
           0.7633007158942575,
           0.9064180806291895,
           0.8547511257933448,
           0.7423455608310084,
           0.804401198899253,
           0.8893995579883132,
           0.847047935645129,
           0.6891644804710331,
           0.9205240992896057,
           0.7872138644075343,
           0.8660730322457909,
           0.7801242027308686,
           0.8444011852819359,
           0.7653472832139008,
           0.9299103712603214,
           0.7987798944222758,
           0.8663139061271549,
           0.8233146632376003,
           0.8662051838448052,
           0.7794921692311307,
           0.635800908555469,
           0.7672269573779928
          ],
          [
           0.7692174643340346,
           0.7641229990552554,
           0.9999999999999998,
           0.7882105364996256,
           0.8091983572201211,
           0.7188893807812538,
           0.7987555329501608,
           0.7624303391223424,
           0.7358578104486471,
           0.7069438439853553,
           0.8100047520003795,
           0.7470702188361859,
           0.6858294598514202,
           0.692757340257901,
           0.7868176975232957,
           0.6910802858626726,
           0.7575137321395902,
           0.6920375331844042,
           0.7441987446103417,
           0.7162975161743871,
           0.745516664358812,
           0.7164632285150225,
           0.674523990320246,
           0.8202027477460128,
           0.6905030592003636,
           0.7030303888805444,
           0.7400971650140054,
           0.7217853064798746,
           0.6393286731665508,
           0.8199398512206424,
           0.7223552945326601,
           0.7247568820513356,
           0.7025673846338677,
           0.7750347653790177,
           0.7907888040477871,
           0.6941801797048779,
           0.7780484219076442
          ],
          [
           0.8406002267266274,
           0.8542969765439333,
           0.7882105364996256,
           0.9999999999999999,
           0.7834694680026157,
           0.7529561079035803,
           0.7871636962933125,
           0.7906646146067136,
           0.7912016279304726,
           0.7424284314666256,
           0.9107749592705938,
           0.8197352719961268,
           0.7158262283003927,
           0.7584932969046492,
           0.8362096943683038,
           0.7320671548693054,
           0.7516031903180442,
           0.7121627711091589,
           0.7571380894494013,
           0.7673092736227809,
           0.7842205077913047,
           0.7271860587839618,
           0.7338756917385527,
           0.8890868025366574,
           0.7224032316157567,
           0.8066953502033481,
           0.7234812165974698,
           0.8465026680760005,
           0.7383793730663331,
           0.8402183649716466,
           0.8446413672679932,
           0.8076077862998254,
           0.7193651977469311,
           0.7843866799722079,
           0.82476154920114,
           0.6643090595408682,
           0.8019939701839593
          ],
          [
           0.9103083039850948,
           0.8817726550796421,
           0.8091983572201211,
           0.7834694680026157,
           1.0000000000000007,
           0.8335127716137831,
           0.921856989720159,
           0.8380384541838506,
           0.7488052216825305,
           0.7756516745561974,
           0.7851810369091939,
           0.7746142006937515,
           0.8002962849922478,
           0.780248373798547,
           0.8311502357955753,
           0.7392409138543684,
           0.8789293198949113,
           0.8031284461230133,
           0.7788745923505929,
           0.7700214840648993,
           0.8898376064533267,
           0.8678880587398325,
           0.6841670789550117,
           0.897300845728506,
           0.7571406117374335,
           0.8195136716904967,
           0.7907924088428782,
           0.7460169339696814,
           0.661058717518284,
           0.9124991483697882,
           0.7604098491849305,
           0.829416844188398,
           0.8454641721430702,
           0.8827746298000527,
           0.786069180681345,
           0.6555260328491629,
           0.7711141072708481
          ],
          [
           0.8884310375142759,
           0.9157174437642575,
           0.7188893807812538,
           0.7529561079035803,
           0.8335127716137831,
           1,
           0.8199152762420345,
           0.8458025344607838,
           0.8240096992518204,
           0.7935942423306143,
           0.7549168657870132,
           0.8541269043370339,
           0.8368356120411483,
           0.8321109224052826,
           0.8429025657700328,
           0.7712815900849027,
           0.9164560006832391,
           0.8285006714684667,
           0.711501977982692,
           0.835089329281745,
           0.841811014795163,
           0.7698921899123603,
           0.6372236260145021,
           0.8534708207875222,
           0.8006363417914524,
           0.8279082096579504,
           0.7988520800338113,
           0.8262937115754803,
           0.7813750928739708,
           0.8677646951181316,
           0.7519890476141462,
           0.8408706305031486,
           0.8227562197282531,
           0.8213072176624241,
           0.723272127022633,
           0.633137554386136,
           0.6678166153501347
          ],
          [
           0.9357779429329518,
           0.8874034312334607,
           0.7987555329501608,
           0.7871636962933125,
           0.921856989720159,
           0.8199152762420345,
           1,
           0.8357483494075515,
           0.7241828450752852,
           0.8039827372169158,
           0.7916702660747816,
           0.75322522814736,
           0.8325725920878511,
           0.7746879565661171,
           0.848682378475991,
           0.709787948156348,
           0.8686928515760318,
           0.7930515179732653,
           0.7715910890545744,
           0.7381043729003245,
           0.9130788618183255,
           0.9197242257161531,
           0.6900565894699792,
           0.8840946600863457,
           0.7382644040341405,
           0.8369532992707479,
           0.7674105043793641,
           0.7428984878013348,
           0.6324361165134851,
           0.917997106266119,
           0.7630374462174194,
           0.8059331468680024,
           0.8232974398754345,
           0.8959737889512714,
           0.7735845354398772,
           0.6115130981985147,
           0.7601087554014987
          ],
          [
           0.8489589269874278,
           0.8657448976348823,
           0.7624303391223424,
           0.7906646146067136,
           0.8380384541838506,
           0.8458025344607838,
           0.8357483494075515,
           0.9999999999999998,
           0.7814018399681983,
           0.7740450557808363,
           0.7887275014015398,
           0.8325945909854184,
           0.86947279036249,
           0.83239766941013,
           0.8855314760594426,
           0.7693009810437967,
           0.8591963128806263,
           0.8460850492330269,
           0.7395826387747474,
           0.7610694105697672,
           0.8320040180443811,
           0.7717892856966652,
           0.6537524634369689,
           0.8612179281743911,
           0.7742616538685859,
           0.8310118684965736,
           0.8134695030658232,
           0.824486759573871,
           0.7150841125967289,
           0.8484414464499137,
           0.7634232584043814,
           0.8229938215539964,
           0.8152972692171208,
           0.8427554326604195,
           0.7315723085074738,
           0.6312839184286454,
           0.7243591869455965
          ],
          [
           0.7693044925320948,
           0.8227806920173286,
           0.7358578104486471,
           0.7912016279304726,
           0.7488052216825305,
           0.8240096992518204,
           0.7241828450752852,
           0.7814018399681983,
           0.9999999999999999,
           0.723312215752111,
           0.793508443142041,
           0.775092920373776,
           0.7535800146939604,
           0.7706416488173925,
           0.7913884443557155,
           0.7632291373594658,
           0.8013474158538104,
           0.7816069551828749,
           0.7245299102359185,
           0.8434979408745572,
           0.7396530569156332,
           0.6493821424732911,
           0.7061950316642125,
           0.8118400490008865,
           0.7196023471244516,
           0.6998290859518544,
           0.7542610767616061,
           0.7949309690569332,
           0.7871393768502187,
           0.7810561002049915,
           0.7389688602675895,
           0.7417656731579325,
           0.7140317115006101,
           0.7116155514559347,
           0.7062086860556293,
           0.6869842493694053,
           0.7163117432128567
          ],
          [
           0.8020196650485351,
           0.8197284830475611,
           0.7069438439853553,
           0.7424284314666256,
           0.7756516745561974,
           0.7935942423306143,
           0.8039827372169158,
           0.7740450557808363,
           0.723312215752111,
           0.9999999999999996,
           0.7490392926890083,
           0.7658935127301958,
           0.8275798148652783,
           0.7791944458487525,
           0.8117569483675036,
           0.7762955763323433,
           0.7887298022742966,
           0.7865663370330553,
           0.7455546135797113,
           0.7759117976673979,
           0.8187625081688833,
           0.7448029657062559,
           0.6913239690316477,
           0.8062347479863617,
           0.7699627712319843,
           0.8312870648885298,
           0.7767799312613503,
           0.7922594007853817,
           0.7176115460101992,
           0.7814969243652465,
           0.7582590597218053,
           0.82045247166844,
           0.7914990168366572,
           0.7434569011631647,
           0.7336760808084056,
           0.665279928866026,
           0.709188340958153
          ],
          [
           0.814015641918382,
           0.8037590897320739,
           0.8100047520003795,
           0.9107749592705938,
           0.7851810369091939,
           0.7549168657870132,
           0.7916702660747816,
           0.7887275014015398,
           0.793508443142041,
           0.7490392926890083,
           1.0000000000000004,
           0.7674485908215133,
           0.7264908841800864,
           0.7533099509010863,
           0.8374592959049401,
           0.739670429558737,
           0.7671574794164049,
           0.7257204633134803,
           0.8007168725748727,
           0.7709838378550358,
           0.7614285734551572,
           0.7206179917190707,
           0.7197916720919949,
           0.8639916043349058,
           0.7137839332353241,
           0.7225212293687954,
           0.7525138379830574,
           0.8039359877730533,
           0.7134757296606489,
           0.8285813608692576,
           0.7813814848055682,
           0.7430731977197497,
           0.7186349094879639,
           0.776846276276604,
           0.828523861019894,
           0.6739570179112739,
           0.7925568181305109
          ],
          [
           0.8164784228486992,
           0.8738620577384819,
           0.7470702188361859,
           0.8197352719961268,
           0.7746142006937515,
           0.8541269043370339,
           0.75322522814736,
           0.8325945909854184,
           0.775092920373776,
           0.7658935127301958,
           0.7674485908215133,
           1.0000000000000004,
           0.7755684683421477,
           0.8077561973957773,
           0.882670901517208,
           0.809205079833265,
           0.8385485375736913,
           0.7591954773988268,
           0.6827747031203404,
           0.8198864998372004,
           0.7538816829610802,
           0.6712471580538019,
           0.646218731488387,
           0.8501964607105378,
           0.7828071894840485,
           0.7940504597974097,
           0.8083008707899315,
           0.8501145478276178,
           0.7924861713699811,
           0.8626351238983462,
           0.7704180162898298,
           0.8327289283856866,
           0.7845678116931561,
           0.7893353123776488,
           0.7082050476792424,
           0.6524212671716595,
           0.7582353993292006
          ],
          [
           0.8452640006698638,
           0.8429918862859128,
           0.6858294598514202,
           0.7158262283003927,
           0.8002962849922478,
           0.8368356120411483,
           0.8325725920878511,
           0.86947279036249,
           0.7535800146939604,
           0.8275798148652783,
           0.7264908841800864,
           0.7755684683421477,
           1,
           0.7951285302802104,
           0.8467898349562656,
           0.7511153047227633,
           0.823542723872067,
           0.8760019968777715,
           0.6887530369896077,
           0.7651903027619786,
           0.8727719292201943,
           0.7881519907585304,
           0.6149761628451942,
           0.8123558087951182,
           0.7456222402787744,
           0.81098980843561,
           0.7674885287201694,
           0.7658815538702588,
           0.7034614172499077,
           0.8063558337682462,
           0.7134616876174655,
           0.7823586185947123,
           0.8175478299687332,
           0.7916208101276654,
           0.6750525444337282,
           0.585022633430465,
           0.6673415627281298
          ],
          [
           0.8191855932416363,
           0.8649245436462842,
           0.692757340257901,
           0.7584932969046492,
           0.780248373798547,
           0.8321109224052826,
           0.7746879565661171,
           0.83239766941013,
           0.7706416488173925,
           0.7791944458487525,
           0.7533099509010863,
           0.8077561973957773,
           0.7951285302802104,
           0.9999999999999999,
           0.8000134235763388,
           0.7209008153765243,
           0.8137556573130494,
           0.7808668873322695,
           0.720964125905587,
           0.7616602045352028,
           0.8244943003791328,
           0.7142304342549213,
           0.6114524078388931,
           0.8069485636223662,
           0.7361656519295872,
           0.8201155030410663,
           0.7319738950254233,
           0.790003993566715,
           0.7200768113198898,
           0.8174797032910547,
           0.7494967443353987,
           0.7855459668515753,
           0.7706769294333718,
           0.776278444006244,
           0.705044756867615,
           0.624138858934951,
           0.6819978309453428
          ],
          [
           0.8712203064055142,
           0.8866408463143532,
           0.7868176975232957,
           0.8362096943683038,
           0.8311502357955753,
           0.8429025657700328,
           0.848682378475991,
           0.8855314760594426,
           0.7913884443557155,
           0.8117569483675036,
           0.8374592959049401,
           0.882670901517208,
           0.8467898349562656,
           0.8000134235763388,
           1,
           0.835811345366496,
           0.871060501581393,
           0.8081619327734736,
           0.7478519544242144,
           0.8040049799943199,
           0.8348890706797146,
           0.7594191775481618,
           0.7017244718442257,
           0.894728518433512,
           0.7818687141865054,
           0.8078945512850696,
           0.8302895965726305,
           0.8378386268744726,
           0.778878091826528,
           0.9077175643273336,
           0.7869970162566099,
           0.8447698903141865,
           0.8226211791437849,
           0.8375469888701524,
           0.7664809075899314,
           0.6445995727925741,
           0.7958296737118364
          ],
          [
           0.7257689334668177,
           0.7633007158942575,
           0.6910802858626726,
           0.7320671548693054,
           0.7392409138543684,
           0.7712815900849027,
           0.709787948156348,
           0.7693009810437967,
           0.7632291373594658,
           0.7762955763323433,
           0.739670429558737,
           0.809205079833265,
           0.7511153047227633,
           0.7209008153765243,
           0.835811345366496,
           1.0000000000000004,
           0.7831675897203715,
           0.702790144797172,
           0.7378159815293153,
           0.8086601254573282,
           0.7461653420201025,
           0.6374706864312453,
           0.6566161806556559,
           0.7984816157891428,
           0.7575861170079026,
           0.7459243914972552,
           0.8042539748731663,
           0.7728155717041799,
           0.7413314060638607,
           0.7725639046884781,
           0.7356899172934166,
           0.8032770402078957,
           0.7728664309818232,
           0.6879412094384539,
           0.6758266758779561,
           0.6928435211484829,
           0.7063073691667809
          ],
          [
           0.9041858422370953,
           0.9064180806291895,
           0.7575137321395902,
           0.7516031903180442,
           0.8789293198949113,
           0.9164560006832391,
           0.8686928515760318,
           0.8591963128806263,
           0.8013474158538104,
           0.7887298022742966,
           0.7671574794164049,
           0.8385485375736913,
           0.823542723872067,
           0.8137556573130494,
           0.871060501581393,
           0.7831675897203715,
           1,
           0.8136804226342811,
           0.7261350905175086,
           0.8153059934423111,
           0.8638043912986568,
           0.8056672434327918,
           0.6371427585231557,
           0.8791968591451472,
           0.796446604997053,
           0.8000469616564987,
           0.8331463186033766,
           0.8150282785318207,
           0.75835738589478,
           0.9182215066749242,
           0.753422884192948,
           0.8599075804346716,
           0.8619276908252346,
           0.8825183813080248,
           0.74950594803591,
           0.6344151239459886,
           0.7185644516180226
          ],
          [
           0.831146915580267,
           0.8547511257933448,
           0.6920375331844042,
           0.7121627711091589,
           0.8031284461230133,
           0.8285006714684667,
           0.7930515179732653,
           0.8460850492330269,
           0.7816069551828749,
           0.7865663370330553,
           0.7257204633134803,
           0.7591954773988268,
           0.8760019968777715,
           0.7808668873322695,
           0.8081619327734736,
           0.702790144797172,
           0.8136804226342811,
           1.0000000000000002,
           0.6348597269003282,
           0.739002521364958,
           0.8212322765708714,
           0.7884612137376248,
           0.6642140806219464,
           0.8072697130680239,
           0.7432968945973855,
           0.7800735271341014,
           0.7643178340861184,
           0.7730968131367288,
           0.7068741863971495,
           0.7791615593339541,
           0.706507907405775,
           0.757869288872573,
           0.7660368765187283,
           0.7742542425128587,
           0.7167455919571212,
           0.594303343185421,
           0.7025361336794077
          ],
          [
           0.7344354120924699,
           0.7423455608310084,
           0.7441987446103417,
           0.7571380894494013,
           0.7788745923505929,
           0.711501977982692,
           0.7715910890545744,
           0.7395826387747474,
           0.7245299102359185,
           0.7455546135797113,
           0.8007168725748727,
           0.6827747031203404,
           0.6887530369896077,
           0.720964125905587,
           0.7478519544242144,
           0.7378159815293153,
           0.7261350905175086,
           0.6348597269003282,
           1.0000000000000002,
           0.7130240778992615,
           0.7263903992347579,
           0.6769534691239945,
           0.6599379024551918,
           0.7714266238994907,
           0.6743391253996177,
           0.725039296068664,
           0.6996088077800947,
           0.7081221345048634,
           0.6675901337615359,
           0.7660165431699306,
           0.7243620899780542,
           0.7238323113884663,
           0.7730147430200406,
           0.7200040887989546,
           0.7288973671216069,
           0.8045452739634048,
           0.7135014260002898
          ],
          [
           0.7794653598517614,
           0.804401198899253,
           0.7162975161743871,
           0.7673092736227809,
           0.7700214840648993,
           0.835089329281745,
           0.7381043729003245,
           0.7610694105697672,
           0.8434979408745572,
           0.7759117976673979,
           0.7709838378550358,
           0.8198864998372004,
           0.7651903027619786,
           0.7616602045352028,
           0.8040049799943199,
           0.8086601254573282,
           0.8153059934423111,
           0.739002521364958,
           0.7130240778992615,
           1.0000000000000004,
           0.7556320399823914,
           0.6664825387662743,
           0.6891996786222965,
           0.8275593638771767,
           0.7449439062355132,
           0.7436422803611378,
           0.7688018568291715,
           0.8239816295236174,
           0.7441724042212732,
           0.8049503218288733,
           0.7771635134598687,
           0.8010458558427309,
           0.7522631200230845,
           0.7428823827731631,
           0.7380691199001114,
           0.6741453074872688,
           0.6915543779918729
          ],
          [
           0.92136328611981,
           0.8893995579883132,
           0.745516664358812,
           0.7842205077913047,
           0.8898376064533267,
           0.841811014795163,
           0.9130788618183255,
           0.8320040180443811,
           0.7396530569156332,
           0.8187625081688833,
           0.7614285734551572,
           0.7538816829610802,
           0.8727719292201943,
           0.8244943003791328,
           0.8348890706797146,
           0.7461653420201025,
           0.8638043912986568,
           0.8212322765708714,
           0.7263903992347579,
           0.7556320399823914,
           1,
           0.8766464247396166,
           0.6569652303078013,
           0.8699896100648452,
           0.7659030869683863,
           0.8631667220921381,
           0.7525314663084309,
           0.7666785064900584,
           0.6792863268614235,
           0.8727912948280109,
           0.7397461799749372,
           0.8377755949401124,
           0.8390436717765871,
           0.8777333320851882,
           0.7598417613151508,
           0.6073835103436758,
           0.7279140235341409
          ],
          [
           0.9038815163967793,
           0.847047935645129,
           0.7164632285150225,
           0.7271860587839618,
           0.8678880587398325,
           0.7698921899123603,
           0.9197242257161531,
           0.7717892856966652,
           0.6493821424732911,
           0.7448029657062559,
           0.7206179917190707,
           0.6712471580538019,
           0.7881519907585304,
           0.7142304342549213,
           0.7594191775481618,
           0.6374706864312453,
           0.8056672434327918,
           0.7884612137376248,
           0.6769534691239945,
           0.6664825387662743,
           0.8766464247396166,
           1.0000000000000002,
           0.6261428875374846,
           0.8347658483255724,
           0.6643086134411963,
           0.8007767449855953,
           0.6738808231661714,
           0.6823456161153706,
           0.5670035362693581,
           0.8345905899508779,
           0.6816460777561504,
           0.7491534805872709,
           0.763958076391166,
           0.8318018196062777,
           0.7263287537567551,
           0.5277816984424855,
           0.6999255754274235
          ],
          [
           0.6690635772310298,
           0.6891644804710331,
           0.674523990320246,
           0.7338756917385527,
           0.6841670789550117,
           0.6372236260145021,
           0.6900565894699792,
           0.6537524634369689,
           0.7061950316642125,
           0.6913239690316477,
           0.7197916720919949,
           0.646218731488387,
           0.6149761628451942,
           0.6114524078388931,
           0.7017244718442257,
           0.6566161806556559,
           0.6371427585231557,
           0.6642140806219464,
           0.6599379024551918,
           0.6891996786222965,
           0.6569652303078013,
           0.6261428875374846,
           0.9999999999999996,
           0.7226692810787952,
           0.5694759654790611,
           0.6803023469481735,
           0.7050658717218083,
           0.7144542513860299,
           0.604130140909379,
           0.6732712393936638,
           0.6920542072673377,
           0.652720586680364,
           0.6035814811204729,
           0.6530764567732672,
           0.695417878452471,
           0.6260026496664026,
           0.7018826377911402
          ],
          [
           0.9321807002670379,
           0.9205240992896057,
           0.8202027477460128,
           0.8890868025366574,
           0.897300845728506,
           0.8534708207875222,
           0.8840946600863457,
           0.8612179281743911,
           0.8118400490008865,
           0.8062347479863617,
           0.8639916043349058,
           0.8501964607105378,
           0.8123558087951182,
           0.8069485636223662,
           0.894728518433512,
           0.7984816157891428,
           0.8791968591451472,
           0.8072697130680239,
           0.7714266238994907,
           0.8275593638771767,
           0.8699896100648452,
           0.8347658483255724,
           0.7226692810787952,
           0.9999999999999999,
           0.7467520876272193,
           0.8545770430032208,
           0.8037252225876856,
           0.8450930936961302,
           0.733911392319674,
           0.9352048987334812,
           0.8179349119750363,
           0.8798129993262837,
           0.8112967614334166,
           0.8808425338443325,
           0.8119973448967474,
           0.6548570355320934,
           0.8348664743903393
          ],
          [
           0.7534564016290107,
           0.7872138644075343,
           0.6905030592003636,
           0.7224032316157567,
           0.7571406117374335,
           0.8006363417914524,
           0.7382644040341405,
           0.7742616538685859,
           0.7196023471244516,
           0.7699627712319843,
           0.7137839332353241,
           0.7828071894840485,
           0.7456222402787744,
           0.7361656519295872,
           0.7818687141865054,
           0.7575861170079026,
           0.796446604997053,
           0.7432968945973855,
           0.6743391253996177,
           0.7449439062355132,
           0.7659030869683863,
           0.6643086134411963,
           0.5694759654790611,
           0.7467520876272193,
           0.9999999999999999,
           0.7588016302149468,
           0.773762883653106,
           0.7455637534573711,
           0.7090715620869295,
           0.7605152446934501,
           0.7481929260297988,
           0.7882778160532438,
           0.7691679055437858,
           0.7240663192056034,
           0.6674414427057861,
           0.609310870837524,
           0.671589306765903
          ],
          [
           0.8554841130815649,
           0.8660730322457909,
           0.7030303888805444,
           0.8066953502033481,
           0.8195136716904967,
           0.8279082096579504,
           0.8369532992707479,
           0.8310118684965736,
           0.6998290859518544,
           0.8312870648885298,
           0.7225212293687954,
           0.7940504597974097,
           0.81098980843561,
           0.8201155030410663,
           0.8078945512850696,
           0.7459243914972552,
           0.8000469616564987,
           0.7800735271341014,
           0.725039296068664,
           0.7436422803611378,
           0.8631667220921381,
           0.8007767449855953,
           0.6803023469481735,
           0.8545770430032208,
           0.7588016302149468,
           0.9999999999999998,
           0.7457580179243348,
           0.7913081718485002,
           0.673299946069617,
           0.8225567888544069,
           0.7860313115233278,
           0.9140096141467218,
           0.809502829578289,
           0.8262526214205178,
           0.7158342307082889,
           0.6593685483658525,
           0.7121726574584967
          ],
          [
           0.75449095589049,
           0.7801242027308686,
           0.7400971650140054,
           0.7234812165974698,
           0.7907924088428782,
           0.7988520800338113,
           0.7674105043793641,
           0.8134695030658232,
           0.7542610767616061,
           0.7767799312613503,
           0.7525138379830574,
           0.8083008707899315,
           0.7674885287201694,
           0.7319738950254233,
           0.8302895965726305,
           0.8042539748731663,
           0.8331463186033766,
           0.7643178340861184,
           0.6996088077800947,
           0.7688018568291715,
           0.7525314663084309,
           0.6738808231661714,
           0.7050658717218083,
           0.8037252225876856,
           0.773762883653106,
           0.7457580179243348,
           1.0000000000000002,
           0.7870162126568501,
           0.7104541090294416,
           0.8096147423942578,
           0.7500363365850847,
           0.7997514392020233,
           0.7893269735273792,
           0.782207840389654,
           0.6964930591020653,
           0.6392594901631374,
           0.7363145313922237
          ],
          [
           0.8093758993773731,
           0.8444011852819359,
           0.7217853064798746,
           0.8465026680760005,
           0.7460169339696814,
           0.8262937115754803,
           0.7428984878013348,
           0.824486759573871,
           0.7949309690569332,
           0.7922594007853817,
           0.8039359877730533,
           0.8501145478276178,
           0.7658815538702588,
           0.790003993566715,
           0.8378386268744726,
           0.7728155717041799,
           0.8150282785318207,
           0.7730968131367288,
           0.7081221345048634,
           0.8239816295236174,
           0.7666785064900584,
           0.6823456161153706,
           0.7144542513860299,
           0.8450930936961302,
           0.7455637534573711,
           0.7913081718485002,
           0.7870162126568501,
           1.0000000000000007,
           0.766394462492851,
           0.8147634806943366,
           0.8155283165179836,
           0.821003246306987,
           0.7616227640371747,
           0.7703770125790033,
           0.762124614659819,
           0.6767055937242992,
           0.7059017913163813
          ],
          [
           0.7127422949669047,
           0.7653472832139008,
           0.6393286731665508,
           0.7383793730663331,
           0.661058717518284,
           0.7813750928739708,
           0.6324361165134851,
           0.7150841125967289,
           0.7871393768502187,
           0.7176115460101992,
           0.7134757296606489,
           0.7924861713699811,
           0.7034614172499077,
           0.7200768113198898,
           0.778878091826528,
           0.7413314060638607,
           0.75835738589478,
           0.7068741863971495,
           0.6675901337615359,
           0.7441724042212732,
           0.6792863268614235,
           0.5670035362693581,
           0.604130140909379,
           0.733911392319674,
           0.7090715620869295,
           0.673299946069617,
           0.7104541090294416,
           0.766394462492851,
           1.0000000000000002,
           0.7302959869834477,
           0.6911705146450087,
           0.7440225788074095,
           0.7246396883832001,
           0.6538418624360041,
           0.712845894277485,
           0.687501436001498,
           0.6549570312074406
          ],
          [
           0.9478770977226494,
           0.9299103712603214,
           0.8199398512206424,
           0.8402183649716466,
           0.9124991483697882,
           0.8677646951181316,
           0.917997106266119,
           0.8484414464499137,
           0.7810561002049915,
           0.7814969243652465,
           0.8285813608692576,
           0.8626351238983462,
           0.8063558337682462,
           0.8174797032910547,
           0.9077175643273336,
           0.7725639046884781,
           0.9182215066749242,
           0.7791615593339541,
           0.7660165431699306,
           0.8049503218288733,
           0.8727912948280109,
           0.8345905899508779,
           0.6732712393936638,
           0.9352048987334812,
           0.7605152446934501,
           0.8225567888544069,
           0.8096147423942578,
           0.8147634806943366,
           0.7302959869834477,
           0.9999999999999998,
           0.7967900316558136,
           0.8593187357169881,
           0.8217511725929241,
           0.9079323963815492,
           0.7896225106057643,
           0.6270149459599774,
           0.7854831857493967
          ],
          [
           0.77582574603901,
           0.7987798944222758,
           0.7223552945326601,
           0.8446413672679932,
           0.7604098491849305,
           0.7519890476141462,
           0.7630374462174194,
           0.7634232584043814,
           0.7389688602675895,
           0.7582590597218053,
           0.7813814848055682,
           0.7704180162898298,
           0.7134616876174655,
           0.7494967443353987,
           0.7869970162566099,
           0.7356899172934166,
           0.753422884192948,
           0.706507907405775,
           0.7243620899780542,
           0.7771635134598687,
           0.7397461799749372,
           0.6816460777561504,
           0.6920542072673377,
           0.8179349119750363,
           0.7481929260297988,
           0.7860313115233278,
           0.7500363365850847,
           0.8155283165179836,
           0.6911705146450087,
           0.7967900316558136,
           1.0000000000000002,
           0.7909751887531168,
           0.7622869401446302,
           0.7040466354118508,
           0.7733203055041847,
           0.6779099487769087,
           0.6991874323891996
          ],
          [
           0.8551607545428219,
           0.8663139061271549,
           0.7247568820513356,
           0.8076077862998254,
           0.829416844188398,
           0.8408706305031486,
           0.8059331468680024,
           0.8229938215539964,
           0.7417656731579325,
           0.82045247166844,
           0.7430731977197497,
           0.8327289283856866,
           0.7823586185947123,
           0.7855459668515753,
           0.8447698903141865,
           0.8032770402078957,
           0.8599075804346716,
           0.757869288872573,
           0.7238323113884663,
           0.8010458558427309,
           0.8377755949401124,
           0.7491534805872709,
           0.652720586680364,
           0.8798129993262837,
           0.7882778160532438,
           0.9140096141467218,
           0.7997514392020233,
           0.821003246306987,
           0.7440225788074095,
           0.8593187357169881,
           0.7909751887531168,
           1,
           0.8360639774371311,
           0.8191912997289298,
           0.7412045477566028,
           0.6887943269748368,
           0.7327311313947135
          ],
          [
           0.8135921288396581,
           0.8233146632376003,
           0.7025673846338677,
           0.7193651977469311,
           0.8454641721430702,
           0.8227562197282531,
           0.8232974398754345,
           0.8152972692171208,
           0.7140317115006101,
           0.7914990168366572,
           0.7186349094879639,
           0.7845678116931561,
           0.8175478299687332,
           0.7706769294333718,
           0.8226211791437849,
           0.7728664309818232,
           0.8619276908252346,
           0.7660368765187283,
           0.7730147430200406,
           0.7522631200230845,
           0.8390436717765871,
           0.763958076391166,
           0.6035814811204729,
           0.8112967614334166,
           0.7691679055437858,
           0.809502829578289,
           0.7893269735273792,
           0.7616227640371747,
           0.7246396883832001,
           0.8217511725929241,
           0.7622869401446302,
           0.8360639774371311,
           1,
           0.8018024776141955,
           0.7001792505285789,
           0.7127985941805014,
           0.7019247697398633
          ],
          [
           0.9016695859626094,
           0.8662051838448052,
           0.7750347653790177,
           0.7843866799722079,
           0.8827746298000527,
           0.8213072176624241,
           0.8959737889512714,
           0.8427554326604195,
           0.7116155514559347,
           0.7434569011631647,
           0.776846276276604,
           0.7893353123776488,
           0.7916208101276654,
           0.776278444006244,
           0.8375469888701524,
           0.6879412094384539,
           0.8825183813080248,
           0.7742542425128587,
           0.7200040887989546,
           0.7428823827731631,
           0.8777333320851882,
           0.8318018196062777,
           0.6530764567732672,
           0.8808425338443325,
           0.7240663192056034,
           0.8262526214205178,
           0.782207840389654,
           0.7703770125790033,
           0.6538418624360041,
           0.9079323963815492,
           0.7040466354118508,
           0.8191912997289298,
           0.8018024776141955,
           1,
           0.7561478523049504,
           0.5737141558316307,
           0.7449516085267195
          ],
          [
           0.7901970706776285,
           0.7794921692311307,
           0.7907888040477871,
           0.82476154920114,
           0.786069180681345,
           0.723272127022633,
           0.7735845354398772,
           0.7315723085074738,
           0.7062086860556293,
           0.7336760808084056,
           0.828523861019894,
           0.7082050476792424,
           0.6750525444337282,
           0.705044756867615,
           0.7664809075899314,
           0.6758266758779561,
           0.74950594803591,
           0.7167455919571212,
           0.7288973671216069,
           0.7380691199001114,
           0.7598417613151508,
           0.7263287537567551,
           0.695417878452471,
           0.8119973448967474,
           0.6674414427057861,
           0.7158342307082889,
           0.6964930591020653,
           0.762124614659819,
           0.712845894277485,
           0.7896225106057643,
           0.7733203055041847,
           0.7412045477566028,
           0.7001792505285789,
           0.7561478523049504,
           1,
           0.6444946858472989,
           0.7537739358785993
          ],
          [
           0.5867892239044376,
           0.635800908555469,
           0.6941801797048779,
           0.6643090595408682,
           0.6555260328491629,
           0.633137554386136,
           0.6115130981985147,
           0.6312839184286454,
           0.6869842493694053,
           0.665279928866026,
           0.6739570179112739,
           0.6524212671716595,
           0.585022633430465,
           0.624138858934951,
           0.6445995727925741,
           0.6928435211484829,
           0.6344151239459886,
           0.594303343185421,
           0.8045452739634048,
           0.6741453074872688,
           0.6073835103436758,
           0.5277816984424855,
           0.6260026496664026,
           0.6548570355320934,
           0.609310870837524,
           0.6593685483658525,
           0.6392594901631374,
           0.6767055937242992,
           0.687501436001498,
           0.6270149459599774,
           0.6779099487769087,
           0.6887943269748368,
           0.7127985941805014,
           0.5737141558316307,
           0.6444946858472989,
           1,
           0.6416110159908632
          ],
          [
           0.75894248470958,
           0.7672269573779928,
           0.7780484219076442,
           0.8019939701839593,
           0.7711141072708481,
           0.6678166153501347,
           0.7601087554014987,
           0.7243591869455965,
           0.7163117432128567,
           0.709188340958153,
           0.7925568181305109,
           0.7582353993292006,
           0.6673415627281298,
           0.6819978309453428,
           0.7958296737118364,
           0.7063073691667809,
           0.7185644516180226,
           0.7025361336794077,
           0.7135014260002898,
           0.6915543779918729,
           0.7279140235341409,
           0.6999255754274235,
           0.7018826377911402,
           0.8348664743903393,
           0.671589306765903,
           0.7121726574584967,
           0.7363145313922237,
           0.7059017913163813,
           0.6549570312074406,
           0.7854831857493967,
           0.6991874323891996,
           0.7327311313947135,
           0.7019247697398633,
           0.7449516085267195,
           0.7537739358785993,
           0.6416110159908632,
           0.9999999999999998
          ]
         ]
        }
       ],
       "layout": {
        "coloraxis": {
         "colorbar": {
          "title": {
           "text": "Similarity Score"
          }
         },
         "colorscale": [
          [
           0,
           "rgb(247,252,240)"
          ],
          [
           0.125,
           "rgb(224,243,219)"
          ],
          [
           0.25,
           "rgb(204,235,197)"
          ],
          [
           0.375,
           "rgb(168,221,181)"
          ],
          [
           0.5,
           "rgb(123,204,196)"
          ],
          [
           0.625,
           "rgb(78,179,211)"
          ],
          [
           0.75,
           "rgb(43,140,190)"
          ],
          [
           0.875,
           "rgb(8,104,172)"
          ],
          [
           1,
           "rgb(8,64,129)"
          ]
         ]
        },
        "height": 800,
        "hoverlabel": {
         "bgcolor": "white",
         "font": {
          "family": "Rockwell",
          "size": 16
         }
        },
        "legend": {
         "title": {
          "text": "Trend"
         }
        },
        "margin": {
         "t": 60
        },
        "showlegend": true,
        "template": {
         "data": {
          "bar": [
           {
            "error_x": {
             "color": "#2a3f5f"
            },
            "error_y": {
             "color": "#2a3f5f"
            },
            "marker": {
             "line": {
              "color": "#E5ECF6",
              "width": 0.5
             },
             "pattern": {
              "fillmode": "overlay",
              "size": 10,
              "solidity": 0.2
             }
            },
            "type": "bar"
           }
          ],
          "barpolar": [
           {
            "marker": {
             "line": {
              "color": "#E5ECF6",
              "width": 0.5
             },
             "pattern": {
              "fillmode": "overlay",
              "size": 10,
              "solidity": 0.2
             }
            },
            "type": "barpolar"
           }
          ],
          "carpet": [
           {
            "aaxis": {
             "endlinecolor": "#2a3f5f",
             "gridcolor": "white",
             "linecolor": "white",
             "minorgridcolor": "white",
             "startlinecolor": "#2a3f5f"
            },
            "baxis": {
             "endlinecolor": "#2a3f5f",
             "gridcolor": "white",
             "linecolor": "white",
             "minorgridcolor": "white",
             "startlinecolor": "#2a3f5f"
            },
            "type": "carpet"
           }
          ],
          "choropleth": [
           {
            "colorbar": {
             "outlinewidth": 0,
             "ticks": ""
            },
            "type": "choropleth"
           }
          ],
          "contour": [
           {
            "colorbar": {
             "outlinewidth": 0,
             "ticks": ""
            },
            "colorscale": [
             [
              0,
              "#0d0887"
             ],
             [
              0.1111111111111111,
              "#46039f"
             ],
             [
              0.2222222222222222,
              "#7201a8"
             ],
             [
              0.3333333333333333,
              "#9c179e"
             ],
             [
              0.4444444444444444,
              "#bd3786"
             ],
             [
              0.5555555555555556,
              "#d8576b"
             ],
             [
              0.6666666666666666,
              "#ed7953"
             ],
             [
              0.7777777777777778,
              "#fb9f3a"
             ],
             [
              0.8888888888888888,
              "#fdca26"
             ],
             [
              1,
              "#f0f921"
             ]
            ],
            "type": "contour"
           }
          ],
          "contourcarpet": [
           {
            "colorbar": {
             "outlinewidth": 0,
             "ticks": ""
            },
            "type": "contourcarpet"
           }
          ],
          "heatmap": [
           {
            "colorbar": {
             "outlinewidth": 0,
             "ticks": ""
            },
            "colorscale": [
             [
              0,
              "#0d0887"
             ],
             [
              0.1111111111111111,
              "#46039f"
             ],
             [
              0.2222222222222222,
              "#7201a8"
             ],
             [
              0.3333333333333333,
              "#9c179e"
             ],
             [
              0.4444444444444444,
              "#bd3786"
             ],
             [
              0.5555555555555556,
              "#d8576b"
             ],
             [
              0.6666666666666666,
              "#ed7953"
             ],
             [
              0.7777777777777778,
              "#fb9f3a"
             ],
             [
              0.8888888888888888,
              "#fdca26"
             ],
             [
              1,
              "#f0f921"
             ]
            ],
            "type": "heatmap"
           }
          ],
          "heatmapgl": [
           {
            "colorbar": {
             "outlinewidth": 0,
             "ticks": ""
            },
            "colorscale": [
             [
              0,
              "#0d0887"
             ],
             [
              0.1111111111111111,
              "#46039f"
             ],
             [
              0.2222222222222222,
              "#7201a8"
             ],
             [
              0.3333333333333333,
              "#9c179e"
             ],
             [
              0.4444444444444444,
              "#bd3786"
             ],
             [
              0.5555555555555556,
              "#d8576b"
             ],
             [
              0.6666666666666666,
              "#ed7953"
             ],
             [
              0.7777777777777778,
              "#fb9f3a"
             ],
             [
              0.8888888888888888,
              "#fdca26"
             ],
             [
              1,
              "#f0f921"
             ]
            ],
            "type": "heatmapgl"
           }
          ],
          "histogram": [
           {
            "marker": {
             "pattern": {
              "fillmode": "overlay",
              "size": 10,
              "solidity": 0.2
             }
            },
            "type": "histogram"
           }
          ],
          "histogram2d": [
           {
            "colorbar": {
             "outlinewidth": 0,
             "ticks": ""
            },
            "colorscale": [
             [
              0,
              "#0d0887"
             ],
             [
              0.1111111111111111,
              "#46039f"
             ],
             [
              0.2222222222222222,
              "#7201a8"
             ],
             [
              0.3333333333333333,
              "#9c179e"
             ],
             [
              0.4444444444444444,
              "#bd3786"
             ],
             [
              0.5555555555555556,
              "#d8576b"
             ],
             [
              0.6666666666666666,
              "#ed7953"
             ],
             [
              0.7777777777777778,
              "#fb9f3a"
             ],
             [
              0.8888888888888888,
              "#fdca26"
             ],
             [
              1,
              "#f0f921"
             ]
            ],
            "type": "histogram2d"
           }
          ],
          "histogram2dcontour": [
           {
            "colorbar": {
             "outlinewidth": 0,
             "ticks": ""
            },
            "colorscale": [
             [
              0,
              "#0d0887"
             ],
             [
              0.1111111111111111,
              "#46039f"
             ],
             [
              0.2222222222222222,
              "#7201a8"
             ],
             [
              0.3333333333333333,
              "#9c179e"
             ],
             [
              0.4444444444444444,
              "#bd3786"
             ],
             [
              0.5555555555555556,
              "#d8576b"
             ],
             [
              0.6666666666666666,
              "#ed7953"
             ],
             [
              0.7777777777777778,
              "#fb9f3a"
             ],
             [
              0.8888888888888888,
              "#fdca26"
             ],
             [
              1,
              "#f0f921"
             ]
            ],
            "type": "histogram2dcontour"
           }
          ],
          "mesh3d": [
           {
            "colorbar": {
             "outlinewidth": 0,
             "ticks": ""
            },
            "type": "mesh3d"
           }
          ],
          "parcoords": [
           {
            "line": {
             "colorbar": {
              "outlinewidth": 0,
              "ticks": ""
             }
            },
            "type": "parcoords"
           }
          ],
          "pie": [
           {
            "automargin": true,
            "type": "pie"
           }
          ],
          "scatter": [
           {
            "marker": {
             "colorbar": {
              "outlinewidth": 0,
              "ticks": ""
             }
            },
            "type": "scatter"
           }
          ],
          "scatter3d": [
           {
            "line": {
             "colorbar": {
              "outlinewidth": 0,
              "ticks": ""
             }
            },
            "marker": {
             "colorbar": {
              "outlinewidth": 0,
              "ticks": ""
             }
            },
            "type": "scatter3d"
           }
          ],
          "scattercarpet": [
           {
            "marker": {
             "colorbar": {
              "outlinewidth": 0,
              "ticks": ""
             }
            },
            "type": "scattercarpet"
           }
          ],
          "scattergeo": [
           {
            "marker": {
             "colorbar": {
              "outlinewidth": 0,
              "ticks": ""
             }
            },
            "type": "scattergeo"
           }
          ],
          "scattergl": [
           {
            "marker": {
             "colorbar": {
              "outlinewidth": 0,
              "ticks": ""
             }
            },
            "type": "scattergl"
           }
          ],
          "scattermapbox": [
           {
            "marker": {
             "colorbar": {
              "outlinewidth": 0,
              "ticks": ""
             }
            },
            "type": "scattermapbox"
           }
          ],
          "scatterpolar": [
           {
            "marker": {
             "colorbar": {
              "outlinewidth": 0,
              "ticks": ""
             }
            },
            "type": "scatterpolar"
           }
          ],
          "scatterpolargl": [
           {
            "marker": {
             "colorbar": {
              "outlinewidth": 0,
              "ticks": ""
             }
            },
            "type": "scatterpolargl"
           }
          ],
          "scatterternary": [
           {
            "marker": {
             "colorbar": {
              "outlinewidth": 0,
              "ticks": ""
             }
            },
            "type": "scatterternary"
           }
          ],
          "surface": [
           {
            "colorbar": {
             "outlinewidth": 0,
             "ticks": ""
            },
            "colorscale": [
             [
              0,
              "#0d0887"
             ],
             [
              0.1111111111111111,
              "#46039f"
             ],
             [
              0.2222222222222222,
              "#7201a8"
             ],
             [
              0.3333333333333333,
              "#9c179e"
             ],
             [
              0.4444444444444444,
              "#bd3786"
             ],
             [
              0.5555555555555556,
              "#d8576b"
             ],
             [
              0.6666666666666666,
              "#ed7953"
             ],
             [
              0.7777777777777778,
              "#fb9f3a"
             ],
             [
              0.8888888888888888,
              "#fdca26"
             ],
             [
              1,
              "#f0f921"
             ]
            ],
            "type": "surface"
           }
          ],
          "table": [
           {
            "cells": {
             "fill": {
              "color": "#EBF0F8"
             },
             "line": {
              "color": "white"
             }
            },
            "header": {
             "fill": {
              "color": "#C8D4E3"
             },
             "line": {
              "color": "white"
             }
            },
            "type": "table"
           }
          ]
         },
         "layout": {
          "annotationdefaults": {
           "arrowcolor": "#2a3f5f",
           "arrowhead": 0,
           "arrowwidth": 1
          },
          "autotypenumbers": "strict",
          "coloraxis": {
           "colorbar": {
            "outlinewidth": 0,
            "ticks": ""
           }
          },
          "colorscale": {
           "diverging": [
            [
             0,
             "#8e0152"
            ],
            [
             0.1,
             "#c51b7d"
            ],
            [
             0.2,
             "#de77ae"
            ],
            [
             0.3,
             "#f1b6da"
            ],
            [
             0.4,
             "#fde0ef"
            ],
            [
             0.5,
             "#f7f7f7"
            ],
            [
             0.6,
             "#e6f5d0"
            ],
            [
             0.7,
             "#b8e186"
            ],
            [
             0.8,
             "#7fbc41"
            ],
            [
             0.9,
             "#4d9221"
            ],
            [
             1,
             "#276419"
            ]
           ],
           "sequential": [
            [
             0,
             "#0d0887"
            ],
            [
             0.1111111111111111,
             "#46039f"
            ],
            [
             0.2222222222222222,
             "#7201a8"
            ],
            [
             0.3333333333333333,
             "#9c179e"
            ],
            [
             0.4444444444444444,
             "#bd3786"
            ],
            [
             0.5555555555555556,
             "#d8576b"
            ],
            [
             0.6666666666666666,
             "#ed7953"
            ],
            [
             0.7777777777777778,
             "#fb9f3a"
            ],
            [
             0.8888888888888888,
             "#fdca26"
            ],
            [
             1,
             "#f0f921"
            ]
           ],
           "sequentialminus": [
            [
             0,
             "#0d0887"
            ],
            [
             0.1111111111111111,
             "#46039f"
            ],
            [
             0.2222222222222222,
             "#7201a8"
            ],
            [
             0.3333333333333333,
             "#9c179e"
            ],
            [
             0.4444444444444444,
             "#bd3786"
            ],
            [
             0.5555555555555556,
             "#d8576b"
            ],
            [
             0.6666666666666666,
             "#ed7953"
            ],
            [
             0.7777777777777778,
             "#fb9f3a"
            ],
            [
             0.8888888888888888,
             "#fdca26"
            ],
            [
             1,
             "#f0f921"
            ]
           ]
          },
          "colorway": [
           "#636efa",
           "#EF553B",
           "#00cc96",
           "#ab63fa",
           "#FFA15A",
           "#19d3f3",
           "#FF6692",
           "#B6E880",
           "#FF97FF",
           "#FECB52"
          ],
          "font": {
           "color": "#2a3f5f"
          },
          "geo": {
           "bgcolor": "white",
           "lakecolor": "white",
           "landcolor": "#E5ECF6",
           "showlakes": true,
           "showland": true,
           "subunitcolor": "white"
          },
          "hoverlabel": {
           "align": "left"
          },
          "hovermode": "closest",
          "mapbox": {
           "style": "light"
          },
          "paper_bgcolor": "white",
          "plot_bgcolor": "#E5ECF6",
          "polar": {
           "angularaxis": {
            "gridcolor": "white",
            "linecolor": "white",
            "ticks": ""
           },
           "bgcolor": "#E5ECF6",
           "radialaxis": {
            "gridcolor": "white",
            "linecolor": "white",
            "ticks": ""
           }
          },
          "scene": {
           "xaxis": {
            "backgroundcolor": "#E5ECF6",
            "gridcolor": "white",
            "gridwidth": 2,
            "linecolor": "white",
            "showbackground": true,
            "ticks": "",
            "zerolinecolor": "white"
           },
           "yaxis": {
            "backgroundcolor": "#E5ECF6",
            "gridcolor": "white",
            "gridwidth": 2,
            "linecolor": "white",
            "showbackground": true,
            "ticks": "",
            "zerolinecolor": "white"
           },
           "zaxis": {
            "backgroundcolor": "#E5ECF6",
            "gridcolor": "white",
            "gridwidth": 2,
            "linecolor": "white",
            "showbackground": true,
            "ticks": "",
            "zerolinecolor": "white"
           }
          },
          "shapedefaults": {
           "line": {
            "color": "#2a3f5f"
           }
          },
          "ternary": {
           "aaxis": {
            "gridcolor": "white",
            "linecolor": "white",
            "ticks": ""
           },
           "baxis": {
            "gridcolor": "white",
            "linecolor": "white",
            "ticks": ""
           },
           "bgcolor": "#E5ECF6",
           "caxis": {
            "gridcolor": "white",
            "linecolor": "white",
            "ticks": ""
           }
          },
          "title": {
           "x": 0.05
          },
          "xaxis": {
           "automargin": true,
           "gridcolor": "white",
           "linecolor": "white",
           "ticks": "",
           "title": {
            "standoff": 15
           },
           "zerolinecolor": "white",
           "zerolinewidth": 2
          },
          "yaxis": {
           "automargin": true,
           "gridcolor": "white",
           "linecolor": "white",
           "ticks": "",
           "title": {
            "standoff": 15
           },
           "zerolinecolor": "white",
           "zerolinewidth": 2
          }
         }
        },
        "title": {
         "font": {
          "color": "Black",
          "size": 22
         },
         "text": "<b>Similarity Matrix",
         "x": 0.55,
         "xanchor": "center",
         "y": 0.95,
         "yanchor": "top"
        },
        "width": 800,
        "xaxis": {
         "anchor": "y",
         "autorange": true,
         "constrain": "domain",
         "domain": [
          0,
          1
         ],
         "range": [
          -0.5,
          36.5
         ],
         "scaleanchor": "y",
         "type": "category"
        },
        "yaxis": {
         "anchor": "x",
         "autorange": true,
         "constrain": "domain",
         "domain": [
          0.14497528830313017,
          0.8550247116968699
         ],
         "range": [
          36.5,
          -0.5
         ],
         "type": "category"
        }
       }
      },
      "image/png": "[encoded data removed]",
      "text/html": [
       "<div>                            <div id=\"dd1ffbbc-d8a8-43f6-97b3-cf8d92ecd943\" class=\"plotly-graph-div\" style=\"height:800px; width:800px;\"></div>            <script type=\"text/javascript\">                require([\"plotly\"], function(Plotly) {                    window.PLOTLYENV=window.PLOTLYENV || {};                                    if (document.getElementById(\"dd1ffbbc-d8a8-43f6-97b3-cf8d92ecd943\")) {                    Plotly.newPlot(                        \"dd1ffbbc-d8a8-43f6-97b3-cf8d92ecd943\",                        [{\"coloraxis\":\"coloraxis\",\"name\":\"0\",\"x\":[\"0_florida_students_voter\",\"1_following_nslve_plan\",\"2_engagement_civic_community\",\"3_osl_voter_vote\",\"4_michigan_students_voter\",\"5_voter_students_voting\",\"6_illinois_uic_chicago\",\"7_jmu_students_madison\",\"8_etsu_mtsu_tennessee\",\"9_ti_civic_engagement\",\"10_colorado_students_msu\",\"11_iowa_voter_campus\",\"12_georgia_emory_students\",\"13_indiana_iu_campus\",\"14_asu_nau_asasu\",\"15_students_campus_dartmouth\",\"16_wisconsin_uw_voting\",\"17_csun_students_san\",\"18_leavitt_msmu_utah\",\"19_mercer_voter_vote\",\"20_shipvotes_campus_voter\",\"21_tcnj_rider_jersey\",\"22_students_udc_community\",\"23_umsl_missouri_voter\",\"24_unc_carolina_nc\",\"25_umn_minnesota_register\",\"26_connecticut_columbus_stu...\",\"27_wesleyan_virginia_vwu\",\"28_campus_voter_students\",\"29_mica_umbc_civic\",\"30_uncp_campus_students\",\"31_ucsb_voter_clara\",\"32_binghamton_voter_students\",\"33_rit_rtv_roar\",\"34_csb_sju_saint\",\"35_rvotes_rvcc_plan\",\"36_hws_votes_hamvotes\"],\"y\":[\"0_florida_students_voter\",\"1_following_nslve_plan\",\"2_engagement_civic_community\",\"3_osl_voter_vote\",\"4_michigan_students_voter\",\"5_voter_students_voting\",\"6_illinois_uic_chicago\",\"7_jmu_students_madison\",\"8_etsu_mtsu_tennessee\",\"9_ti_civic_engagement\",\"10_colorado_students_msu\",\"11_iowa_voter_campus\",\"12_georgia_emory_students\",\"13_indiana_iu_campus\",\"14_asu_nau_asasu\",\"15_students_campus_dartmouth\",\"16_wisconsin_uw_voting\",\"17_csun_students_san\",\"18_leavitt_msmu_utah\",\"19_mercer_voter_vote\",\"20_shipvotes_campus_voter\",\"21_tcnj_rider_jersey\",\"22_students_udc_community\",\"23_umsl_missouri_voter\",\"24_unc_carolina_nc\",\"25_umn_minnesota_register\",\"26_connecticut_columbus_stu...\",\"27_wesleyan_virginia_vwu\",\"28_campus_voter_students\",\"29_mica_umbc_civic\",\"30_uncp_campus_students\",\"31_ucsb_voter_clara\",\"32_binghamton_voter_students\",\"33_rit_rtv_roar\",\"34_csb_sju_saint\",\"35_rvotes_rvcc_plan\",\"36_hws_votes_hamvotes\"],\"z\":[[1.0000000000000004,0.9655511696760526,0.7692174643340346,0.8406002267266274,0.9103083039850948,0.8884310375142759,0.9357779429329518,0.8489589269874278,0.7693044925320948,0.8020196650485351,0.814015641918382,0.8164784228486992,0.8452640006698638,0.8191855932416363,0.8712203064055142,0.7257689334668177,0.9041858422370953,0.831146915580267,0.7344354120924699,0.7794653598517614,0.92136328611981,0.9038815163967793,0.6690635772310298,0.9321807002670379,0.7534564016290107,0.8554841130815649,0.75449095589049,0.8093758993773731,0.7127422949669047,0.9478770977226494,0.77582574603901,0.8551607545428219,0.8135921288396581,0.9016695859626094,0.7901970706776285,0.5867892239044376,0.75894248470958],[0.9655511696760526,0.9999999999999996,0.7641229990552554,0.8542969765439333,0.8817726550796421,0.9157174437642575,0.8874034312334607,0.8657448976348823,0.8227806920173286,0.8197284830475611,0.8037590897320739,0.8738620577384819,0.8429918862859128,0.8649245436462842,0.8866408463143532,0.7633007158942575,0.9064180806291895,0.8547511257933448,0.7423455608310084,0.804401198899253,0.8893995579883132,0.847047935645129,0.6891644804710331,0.9205240992896057,0.7872138644075343,0.8660730322457909,0.7801242027308686,0.8444011852819359,0.7653472832139008,0.9299103712603214,0.7987798944222758,0.8663139061271549,0.8233146632376003,0.8662051838448052,0.7794921692311307,0.635800908555469,0.7672269573779928],[0.7692174643340346,0.7641229990552554,0.9999999999999998,0.7882105364996256,0.8091983572201211,0.7188893807812538,0.7987555329501608,0.7624303391223424,0.7358578104486471,0.7069438439853553,0.8100047520003795,0.7470702188361859,0.6858294598514202,0.692757340257901,0.7868176975232957,0.6910802858626726,0.7575137321395902,0.6920375331844042,0.7441987446103417,0.7162975161743871,0.745516664358812,0.7164632285150225,0.674523990320246,0.8202027477460128,0.6905030592003636,0.7030303888805444,0.7400971650140054,0.7217853064798746,0.6393286731665508,0.8199398512206424,0.7223552945326601,0.7247568820513356,0.7025673846338677,0.7750347653790177,0.7907888040477871,0.6941801797048779,0.7780484219076442],[0.8406002267266274,0.8542969765439333,0.7882105364996256,0.9999999999999999,0.7834694680026157,0.7529561079035803,0.7871636962933125,0.7906646146067136,0.7912016279304726,0.7424284314666256,0.9107749592705938,0.8197352719961268,0.7158262283003927,0.7584932969046492,0.8362096943683038,0.7320671548693054,0.7516031903180442,0.7121627711091589,0.7571380894494013,0.7673092736227809,0.7842205077913047,0.7271860587839618,0.7338756917385527,0.8890868025366574,0.7224032316157567,0.8066953502033481,0.7234812165974698,0.8465026680760005,0.7383793730663331,0.8402183649716466,0.8446413672679932,0.8076077862998254,0.7193651977469311,0.7843866799722079,0.82476154920114,0.6643090595408682,0.8019939701839593],[0.9103083039850948,0.8817726550796421,0.8091983572201211,0.7834694680026157,1.0000000000000007,0.8335127716137831,0.921856989720159,0.8380384541838506,0.7488052216825305,0.7756516745561974,0.7851810369091939,0.7746142006937515,0.8002962849922478,0.780248373798547,0.8311502357955753,0.7392409138543684,0.8789293198949113,0.8031284461230133,0.7788745923505929,0.7700214840648993,0.8898376064533267,0.8678880587398325,0.6841670789550117,0.897300845728506,0.7571406117374335,0.8195136716904967,0.7907924088428782,0.7460169339696814,0.661058717518284,0.9124991483697882,0.7604098491849305,0.829416844188398,0.8454641721430702,0.8827746298000527,0.786069180681345,0.6555260328491629,0.7711141072708481],[0.8884310375142759,0.9157174437642575,0.7188893807812538,0.7529561079035803,0.8335127716137831,1.0,0.8199152762420345,0.8458025344607838,0.8240096992518204,0.7935942423306143,0.7549168657870132,0.8541269043370339,0.8368356120411483,0.8321109224052826,0.8429025657700328,0.7712815900849027,0.9164560006832391,0.8285006714684667,0.711501977982692,0.835089329281745,0.841811014795163,0.7698921899123603,0.6372236260145021,0.8534708207875222,0.8006363417914524,0.8279082096579504,0.7988520800338113,0.8262937115754803,0.7813750928739708,0.8677646951181316,0.7519890476141462,0.8408706305031486,0.8227562197282531,0.8213072176624241,0.723272127022633,0.633137554386136,0.6678166153501347],[0.9357779429329518,0.8874034312334607,0.7987555329501608,0.7871636962933125,0.921856989720159,0.8199152762420345,1.0,0.8357483494075515,0.7241828450752852,0.8039827372169158,0.7916702660747816,0.75322522814736,0.8325725920878511,0.7746879565661171,0.848682378475991,0.709787948156348,0.8686928515760318,0.7930515179732653,0.7715910890545744,0.7381043729003245,0.9130788618183255,0.9197242257161531,0.6900565894699792,0.8840946600863457,0.7382644040341405,0.8369532992707479,0.7674105043793641,0.7428984878013348,0.6324361165134851,0.917997106266119,0.7630374462174194,0.8059331468680024,0.8232974398754345,0.8959737889512714,0.7735845354398772,0.6115130981985147,0.7601087554014987],[0.8489589269874278,0.8657448976348823,0.7624303391223424,0.7906646146067136,0.8380384541838506,0.8458025344607838,0.8357483494075515,0.9999999999999998,0.7814018399681983,0.7740450557808363,0.7887275014015398,0.8325945909854184,0.86947279036249,0.83239766941013,0.8855314760594426,0.7693009810437967,0.8591963128806263,0.8460850492330269,0.7395826387747474,0.7610694105697672,0.8320040180443811,0.7717892856966652,0.6537524634369689,0.8612179281743911,0.7742616538685859,0.8310118684965736,0.8134695030658232,0.824486759573871,0.7150841125967289,0.8484414464499137,0.7634232584043814,0.8229938215539964,0.8152972692171208,0.8427554326604195,0.7315723085074738,0.6312839184286454,0.7243591869455965],[0.7693044925320948,0.8227806920173286,0.7358578104486471,0.7912016279304726,0.7488052216825305,0.8240096992518204,0.7241828450752852,0.7814018399681983,0.9999999999999999,0.723312215752111,0.793508443142041,0.775092920373776,0.7535800146939604,0.7706416488173925,0.7913884443557155,0.7632291373594658,0.8013474158538104,0.7816069551828749,0.7245299102359185,0.8434979408745572,0.7396530569156332,0.6493821424732911,0.7061950316642125,0.8118400490008865,0.7196023471244516,0.6998290859518544,0.7542610767616061,0.7949309690569332,0.7871393768502187,0.7810561002049915,0.7389688602675895,0.7417656731579325,0.7140317115006101,0.7116155514559347,0.7062086860556293,0.6869842493694053,0.7163117432128567],[0.8020196650485351,0.8197284830475611,0.7069438439853553,0.7424284314666256,0.7756516745561974,0.7935942423306143,0.8039827372169158,0.7740450557808363,0.723312215752111,0.9999999999999996,0.7490392926890083,0.7658935127301958,0.8275798148652783,0.7791944458487525,0.8117569483675036,0.7762955763323433,0.7887298022742966,0.7865663370330553,0.7455546135797113,0.7759117976673979,0.8187625081688833,0.7448029657062559,0.6913239690316477,0.8062347479863617,0.7699627712319843,0.8312870648885298,0.7767799312613503,0.7922594007853817,0.7176115460101992,0.7814969243652465,0.7582590597218053,0.82045247166844,0.7914990168366572,0.7434569011631647,0.7336760808084056,0.665279928866026,0.709188340958153],[0.814015641918382,0.8037590897320739,0.8100047520003795,0.9107749592705938,0.7851810369091939,0.7549168657870132,0.7916702660747816,0.7887275014015398,0.793508443142041,0.7490392926890083,1.0000000000000004,0.7674485908215133,0.7264908841800864,0.7533099509010863,0.8374592959049401,0.739670429558737,0.7671574794164049,0.7257204633134803,0.8007168725748727,0.7709838378550358,0.7614285734551572,0.7206179917190707,0.7197916720919949,0.8639916043349058,0.7137839332353241,0.7225212293687954,0.7525138379830574,0.8039359877730533,0.7134757296606489,0.8285813608692576,0.7813814848055682,0.7430731977197497,0.7186349094879639,0.776846276276604,0.828523861019894,0.6739570179112739,0.7925568181305109],[0.8164784228486992,0.8738620577384819,0.7470702188361859,0.8197352719961268,0.7746142006937515,0.8541269043370339,0.75322522814736,0.8325945909854184,0.775092920373776,0.7658935127301958,0.7674485908215133,1.0000000000000004,0.7755684683421477,0.8077561973957773,0.882670901517208,0.809205079833265,0.8385485375736913,0.7591954773988268,0.6827747031203404,0.8198864998372004,0.7538816829610802,0.6712471580538019,0.646218731488387,0.8501964607105378,0.7828071894840485,0.7940504597974097,0.8083008707899315,0.8501145478276178,0.7924861713699811,0.8626351238983462,0.7704180162898298,0.8327289283856866,0.7845678116931561,0.7893353123776488,0.7082050476792424,0.6524212671716595,0.7582353993292006],[0.8452640006698638,0.8429918862859128,0.6858294598514202,0.7158262283003927,0.8002962849922478,0.8368356120411483,0.8325725920878511,0.86947279036249,0.7535800146939604,0.8275798148652783,0.7264908841800864,0.7755684683421477,1.0,0.7951285302802104,0.8467898349562656,0.7511153047227633,0.823542723872067,0.8760019968777715,0.6887530369896077,0.7651903027619786,0.8727719292201943,0.7881519907585304,0.6149761628451942,0.8123558087951182,0.7456222402787744,0.81098980843561,0.7674885287201694,0.7658815538702588,0.7034614172499077,0.8063558337682462,0.7134616876174655,0.7823586185947123,0.8175478299687332,0.7916208101276654,0.6750525444337282,0.585022633430465,0.6673415627281298],[0.8191855932416363,0.8649245436462842,0.692757340257901,0.7584932969046492,0.780248373798547,0.8321109224052826,0.7746879565661171,0.83239766941013,0.7706416488173925,0.7791944458487525,0.7533099509010863,0.8077561973957773,0.7951285302802104,0.9999999999999999,0.8000134235763388,0.7209008153765243,0.8137556573130494,0.7808668873322695,0.720964125905587,0.7616602045352028,0.8244943003791328,0.7142304342549213,0.6114524078388931,0.8069485636223662,0.7361656519295872,0.8201155030410663,0.7319738950254233,0.790003993566715,0.7200768113198898,0.8174797032910547,0.7494967443353987,0.7855459668515753,0.7706769294333718,0.776278444006244,0.705044756867615,0.624138858934951,0.6819978309453428],[0.8712203064055142,0.8866408463143532,0.7868176975232957,0.8362096943683038,0.8311502357955753,0.8429025657700328,0.848682378475991,0.8855314760594426,0.7913884443557155,0.8117569483675036,0.8374592959049401,0.882670901517208,0.8467898349562656,0.8000134235763388,1.0,0.835811345366496,0.871060501581393,0.8081619327734736,0.7478519544242144,0.8040049799943199,0.8348890706797146,0.7594191775481618,0.7017244718442257,0.894728518433512,0.7818687141865054,0.8078945512850696,0.8302895965726305,0.8378386268744726,0.778878091826528,0.9077175643273336,0.7869970162566099,0.8447698903141865,0.8226211791437849,0.8375469888701524,0.7664809075899314,0.6445995727925741,0.7958296737118364],[0.7257689334668177,0.7633007158942575,0.6910802858626726,0.7320671548693054,0.7392409138543684,0.7712815900849027,0.709787948156348,0.7693009810437967,0.7632291373594658,0.7762955763323433,0.739670429558737,0.809205079833265,0.7511153047227633,0.7209008153765243,0.835811345366496,1.0000000000000004,0.7831675897203715,0.702790144797172,0.7378159815293153,0.8086601254573282,0.7461653420201025,0.6374706864312453,0.6566161806556559,0.7984816157891428,0.7575861170079026,0.7459243914972552,0.8042539748731663,0.7728155717041799,0.7413314060638607,0.7725639046884781,0.7356899172934166,0.8032770402078957,0.7728664309818232,0.6879412094384539,0.6758266758779561,0.6928435211484829,0.7063073691667809],[0.9041858422370953,0.9064180806291895,0.7575137321395902,0.7516031903180442,0.8789293198949113,0.9164560006832391,0.8686928515760318,0.8591963128806263,0.8013474158538104,0.7887298022742966,0.7671574794164049,0.8385485375736913,0.823542723872067,0.8137556573130494,0.871060501581393,0.7831675897203715,1.0,0.8136804226342811,0.7261350905175086,0.8153059934423111,0.8638043912986568,0.8056672434327918,0.6371427585231557,0.8791968591451472,0.796446604997053,0.8000469616564987,0.8331463186033766,0.8150282785318207,0.75835738589478,0.9182215066749242,0.753422884192948,0.8599075804346716,0.8619276908252346,0.8825183813080248,0.74950594803591,0.6344151239459886,0.7185644516180226],[0.831146915580267,0.8547511257933448,0.6920375331844042,0.7121627711091589,0.8031284461230133,0.8285006714684667,0.7930515179732653,0.8460850492330269,0.7816069551828749,0.7865663370330553,0.7257204633134803,0.7591954773988268,0.8760019968777715,0.7808668873322695,0.8081619327734736,0.702790144797172,0.8136804226342811,1.0000000000000002,0.6348597269003282,0.739002521364958,0.8212322765708714,0.7884612137376248,0.6642140806219464,0.8072697130680239,0.7432968945973855,0.7800735271341014,0.7643178340861184,0.7730968131367288,0.7068741863971495,0.7791615593339541,0.706507907405775,0.757869288872573,0.7660368765187283,0.7742542425128587,0.7167455919571212,0.594303343185421,0.7025361336794077],[0.7344354120924699,0.7423455608310084,0.7441987446103417,0.7571380894494013,0.7788745923505929,0.711501977982692,0.7715910890545744,0.7395826387747474,0.7245299102359185,0.7455546135797113,0.8007168725748727,0.6827747031203404,0.6887530369896077,0.720964125905587,0.7478519544242144,0.7378159815293153,0.7261350905175086,0.6348597269003282,1.0000000000000002,0.7130240778992615,0.7263903992347579,0.6769534691239945,0.6599379024551918,0.7714266238994907,0.6743391253996177,0.725039296068664,0.6996088077800947,0.7081221345048634,0.6675901337615359,0.7660165431699306,0.7243620899780542,0.7238323113884663,0.7730147430200406,0.7200040887989546,0.7288973671216069,0.8045452739634048,0.7135014260002898],[0.7794653598517614,0.804401198899253,0.7162975161743871,0.7673092736227809,0.7700214840648993,0.835089329281745,0.7381043729003245,0.7610694105697672,0.8434979408745572,0.7759117976673979,0.7709838378550358,0.8198864998372004,0.7651903027619786,0.7616602045352028,0.8040049799943199,0.8086601254573282,0.8153059934423111,0.739002521364958,0.7130240778992615,1.0000000000000004,0.7556320399823914,0.6664825387662743,0.6891996786222965,0.8275593638771767,0.7449439062355132,0.7436422803611378,0.7688018568291715,0.8239816295236174,0.7441724042212732,0.8049503218288733,0.7771635134598687,0.8010458558427309,0.7522631200230845,0.7428823827731631,0.7380691199001114,0.6741453074872688,0.6915543779918729],[0.92136328611981,0.8893995579883132,0.745516664358812,0.7842205077913047,0.8898376064533267,0.841811014795163,0.9130788618183255,0.8320040180443811,0.7396530569156332,0.8187625081688833,0.7614285734551572,0.7538816829610802,0.8727719292201943,0.8244943003791328,0.8348890706797146,0.7461653420201025,0.8638043912986568,0.8212322765708714,0.7263903992347579,0.7556320399823914,1.0,0.8766464247396166,0.6569652303078013,0.8699896100648452,0.7659030869683863,0.8631667220921381,0.7525314663084309,0.7666785064900584,0.6792863268614235,0.8727912948280109,0.7397461799749372,0.8377755949401124,0.8390436717765871,0.8777333320851882,0.7598417613151508,0.6073835103436758,0.7279140235341409],[0.9038815163967793,0.847047935645129,0.7164632285150225,0.7271860587839618,0.8678880587398325,0.7698921899123603,0.9197242257161531,0.7717892856966652,0.6493821424732911,0.7448029657062559,0.7206179917190707,0.6712471580538019,0.7881519907585304,0.7142304342549213,0.7594191775481618,0.6374706864312453,0.8056672434327918,0.7884612137376248,0.6769534691239945,0.6664825387662743,0.8766464247396166,1.0000000000000002,0.6261428875374846,0.8347658483255724,0.6643086134411963,0.8007767449855953,0.6738808231661714,0.6823456161153706,0.5670035362693581,0.8345905899508779,0.6816460777561504,0.7491534805872709,0.763958076391166,0.8318018196062777,0.7263287537567551,0.5277816984424855,0.6999255754274235],[0.6690635772310298,0.6891644804710331,0.674523990320246,0.7338756917385527,0.6841670789550117,0.6372236260145021,0.6900565894699792,0.6537524634369689,0.7061950316642125,0.6913239690316477,0.7197916720919949,0.646218731488387,0.6149761628451942,0.6114524078388931,0.7017244718442257,0.6566161806556559,0.6371427585231557,0.6642140806219464,0.6599379024551918,0.6891996786222965,0.6569652303078013,0.6261428875374846,0.9999999999999996,0.7226692810787952,0.5694759654790611,0.6803023469481735,0.7050658717218083,0.7144542513860299,0.604130140909379,0.6732712393936638,0.6920542072673377,0.652720586680364,0.6035814811204729,0.6530764567732672,0.695417878452471,0.6260026496664026,0.7018826377911402],[0.9321807002670379,0.9205240992896057,0.8202027477460128,0.8890868025366574,0.897300845728506,0.8534708207875222,0.8840946600863457,0.8612179281743911,0.8118400490008865,0.8062347479863617,0.8639916043349058,0.8501964607105378,0.8123558087951182,0.8069485636223662,0.894728518433512,0.7984816157891428,0.8791968591451472,0.8072697130680239,0.7714266238994907,0.8275593638771767,0.8699896100648452,0.8347658483255724,0.7226692810787952,0.9999999999999999,0.7467520876272193,0.8545770430032208,0.8037252225876856,0.8450930936961302,0.733911392319674,0.9352048987334812,0.8179349119750363,0.8798129993262837,0.8112967614334166,0.8808425338443325,0.8119973448967474,0.6548570355320934,0.8348664743903393],[0.7534564016290107,0.7872138644075343,0.6905030592003636,0.7224032316157567,0.7571406117374335,0.8006363417914524,0.7382644040341405,0.7742616538685859,0.7196023471244516,0.7699627712319843,0.7137839332353241,0.7828071894840485,0.7456222402787744,0.7361656519295872,0.7818687141865054,0.7575861170079026,0.796446604997053,0.7432968945973855,0.6743391253996177,0.7449439062355132,0.7659030869683863,0.6643086134411963,0.5694759654790611,0.7467520876272193,0.9999999999999999,0.7588016302149468,0.773762883653106,0.7455637534573711,0.7090715620869295,0.7605152446934501,0.7481929260297988,0.7882778160532438,0.7691679055437858,0.7240663192056034,0.6674414427057861,0.609310870837524,0.671589306765903],[0.8554841130815649,0.8660730322457909,0.7030303888805444,0.8066953502033481,0.8195136716904967,0.8279082096579504,0.8369532992707479,0.8310118684965736,0.6998290859518544,0.8312870648885298,0.7225212293687954,0.7940504597974097,0.81098980843561,0.8201155030410663,0.8078945512850696,0.7459243914972552,0.8000469616564987,0.7800735271341014,0.725039296068664,0.7436422803611378,0.8631667220921381,0.8007767449855953,0.6803023469481735,0.8545770430032208,0.7588016302149468,0.9999999999999998,0.7457580179243348,0.7913081718485002,0.673299946069617,0.8225567888544069,0.7860313115233278,0.9140096141467218,0.809502829578289,0.8262526214205178,0.7158342307082889,0.6593685483658525,0.7121726574584967],[0.75449095589049,0.7801242027308686,0.7400971650140054,0.7234812165974698,0.7907924088428782,0.7988520800338113,0.7674105043793641,0.8134695030658232,0.7542610767616061,0.7767799312613503,0.7525138379830574,0.8083008707899315,0.7674885287201694,0.7319738950254233,0.8302895965726305,0.8042539748731663,0.8331463186033766,0.7643178340861184,0.6996088077800947,0.7688018568291715,0.7525314663084309,0.6738808231661714,0.7050658717218083,0.8037252225876856,0.773762883653106,0.7457580179243348,1.0000000000000002,0.7870162126568501,0.7104541090294416,0.8096147423942578,0.7500363365850847,0.7997514392020233,0.7893269735273792,0.782207840389654,0.6964930591020653,0.6392594901631374,0.7363145313922237],[0.8093758993773731,0.8444011852819359,0.7217853064798746,0.8465026680760005,0.7460169339696814,0.8262937115754803,0.7428984878013348,0.824486759573871,0.7949309690569332,0.7922594007853817,0.8039359877730533,0.8501145478276178,0.7658815538702588,0.790003993566715,0.8378386268744726,0.7728155717041799,0.8150282785318207,0.7730968131367288,0.7081221345048634,0.8239816295236174,0.7666785064900584,0.6823456161153706,0.7144542513860299,0.8450930936961302,0.7455637534573711,0.7913081718485002,0.7870162126568501,1.0000000000000007,0.766394462492851,0.8147634806943366,0.8155283165179836,0.821003246306987,0.7616227640371747,0.7703770125790033,0.762124614659819,0.6767055937242992,0.7059017913163813],[0.7127422949669047,0.7653472832139008,0.6393286731665508,0.7383793730663331,0.661058717518284,0.7813750928739708,0.6324361165134851,0.7150841125967289,0.7871393768502187,0.7176115460101992,0.7134757296606489,0.7924861713699811,0.7034614172499077,0.7200768113198898,0.778878091826528,0.7413314060638607,0.75835738589478,0.7068741863971495,0.6675901337615359,0.7441724042212732,0.6792863268614235,0.5670035362693581,0.604130140909379,0.733911392319674,0.7090715620869295,0.673299946069617,0.7104541090294416,0.766394462492851,1.0000000000000002,0.7302959869834477,0.6911705146450087,0.7440225788074095,0.7246396883832001,0.6538418624360041,0.712845894277485,0.687501436001498,0.6549570312074406],[0.9478770977226494,0.9299103712603214,0.8199398512206424,0.8402183649716466,0.9124991483697882,0.8677646951181316,0.917997106266119,0.8484414464499137,0.7810561002049915,0.7814969243652465,0.8285813608692576,0.8626351238983462,0.8063558337682462,0.8174797032910547,0.9077175643273336,0.7725639046884781,0.9182215066749242,0.7791615593339541,0.7660165431699306,0.8049503218288733,0.8727912948280109,0.8345905899508779,0.6732712393936638,0.9352048987334812,0.7605152446934501,0.8225567888544069,0.8096147423942578,0.8147634806943366,0.7302959869834477,0.9999999999999998,0.7967900316558136,0.8593187357169881,0.8217511725929241,0.9079323963815492,0.7896225106057643,0.6270149459599774,0.7854831857493967],[0.77582574603901,0.7987798944222758,0.7223552945326601,0.8446413672679932,0.7604098491849305,0.7519890476141462,0.7630374462174194,0.7634232584043814,0.7389688602675895,0.7582590597218053,0.7813814848055682,0.7704180162898298,0.7134616876174655,0.7494967443353987,0.7869970162566099,0.7356899172934166,0.753422884192948,0.706507907405775,0.7243620899780542,0.7771635134598687,0.7397461799749372,0.6816460777561504,0.6920542072673377,0.8179349119750363,0.7481929260297988,0.7860313115233278,0.7500363365850847,0.8155283165179836,0.6911705146450087,0.7967900316558136,1.0000000000000002,0.7909751887531168,0.7622869401446302,0.7040466354118508,0.7733203055041847,0.6779099487769087,0.6991874323891996],[0.8551607545428219,0.8663139061271549,0.7247568820513356,0.8076077862998254,0.829416844188398,0.8408706305031486,0.8059331468680024,0.8229938215539964,0.7417656731579325,0.82045247166844,0.7430731977197497,0.8327289283856866,0.7823586185947123,0.7855459668515753,0.8447698903141865,0.8032770402078957,0.8599075804346716,0.757869288872573,0.7238323113884663,0.8010458558427309,0.8377755949401124,0.7491534805872709,0.652720586680364,0.8798129993262837,0.7882778160532438,0.9140096141467218,0.7997514392020233,0.821003246306987,0.7440225788074095,0.8593187357169881,0.7909751887531168,1.0,0.8360639774371311,0.8191912997289298,0.7412045477566028,0.6887943269748368,0.7327311313947135],[0.8135921288396581,0.8233146632376003,0.7025673846338677,0.7193651977469311,0.8454641721430702,0.8227562197282531,0.8232974398754345,0.8152972692171208,0.7140317115006101,0.7914990168366572,0.7186349094879639,0.7845678116931561,0.8175478299687332,0.7706769294333718,0.8226211791437849,0.7728664309818232,0.8619276908252346,0.7660368765187283,0.7730147430200406,0.7522631200230845,0.8390436717765871,0.763958076391166,0.6035814811204729,0.8112967614334166,0.7691679055437858,0.809502829578289,0.7893269735273792,0.7616227640371747,0.7246396883832001,0.8217511725929241,0.7622869401446302,0.8360639774371311,1.0,0.8018024776141955,0.7001792505285789,0.7127985941805014,0.7019247697398633],[0.9016695859626094,0.8662051838448052,0.7750347653790177,0.7843866799722079,0.8827746298000527,0.8213072176624241,0.8959737889512714,0.8427554326604195,0.7116155514559347,0.7434569011631647,0.776846276276604,0.7893353123776488,0.7916208101276654,0.776278444006244,0.8375469888701524,0.6879412094384539,0.8825183813080248,0.7742542425128587,0.7200040887989546,0.7428823827731631,0.8777333320851882,0.8318018196062777,0.6530764567732672,0.8808425338443325,0.7240663192056034,0.8262526214205178,0.782207840389654,0.7703770125790033,0.6538418624360041,0.9079323963815492,0.7040466354118508,0.8191912997289298,0.8018024776141955,1.0,0.7561478523049504,0.5737141558316307,0.7449516085267195],[0.7901970706776285,0.7794921692311307,0.7907888040477871,0.82476154920114,0.786069180681345,0.723272127022633,0.7735845354398772,0.7315723085074738,0.7062086860556293,0.7336760808084056,0.828523861019894,0.7082050476792424,0.6750525444337282,0.705044756867615,0.7664809075899314,0.6758266758779561,0.74950594803591,0.7167455919571212,0.7288973671216069,0.7380691199001114,0.7598417613151508,0.7263287537567551,0.695417878452471,0.8119973448967474,0.6674414427057861,0.7158342307082889,0.6964930591020653,0.762124614659819,0.712845894277485,0.7896225106057643,0.7733203055041847,0.7412045477566028,0.7001792505285789,0.7561478523049504,1.0,0.6444946858472989,0.7537739358785993],[0.5867892239044376,0.635800908555469,0.6941801797048779,0.6643090595408682,0.6555260328491629,0.633137554386136,0.6115130981985147,0.6312839184286454,0.6869842493694053,0.665279928866026,0.6739570179112739,0.6524212671716595,0.585022633430465,0.624138858934951,0.6445995727925741,0.6928435211484829,0.6344151239459886,0.594303343185421,0.8045452739634048,0.6741453074872688,0.6073835103436758,0.5277816984424855,0.6260026496664026,0.6548570355320934,0.609310870837524,0.6593685483658525,0.6392594901631374,0.6767055937242992,0.687501436001498,0.6270149459599774,0.6779099487769087,0.6887943269748368,0.7127985941805014,0.5737141558316307,0.6444946858472989,1.0,0.6416110159908632],[0.75894248470958,0.7672269573779928,0.7780484219076442,0.8019939701839593,0.7711141072708481,0.6678166153501347,0.7601087554014987,0.7243591869455965,0.7163117432128567,0.709188340958153,0.7925568181305109,0.7582353993292006,0.6673415627281298,0.6819978309453428,0.7958296737118364,0.7063073691667809,0.7185644516180226,0.7025361336794077,0.7135014260002898,0.6915543779918729,0.7279140235341409,0.6999255754274235,0.7018826377911402,0.8348664743903393,0.671589306765903,0.7121726574584967,0.7363145313922237,0.7059017913163813,0.6549570312074406,0.7854831857493967,0.6991874323891996,0.7327311313947135,0.7019247697398633,0.7449516085267195,0.7537739358785993,0.6416110159908632,0.9999999999999998]],\"type\":\"heatmap\",\"xaxis\":\"x\",\"yaxis\":\"y\",\"hovertemplate\":\"x: %{x}<br>y: %{y}<br>Similarity Score: %{z}<extra></extra>\"}],                        {\"template\":{\"data\":{\"bar\":[{\"error_x\":{\"color\":\"#2a3f5f\"},\"error_y\":{\"color\":\"#2a3f5f\"},\"marker\":{\"line\":{\"color\":\"#E5ECF6\",\"width\":0.5},\"pattern\":{\"fillmode\":\"overlay\",\"size\":10,\"solidity\":0.2}},\"type\":\"bar\"}],\"barpolar\":[{\"marker\":{\"line\":{\"color\":\"#E5ECF6\",\"width\":0.5},\"pattern\":{\"fillmode\":\"overlay\",\"size\":10,\"solidity\":0.2}},\"type\":\"barpolar\"}],\"carpet\":[{\"aaxis\":{\"endlinecolor\":\"#2a3f5f\",\"gridcolor\":\"white\",\"linecolor\":\"white\",\"minorgridcolor\":\"white\",\"startlinecolor\":\"#2a3f5f\"},\"baxis\":{\"endlinecolor\":\"#2a3f5f\",\"gridcolor\":\"white\",\"linecolor\":\"white\",\"minorgridcolor\":\"white\",\"startlinecolor\":\"#2a3f5f\"},\"type\":\"carpet\"}],\"choropleth\":[{\"colorbar\":{\"outlinewidth\":0,\"ticks\":\"\"},\"type\":\"choropleth\"}],\"contour\":[{\"colorbar\":{\"outlinewidth\":0,\"ticks\":\"\"},\"colorscale\":[[0.0,\"#0d0887\"],[0.1111111111111111,\"#46039f\"],[0.2222222222222222,\"#7201a8\"],[0.3333333333333333,\"#9c179e\"],[0.4444444444444444,\"#bd3786\"],[0.5555555555555556,\"#d8576b\"],[0.6666666666666666,\"#ed7953\"],[0.7777777777777778,\"#fb9f3a\"],[0.8888888888888888,\"#fdca26\"],[1.0,\"#f0f921\"]],\"type\":\"contour\"}],\"contourcarpet\":[{\"colorbar\":{\"outlinewidth\":0,\"ticks\":\"\"},\"type\":\"contourcarpet\"}],\"heatmap\":[{\"colorbar\":{\"outlinewidth\":0,\"ticks\":\"\"},\"colorscale\":[[0.0,\"#0d0887\"],[0.1111111111111111,\"#46039f\"],[0.2222222222222222,\"#7201a8\"],[0.3333333333333333,\"#9c179e\"],[0.4444444444444444,\"#bd3786\"],[0.5555555555555556,\"#d8576b\"],[0.6666666666666666,\"#ed7953\"],[0.7777777777777778,\"#fb9f3a\"],[0.8888888888888888,\"#fdca26\"],[1.0,\"#f0f921\"]],\"type\":\"heatmap\"}],\"heatmapgl\":[{\"colorbar\":{\"outlinewidth\":0,\"ticks\":\"\"},\"colorscale\":[[0.0,\"#0d0887\"],[0.1111111111111111,\"#46039f\"],[0.2222222222222222,\"#7201a8\"],[0.3333333333333333,\"#9c179e\"],[0.4444444444444444,\"#bd3786\"],[0.5555555555555556,\"#d8576b\"],[0.6666666666666666,\"#ed7953\"],[0.7777777777777778,\"#fb9f3a\"],[0.8888888888888888,\"#fdca26\"],[1.0,\"#f0f921\"]],\"type\":\"heatmapgl\"}],\"histogram\":[{\"marker\":{\"pattern\":{\"fillmode\":\"overlay\",\"size\":10,\"solidity\":0.2}},\"type\":\"histogram\"}],\"histogram2d\":[{\"colorbar\":{\"outlinewidth\":0,\"ticks\":\"\"},\"colorscale\":[[0.0,\"#0d0887\"],[0.1111111111111111,\"#46039f\"],[0.2222222222222222,\"#7201a8\"],[0.3333333333333333,\"#9c179e\"],[0.4444444444444444,\"#bd3786\"],[0.5555555555555556,\"#d8576b\"],[0.6666666666666666,\"#ed7953\"],[0.7777777777777778,\"#fb9f3a\"],[0.8888888888888888,\"#fdca26\"],[1.0,\"#f0f921\"]],\"type\":\"histogram2d\"}],\"histogram2dcontour\":[{\"colorbar\":{\"outlinewidth\":0,\"ticks\":\"\"},\"colorscale\":[[0.0,\"#0d0887\"],[0.1111111111111111,\"#46039f\"],[0.2222222222222222,\"#7201a8\"],[0.3333333333333333,\"#9c179e\"],[0.4444444444444444,\"#bd3786\"],[0.5555555555555556,\"#d8576b\"],[0.6666666666666666,\"#ed7953\"],[0.7777777777777778,\"#fb9f3a\"],[0.8888888888888888,\"#fdca26\"],[1.0,\"#f0f921\"]],\"type\":\"histogram2dcontour\"}],\"mesh3d\":[{\"colorbar\":{\"outlinewidth\":0,\"ticks\":\"\"},\"type\":\"mesh3d\"}],\"parcoords\":[{\"line\":{\"colorbar\":{\"outlinewidth\":0,\"ticks\":\"\"}},\"type\":\"parcoords\"}],\"pie\":[{\"automargin\":true,\"type\":\"pie\"}],\"scatter\":[{\"marker\":{\"colorbar\":{\"outlinewidth\":0,\"ticks\":\"\"}},\"type\":\"scatter\"}],\"scatter3d\":[{\"line\":{\"colorbar\":{\"outlinewidth\":0,\"ticks\":\"\"}},\"marker\":{\"colorbar\":{\"outlinewidth\":0,\"ticks\":\"\"}},\"type\":\"scatter3d\"}],\"scattercarpet\":[{\"marker\":{\"colorbar\":{\"outlinewidth\":0,\"ticks\":\"\"}},\"type\":\"scattercarpet\"}],\"scattergeo\":[{\"marker\":{\"colorbar\":{\"outlinewidth\":0,\"ticks\":\"\"}},\"type\":\"scattergeo\"}],\"scattergl\":[{\"marker\":{\"colorbar\":{\"outlinewidth\":0,\"ticks\":\"\"}},\"type\":\"scattergl\"}],\"scattermapbox\":[{\"marker\":{\"colorbar\":{\"outlinewidth\":0,\"ticks\":\"\"}},\"type\":\"scattermapbox\"}],\"scatterpolar\":[{\"marker\":{\"colorbar\":{\"outlinewidth\":0,\"ticks\":\"\"}},\"type\":\"scatterpolar\"}],\"scatterpolargl\":[{\"marker\":{\"colorbar\":{\"outlinewidth\":0,\"ticks\":\"\"}},\"type\":\"scatterpolargl\"}],\"scatterternary\":[{\"marker\":{\"colorbar\":{\"outlinewidth\":0,\"ticks\":\"\"}},\"type\":\"scatterternary\"}],\"surface\":[{\"colorbar\":{\"outlinewidth\":0,\"ticks\":\"\"},\"colorscale\":[[0.0,\"#0d0887\"],[0.1111111111111111,\"#46039f\"],[0.2222222222222222,\"#7201a8\"],[0.3333333333333333,\"#9c179e\"],[0.4444444444444444,\"#bd3786\"],[0.5555555555555556,\"#d8576b\"],[0.6666666666666666,\"#ed7953\"],[0.7777777777777778,\"#fb9f3a\"],[0.8888888888888888,\"#fdca26\"],[1.0,\"#f0f921\"]],\"type\":\"surface\"}],\"table\":[{\"cells\":{\"fill\":{\"color\":\"#EBF0F8\"},\"line\":{\"color\":\"white\"}},\"header\":{\"fill\":{\"color\":\"#C8D4E3\"},\"line\":{\"color\":\"white\"}},\"type\":\"table\"}]},\"layout\":{\"annotationdefaults\":{\"arrowcolor\":\"#2a3f5f\",\"arrowhead\":0,\"arrowwidth\":1},\"autotypenumbers\":\"strict\",\"coloraxis\":{\"colorbar\":{\"outlinewidth\":0,\"ticks\":\"\"}},\"colorscale\":{\"diverging\":[[0,\"#8e0152\"],[0.1,\"#c51b7d\"],[0.2,\"#de77ae\"],[0.3,\"#f1b6da\"],[0.4,\"#fde0ef\"],[0.5,\"#f7f7f7\"],[0.6,\"#e6f5d0\"],[0.7,\"#b8e186\"],[0.8,\"#7fbc41\"],[0.9,\"#4d9221\"],[1,\"#276419\"]],\"sequential\":[[0.0,\"#0d0887\"],[0.1111111111111111,\"#46039f\"],[0.2222222222222222,\"#7201a8\"],[0.3333333333333333,\"#9c179e\"],[0.4444444444444444,\"#bd3786\"],[0.5555555555555556,\"#d8576b\"],[0.6666666666666666,\"#ed7953\"],[0.7777777777777778,\"#fb9f3a\"],[0.8888888888888888,\"#fdca26\"],[1.0,\"#f0f921\"]],\"sequentialminus\":[[0.0,\"#0d0887\"],[0.1111111111111111,\"#46039f\"],[0.2222222222222222,\"#7201a8\"],[0.3333333333333333,\"#9c179e\"],[0.4444444444444444,\"#bd3786\"],[0.5555555555555556,\"#d8576b\"],[0.6666666666666666,\"#ed7953\"],[0.7777777777777778,\"#fb9f3a\"],[0.8888888888888888,\"#fdca26\"],[1.0,\"#f0f921\"]]},\"colorway\":[\"#636efa\",\"#EF553B\",\"#00cc96\",\"#ab63fa\",\"#FFA15A\",\"#19d3f3\",\"#FF6692\",\"#B6E880\",\"#FF97FF\",\"#FECB52\"],\"font\":{\"color\":\"#2a3f5f\"},\"geo\":{\"bgcolor\":\"white\",\"lakecolor\":\"white\",\"landcolor\":\"#E5ECF6\",\"showlakes\":true,\"showland\":true,\"subunitcolor\":\"white\"},\"hoverlabel\":{\"align\":\"left\"},\"hovermode\":\"closest\",\"mapbox\":{\"style\":\"light\"},\"paper_bgcolor\":\"white\",\"plot_bgcolor\":\"#E5ECF6\",\"polar\":{\"angularaxis\":{\"gridcolor\":\"white\",\"linecolor\":\"white\",\"ticks\":\"\"},\"bgcolor\":\"#E5ECF6\",\"radialaxis\":{\"gridcolor\":\"white\",\"linecolor\":\"white\",\"ticks\":\"\"}},\"scene\":{\"xaxis\":{\"backgroundcolor\":\"#E5ECF6\",\"gridcolor\":\"white\",\"gridwidth\":2,\"linecolor\":\"white\",\"showbackground\":true,\"ticks\":\"\",\"zerolinecolor\":\"white\"},\"yaxis\":{\"backgroundcolor\":\"#E5ECF6\",\"gridcolor\":\"white\",\"gridwidth\":2,\"linecolor\":\"white\",\"showbackground\":true,\"ticks\":\"\",\"zerolinecolor\":\"white\"},\"zaxis\":{\"backgroundcolor\":\"#E5ECF6\",\"gridcolor\":\"white\",\"gridwidth\":2,\"linecolor\":\"white\",\"showbackground\":true,\"ticks\":\"\",\"zerolinecolor\":\"white\"}},\"shapedefaults\":{\"line\":{\"color\":\"#2a3f5f\"}},\"ternary\":{\"aaxis\":{\"gridcolor\":\"white\",\"linecolor\":\"white\",\"ticks\":\"\"},\"baxis\":{\"gridcolor\":\"white\",\"linecolor\":\"white\",\"ticks\":\"\"},\"bgcolor\":\"#E5ECF6\",\"caxis\":{\"gridcolor\":\"white\",\"linecolor\":\"white\",\"ticks\":\"\"}},\"title\":{\"x\":0.05},\"xaxis\":{\"automargin\":true,\"gridcolor\":\"white\",\"linecolor\":\"white\",\"ticks\":\"\",\"title\":{\"standoff\":15},\"zerolinecolor\":\"white\",\"zerolinewidth\":2},\"yaxis\":{\"automargin\":true,\"gridcolor\":\"white\",\"linecolor\":\"white\",\"ticks\":\"\",\"title\":{\"standoff\":15},\"zerolinecolor\":\"white\",\"zerolinewidth\":2}}},\"xaxis\":{\"anchor\":\"y\",\"domain\":[0.0,1.0],\"scaleanchor\":\"y\",\"constrain\":\"domain\"},\"yaxis\":{\"anchor\":\"x\",\"domain\":[0.0,1.0],\"autorange\":\"reversed\",\"constrain\":\"domain\"},\"coloraxis\":{\"colorbar\":{\"title\":{\"text\":\"Similarity Score\"}},\"colorscale\":[[0.0,\"rgb(247,252,240)\"],[0.125,\"rgb(224,243,219)\"],[0.25,\"rgb(204,235,197)\"],[0.375,\"rgb(168,221,181)\"],[0.5,\"rgb(123,204,196)\"],[0.625,\"rgb(78,179,211)\"],[0.75,\"rgb(43,140,190)\"],[0.875,\"rgb(8,104,172)\"],[1.0,\"rgb(8,64,129)\"]]},\"margin\":{\"t\":60},\"title\":{\"font\":{\"size\":22,\"color\":\"Black\"},\"text\":\"<b>Similarity Matrix\",\"y\":0.95,\"x\":0.55,\"xanchor\":\"center\",\"yanchor\":\"top\"},\"hoverlabel\":{\"font\":{\"size\":16,\"family\":\"Rockwell\"},\"bgcolor\":\"white\"},\"width\":800,\"height\":800,\"showlegend\":true,\"legend\":{\"title\":{\"text\":\"Trend\"}}},                        {\"responsive\": true}                    ).then(function(){\n",
       "                            \n",
       "var gd = document.getElementById('dd1ffbbc-d8a8-43f6-97b3-cf8d92ecd943');\n",
       "var x = new MutationObserver(function (mutations, observer) {{\n",
       "        var display = window.getComputedStyle(gd).display;\n",
       "        if (!display || display === 'none') {{\n",
       "            console.log([gd, 'removed!']);\n",
       "            Plotly.purge(gd);\n",
       "            observer.disconnect();\n",
       "        }}\n",
       "}});\n",
       "\n",
       "// Listen for the removal of the full notebook cells\n",
       "var notebookContainer = gd.closest('#notebook-container');\n",
       "if (notebookContainer) {{\n",
       "    x.observe(notebookContainer, {childList: true});\n",
       "}}\n",
       "\n",
       "// Listen for the clearing of the current output cell\n",
       "var outputEl = gd.closest('.output');\n",
       "if (outputEl) {{\n",
       "    x.observe(outputEl, {childList: true});\n",
       "}}\n",
       "\n",
       "                        })                };                });            </script>        </div>"
      ]
     },
     "metadata": {},
     "output_type": "display_data"
    }
   ],
   "source": [
    "topic_model.visualize_heatmap()\n",
    "\n",
    "topic_model.visualize_heatmap().write_html(\"./outputs/similarity.html\")"
   ]
  },
  {
   "cell_type": "code",
   "execution_count": null,
   "id": "da7a3347-5daa-4e89-ac4d-5cac1bebbb91",
   "metadata": {},
   "outputs": [],
   "source": []
  },
  {
   "cell_type": "code",
   "execution_count": null,
   "id": "5537e322-d073-4504-a769-3f1320b8d732",
   "metadata": {},
   "outputs": [],
   "source": []
  }
 ],
 "metadata": {
  "kernelspec": {
   "display_name": "Python 3 (ipykernel)",
   "language": "python",
   "name": "python3"
  },
  "language_info": {
   "codemirror_mode": {
    "name": "ipython",
    "version": 3
   },
   "file_extension": ".py",
   "mimetype": "text/x-python",
   "name": "python",
   "nbconvert_exporter": "python",
   "pygments_lexer": "ipython3",
   "version": "3.9.12"
  }
 },
 "nbformat": 4,
 "nbformat_minor": 5
}
