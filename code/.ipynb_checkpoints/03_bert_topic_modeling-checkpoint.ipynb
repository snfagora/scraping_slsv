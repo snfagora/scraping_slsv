{
 "cells": [
  {
   "cell_type": "markdown",
   "id": "31d0cf9f",
   "metadata": {},
   "source": [
    "# BERT topic modeling \n",
    "\n",
    "The code is adapted from https://maartengr.github.io/BERTopic/index.html#quick-start "
   ]
  },
  {
   "cell_type": "markdown",
   "id": "b35b2327",
   "metadata": {},
   "source": [
    "## Import pkgs "
   ]
  },
  {
   "cell_type": "code",
   "execution_count": 1,
   "id": "926bc4ad",
   "metadata": {},
   "outputs": [],
   "source": [
    "from bertopic import BERTopic\n",
    "\n",
    "# for word + document embedding\n",
    "from bertopic.backend import WordDocEmbedder\n",
    "import gensim.downloader as api\n",
    "from sentence_transformers import SentenceTransformer\n",
    "\n",
    "import pandas as pd\n",
    "import os\n",
    "from sklearn.datasets import fetch_20newsgroups # for test data\n",
    "\n",
    "# print every ouput\n",
    "from IPython.core.interactiveshell import InteractiveShell\n",
    "InteractiveShell.ast_node_interactivity = \"all\""
   ]
  },
  {
   "cell_type": "code",
   "execution_count": 2,
   "id": "059b0c71",
   "metadata": {},
   "outputs": [
    {
     "data": {
      "text/plain": [
       "'/Users/jaeyeonkim/scraping_slsv/code'"
      ]
     },
     "execution_count": 2,
     "metadata": {},
     "output_type": "execute_result"
    }
   ],
   "source": [
    "# print the current wd \n",
    "os.getcwd()\n",
    "\n",
    "# change the current wd \n",
    "os.chdir('/Users/jaeyeonkim/scraping_slsv')"
   ]
  },
  {
   "cell_type": "code",
   "execution_count": 3,
   "id": "7e7b5162",
   "metadata": {},
   "outputs": [
    {
     "data": {
      "text/plain": [
       "'/Users/jaeyeonkim/scraping_slsv'"
      ]
     },
     "execution_count": 3,
     "metadata": {},
     "output_type": "execute_result"
    }
   ],
   "source": [
    "# check the current wd\n",
    "os.getcwd()"
   ]
  },
  {
   "cell_type": "code",
   "execution_count": 4,
   "id": "6017e538",
   "metadata": {},
   "outputs": [],
   "source": [
    "df = pd.read_csv('./outputs/filtered_df.csv')"
   ]
  },
  {
   "cell_type": "code",
   "execution_count": 5,
   "id": "d26a6e5e-882a-471a-b3c2-d70af121f1df",
   "metadata": {},
   "outputs": [
    {
     "data": {
      "text/html": [
       "<div>\n",
       "<style scoped>\n",
       "    .dataframe tbody tr th:only-of-type {\n",
       "        vertical-align: middle;\n",
       "    }\n",
       "\n",
       "    .dataframe tbody tr th {\n",
       "        vertical-align: top;\n",
       "    }\n",
       "\n",
       "    .dataframe thead th {\n",
       "        text-align: right;\n",
       "    }\n",
       "</style>\n",
       "<table border=\"1\" class=\"dataframe\">\n",
       "  <thead>\n",
       "    <tr style=\"text-align: right;\">\n",
       "      <th></th>\n",
       "      <th>text</th>\n",
       "      <th>name</th>\n",
       "    </tr>\n",
       "  </thead>\n",
       "  <tbody>\n",
       "    <tr>\n",
       "      <th>0</th>\n",
       "      <td>voter education voter turnout voter registrat...</td>\n",
       "      <td>2019-2020-Nazareth-College-Action-Plan.pdf</td>\n",
       "    </tr>\n",
       "    <tr>\n",
       "      <th>1</th>\n",
       "      <td>gw votes 2020 action plan honey w nashman cen...</td>\n",
       "      <td>2020-Action-Plan-FINAL.pdf</td>\n",
       "    </tr>\n",
       "    <tr>\n",
       "      <th>2</th>\n",
       "      <td>tricia debertolis alfred university 1 saxon dr...</td>\n",
       "      <td>Action-Plan-Alfred.pdf</td>\n",
       "    </tr>\n",
       "    <tr>\n",
       "      <th>3</th>\n",
       "      <td>allegany college all in one campus plan to in...</td>\n",
       "      <td>Action-Plan-Allegany-College.pdf</td>\n",
       "    </tr>\n",
       "    <tr>\n",
       "      <th>4</th>\n",
       "      <td>all in campus democracy challenge 2016 action...</td>\n",
       "      <td>Action-Plan-Anne-Arundel-Community-College.pdf</td>\n",
       "    </tr>\n",
       "    <tr>\n",
       "      <th>...</th>\n",
       "      <td>...</td>\n",
       "      <td>...</td>\n",
       "    </tr>\n",
       "    <tr>\n",
       "      <th>1221</th>\n",
       "      <td>voter education engagement master plan 429 n c...</td>\n",
       "      <td>Wofford-College-Action-Plan-2018.pdf</td>\n",
       "    </tr>\n",
       "    <tr>\n",
       "      <th>1222</th>\n",
       "      <td>voter education engagement action plan 2022 ex...</td>\n",
       "      <td>Wofford-College-Action-Plan-2022-May.pdf</td>\n",
       "    </tr>\n",
       "    <tr>\n",
       "      <th>1223</th>\n",
       "      <td>worcester state university has aimed to increa...</td>\n",
       "      <td>Worcester-State-University-Action-Plan-2018.pdf</td>\n",
       "    </tr>\n",
       "    <tr>\n",
       "      <th>1224</th>\n",
       "      <td>worcester state university 2020 action plan th...</td>\n",
       "      <td>Worcester-State-University-Action-Plan-2020.pdf</td>\n",
       "    </tr>\n",
       "    <tr>\n",
       "      <th>1225</th>\n",
       "      <td>i executive summary in our mission and vision ...</td>\n",
       "      <td>York-College-Action-Plan-2020.pdf</td>\n",
       "    </tr>\n",
       "  </tbody>\n",
       "</table>\n",
       "<p>1226 rows × 2 columns</p>\n",
       "</div>"
      ],
      "text/plain": [
       "                                                   text  \\\n",
       "0      voter education voter turnout voter registrat...   \n",
       "1      gw votes 2020 action plan honey w nashman cen...   \n",
       "2     tricia debertolis alfred university 1 saxon dr...   \n",
       "3      allegany college all in one campus plan to in...   \n",
       "4      all in campus democracy challenge 2016 action...   \n",
       "...                                                 ...   \n",
       "1221  voter education engagement master plan 429 n c...   \n",
       "1222  voter education engagement action plan 2022 ex...   \n",
       "1223  worcester state university has aimed to increa...   \n",
       "1224  worcester state university 2020 action plan th...   \n",
       "1225  i executive summary in our mission and vision ...   \n",
       "\n",
       "                                                 name  \n",
       "0          2019-2020-Nazareth-College-Action-Plan.pdf  \n",
       "1                          2020-Action-Plan-FINAL.pdf  \n",
       "2                              Action-Plan-Alfred.pdf  \n",
       "3                    Action-Plan-Allegany-College.pdf  \n",
       "4      Action-Plan-Anne-Arundel-Community-College.pdf  \n",
       "...                                               ...  \n",
       "1221             Wofford-College-Action-Plan-2018.pdf  \n",
       "1222         Wofford-College-Action-Plan-2022-May.pdf  \n",
       "1223  Worcester-State-University-Action-Plan-2018.pdf  \n",
       "1224  Worcester-State-University-Action-Plan-2020.pdf  \n",
       "1225                York-College-Action-Plan-2020.pdf  \n",
       "\n",
       "[1226 rows x 2 columns]"
      ]
     },
     "execution_count": 5,
     "metadata": {},
     "output_type": "execute_result"
    }
   ],
   "source": [
    "# check the file \n",
    "df"
   ]
  },
  {
   "cell_type": "markdown",
   "id": "b171d024-5fad-45aa-bd02-acd2cf042f84",
   "metadata": {},
   "source": [
    "## BERT topic modeling"
   ]
  },
  {
   "cell_type": "markdown",
   "id": "03f6eb37-4e50-4e7d-9be2-8e87ed8197cc",
   "metadata": {},
   "source": [
    "### Training"
   ]
  },
  {
   "cell_type": "code",
   "execution_count": 6,
   "id": "6f2483cc-a13e-4e46-9ce7-056d54abb362",
   "metadata": {},
   "outputs": [],
   "source": [
    "from bertopic import BERTopic\n",
    "from sklearn.feature_extraction.text import CountVectorizer\n",
    "\n",
    "vectorizer_model = CountVectorizer(stop_words=\"english\")\n",
    "\n",
    "docs = df['text']"
   ]
  },
  {
   "cell_type": "code",
   "execution_count": 7,
   "id": "95883f95-96c4-44f5-89ba-615ae539e585",
   "metadata": {},
   "outputs": [],
   "source": [
    "# dimension reduction tools\n",
    "from umap import UMAP\n",
    "\n",
    "umap_model = UMAP(n_neighbors=15, n_components=5, min_dist=0.0, metric='cosine')\n",
    "\n",
    "from hdbscan import HDBSCAN\n",
    "\n",
    "hdbscan_model = HDBSCAN(min_cluster_size=10, metric='euclidean', prediction_data=True)\n",
    "\n",
    "from sklearn.decomposition import PCA\n",
    "\n",
    "dim_model = PCA(n_components=5)"
   ]
  },
  {
   "cell_type": "code",
   "execution_count": 8,
   "id": "e3e3f814-6eea-4ecb-aa06-0d35a1d2b054",
   "metadata": {},
   "outputs": [],
   "source": [
    "# importing random module\n",
    "import random\n",
    " \n",
    "random.seed(1234)"
   ]
  },
  {
   "cell_type": "code",
   "execution_count": 24,
   "id": "9bcebb4f-f3be-4b1a-b4aa-9c836240115b",
   "metadata": {},
   "outputs": [
    {
     "name": "stdout",
     "output_type": "stream",
     "text": [
      "[=-------------------------------------------------] 3.8% 36.2/958.4MB downloaded"
     ]
    },
    {
     "name": "stderr",
     "output_type": "stream",
     "text": [
      "IOPub message rate exceeded.\n",
      "The Jupyter server will temporarily stop sending output\n",
      "to the client in order to avoid crashing it.\n",
      "To change this limit, set the config variable\n",
      "`--ServerApp.iopub_msg_rate_limit`.\n",
      "\n",
      "Current values:\n",
      "ServerApp.iopub_msg_rate_limit=1000.0 (msgs/sec)\n",
      "ServerApp.rate_limit_window=3.0 (secs)\n",
      "\n"
     ]
    },
    {
     "name": "stdout",
     "output_type": "stream",
     "text": [
      "[==================================================] 100.0% 958.5/958.4MB downloaded\n"
     ]
    }
   ],
   "source": [
    "from bertopic.backend import WordDocEmbedder\n",
    "import gensim.downloader as api\n",
    "from sentence_transformers import SentenceTransformer\n",
    "\n",
    "# Word embedding model\n",
    "ft = api.load('fasttext-wiki-news-subwords-300')\n",
    "\n",
    "# Document embedding model\n",
    "embedding_model = SentenceTransformer(\"all-MiniLM-L6-v2\")\n",
    "\n",
    "# Create a model that uses both language models and pass it through BERTopic\n",
    "word_doc_embedder = WordDocEmbedder(embedding_model=embedding_model, word_embedding_model=ft)"
   ]
  },
  {
   "cell_type": "code",
   "execution_count": 49,
   "id": "0d490a1e-45b6-42e4-9268-85f6597af236",
   "metadata": {},
   "outputs": [],
   "source": [
    "topic_model = BERTopic(nr_topics=\"auto\", # topic reduction\n",
    "                      n_gram_range = (1,2), \n",
    "                      embedding_model=word_doc_embedder, # embedding model\n",
    "                      vectorizer_model=vectorizer_model, # remove stop words\n",
    "                      diversity=1, # diversify topic representation ; 1 = max\n",
    "                      umap_model=umap_model, # dimension reduction \n",
    "                      hdbscan_model=hdbscan_model) # reducing the embeddings with HDBSCAN"
   ]
  },
  {
   "cell_type": "code",
   "execution_count": 50,
   "id": "961cfe46-e7e2-476f-95a9-053bb58025b9",
   "metadata": {},
   "outputs": [],
   "source": [
    "topics, probs = topic_model.fit_transform(docs, embeddings)"
   ]
  },
  {
   "cell_type": "code",
   "execution_count": 51,
   "id": "7c13139c-b9df-4166-9882-2d04ddbe2820",
   "metadata": {},
   "outputs": [],
   "source": [
    "# save model\n",
    "topic_model.save('./outputs/my_model')"
   ]
  },
  {
   "cell_type": "code",
   "execution_count": 28,
   "id": "04ffa7da-ed5c-44a8-8272-dc300a1c6380",
   "metadata": {},
   "outputs": [
    {
     "data": {
      "text/plain": [
       "<bertopic._bertopic.BERTopic at 0x7fea8408d250>"
      ]
     },
     "execution_count": 28,
     "metadata": {},
     "output_type": "execute_result"
    }
   ],
   "source": [
    "# load model \n",
    "BERTopic.load('./outputs/my_model')"
   ]
  },
  {
   "cell_type": "code",
   "execution_count": 52,
   "id": "7074665a",
   "metadata": {},
   "outputs": [
    {
     "data": {
      "text/html": [
       "<div>\n",
       "<style scoped>\n",
       "    .dataframe tbody tr th:only-of-type {\n",
       "        vertical-align: middle;\n",
       "    }\n",
       "\n",
       "    .dataframe tbody tr th {\n",
       "        vertical-align: top;\n",
       "    }\n",
       "\n",
       "    .dataframe thead th {\n",
       "        text-align: right;\n",
       "    }\n",
       "</style>\n",
       "<table border=\"1\" class=\"dataframe\">\n",
       "  <thead>\n",
       "    <tr style=\"text-align: right;\">\n",
       "      <th></th>\n",
       "      <th>Topic</th>\n",
       "      <th>Count</th>\n",
       "      <th>Name</th>\n",
       "    </tr>\n",
       "  </thead>\n",
       "  <tbody>\n",
       "    <tr>\n",
       "      <th>0</th>\n",
       "      <td>-1</td>\n",
       "      <td>750</td>\n",
       "      <td>-1_students_registration_vote_community</td>\n",
       "    </tr>\n",
       "    <tr>\n",
       "      <th>1</th>\n",
       "      <td>0</td>\n",
       "      <td>241</td>\n",
       "      <td>0_students_community_registration_plan</td>\n",
       "    </tr>\n",
       "    <tr>\n",
       "      <th>2</th>\n",
       "      <td>1</td>\n",
       "      <td>105</td>\n",
       "      <td>1_students_election_information_dickinson</td>\n",
       "    </tr>\n",
       "    <tr>\n",
       "      <th>3</th>\n",
       "      <td>2</td>\n",
       "      <td>50</td>\n",
       "      <td>2_following_nslve_education_voting</td>\n",
       "    </tr>\n",
       "    <tr>\n",
       "      <th>4</th>\n",
       "      <td>3</td>\n",
       "      <td>44</td>\n",
       "      <td>3_vote_registration_community_plan</td>\n",
       "    </tr>\n",
       "    <tr>\n",
       "      <th>5</th>\n",
       "      <td>4</td>\n",
       "      <td>36</td>\n",
       "      <td>4_unc_plan_carolina_community</td>\n",
       "    </tr>\n",
       "  </tbody>\n",
       "</table>\n",
       "</div>"
      ],
      "text/plain": [
       "   Topic  Count                                       Name\n",
       "0     -1    750    -1_students_registration_vote_community\n",
       "1      0    241     0_students_community_registration_plan\n",
       "2      1    105  1_students_election_information_dickinson\n",
       "3      2     50         2_following_nslve_education_voting\n",
       "4      3     44         3_vote_registration_community_plan\n",
       "5      4     36              4_unc_plan_carolina_community"
      ]
     },
     "execution_count": 52,
     "metadata": {},
     "output_type": "execute_result"
    }
   ],
   "source": [
    "topic_model.get_topic_info() "
   ]
  },
  {
   "cell_type": "code",
   "execution_count": 53,
   "id": "54e289cc-d935-46e9-a3d2-cf3c7e3ba1ad",
   "metadata": {},
   "outputs": [
    {
     "data": {
      "text/plain": [
       "[('students', 0.04516244238058304),\n",
       " ('community', 0.03161595045217051),\n",
       " ('registration', 0.024442001092380816),\n",
       " ('plan', 0.023934739412942198),\n",
       " ('learning', 0.02273142638008526),\n",
       " ('vote', 0.02126061808508819),\n",
       " ('2020', 0.018551397511497262),\n",
       " ('day', 0.014891104847023509),\n",
       " ('events', 0.014069530833536984),\n",
       " ('information', 0.013508503560571199)]"
      ]
     },
     "execution_count": 53,
     "metadata": {},
     "output_type": "execute_result"
    }
   ],
   "source": [
    "topic_model.get_topic(0)[:20]"
   ]
  },
  {
   "cell_type": "code",
   "execution_count": 54,
   "id": "a5405adf-722b-43ff-bce2-c73aa3bfbce2",
   "metadata": {},
   "outputs": [
    {
     "data": {
      "text/plain": [
       "[('students', 0.051058524608077575),\n",
       " ('election', 0.029050769583814882),\n",
       " ('information', 0.02109186750776117),\n",
       " ('dickinson', 0.020418301287521777),\n",
       " ('register', 0.01882116822479886),\n",
       " ('etsu', 0.018079225839249778),\n",
       " ('cce', 0.016880592375412024),\n",
       " ('2020', 0.016474765436406046),\n",
       " ('absentee', 0.014488882197184152),\n",
       " ('civic', 0.01366825958805725)]"
      ]
     },
     "execution_count": 54,
     "metadata": {},
     "output_type": "execute_result"
    }
   ],
   "source": [
    "topic_model.get_topic(1)[:20]"
   ]
  },
  {
   "cell_type": "code",
   "execution_count": 55,
   "id": "400fb259-054d-43ea-bc76-f098d8aee4d1",
   "metadata": {},
   "outputs": [
    {
     "data": {
      "text/plain": [
       "[('following', 0.06595347297130555),\n",
       " ('nslve', 0.045422837222369374),\n",
       " ('education', 0.030910774314737755),\n",
       " ('voting', 0.02950019799714372),\n",
       " ('bard', 0.028848891761662693),\n",
       " ('person', 0.026747701875569217),\n",
       " ('website', 0.025507068641581882),\n",
       " ('virtual', 0.025435577745775744),\n",
       " ('dominican', 0.02381623652024994),\n",
       " ('2020', 0.02113107891773771)]"
      ]
     },
     "execution_count": 55,
     "metadata": {},
     "output_type": "execute_result"
    }
   ],
   "source": [
    "topic_model.get_topic(2)[:20]"
   ]
  },
  {
   "cell_type": "markdown",
   "id": "5b6dea2c-aa31-467e-9317-517ed1e46f32",
   "metadata": {},
   "source": [
    "### Visualization"
   ]
  },
  {
   "cell_type": "code",
   "execution_count": 117,
   "id": "cfa07b7d-568c-4952-8a52-681c17b14c07",
   "metadata": {},
   "outputs": [],
   "source": [
    "fig = topic_model.visualize_topics()\n",
    "fig.write_html(\"./outputs/topic.html\")"
   ]
  },
  {
   "cell_type": "code",
   "execution_count": 118,
   "id": "92b48a1f-b8f6-48d5-b7cb-58950d7e9d88",
   "metadata": {},
   "outputs": [
    {
     "data": {
      "application/vnd.plotly.v1+json": {
       "config": {
        "plotlyServerURL": "https://plot.ly"
       },
       "data": [
        {
         "hoverinfo": "text",
         "marker": {
          "color": "rgb(61,153,112)"
         },
         "mode": "lines",
         "type": "scatter",
         "x": [
          0,
          0.25300863149866526,
          0.25300863149866526,
          0
         ],
         "xaxis": "x",
         "y": [
          -5,
          -5,
          -15,
          -15
         ],
         "yaxis": "y"
        },
        {
         "hoverinfo": "text",
         "marker": {
          "color": "rgb(61,153,112)"
         },
         "mode": "lines",
         "type": "scatter",
         "x": [
          0,
          0.07985783853755891,
          0.07985783853755891,
          0
         ],
         "xaxis": "x",
         "y": [
          -25,
          -25,
          -35,
          -35
         ],
         "yaxis": "y"
        },
        {
         "hoverinfo": "text",
         "marker": {
          "color": "rgb(61,153,112)"
         },
         "mode": "lines",
         "type": "scatter",
         "x": [
          0,
          0.12332871750620122,
          0.12332871750620122,
          0
         ],
         "xaxis": "x",
         "y": [
          -45,
          -45,
          -55,
          -55
         ],
         "yaxis": "y"
        },
        {
         "hoverinfo": "text",
         "marker": {
          "color": "rgb(61,153,112)"
         },
         "mode": "lines",
         "type": "scatter",
         "x": [
          0.07985783853755891,
          0.15401520161803237,
          0.15401520161803237,
          0.12332871750620122
         ],
         "xaxis": "x",
         "y": [
          -30,
          -30,
          -50,
          -50
         ],
         "yaxis": "y"
        },
        {
         "hoverinfo": "text",
         "marker": {
          "color": "rgb(61,153,112)"
         },
         "mode": "lines",
         "type": "scatter",
         "x": [
          0,
          0.15443879971281005,
          0.15443879971281005,
          0
         ],
         "xaxis": "x",
         "y": [
          -85,
          -85,
          -95,
          -95
         ],
         "yaxis": "y"
        },
        {
         "hoverinfo": "text",
         "marker": {
          "color": "rgb(61,153,112)"
         },
         "mode": "lines",
         "type": "scatter",
         "x": [
          0,
          0.16742938803012192,
          0.16742938803012192,
          0.15443879971281005
         ],
         "xaxis": "x",
         "y": [
          -75,
          -75,
          -90,
          -90
         ],
         "yaxis": "y"
        },
        {
         "hoverinfo": "text",
         "marker": {
          "color": "rgb(61,153,112)"
         },
         "mode": "lines",
         "type": "scatter",
         "x": [
          0,
          0.1902321712879533,
          0.1902321712879533,
          0.16742938803012192
         ],
         "xaxis": "x",
         "y": [
          -65,
          -65,
          -82.5,
          -82.5
         ],
         "yaxis": "y"
        },
        {
         "hoverinfo": "text",
         "marker": {
          "color": "rgb(61,153,112)"
         },
         "mode": "lines",
         "type": "scatter",
         "x": [
          0.15401520161803237,
          0.21859955694342045,
          0.21859955694342045,
          0.1902321712879533
         ],
         "xaxis": "x",
         "y": [
          -40,
          -40,
          -73.75,
          -73.75
         ],
         "yaxis": "y"
        },
        {
         "hoverinfo": "text",
         "marker": {
          "color": "rgb(61,153,112)"
         },
         "mode": "lines",
         "type": "scatter",
         "x": [
          0,
          0.14263636356066797,
          0.14263636356066797,
          0
         ],
         "xaxis": "x",
         "y": [
          -115,
          -115,
          -125,
          -125
         ],
         "yaxis": "y"
        },
        {
         "hoverinfo": "text",
         "marker": {
          "color": "rgb(61,153,112)"
         },
         "mode": "lines",
         "type": "scatter",
         "x": [
          0,
          0.17689485825043003,
          0.17689485825043003,
          0.14263636356066797
         ],
         "xaxis": "x",
         "y": [
          -105,
          -105,
          -120,
          -120
         ],
         "yaxis": "y"
        },
        {
         "hoverinfo": "text",
         "marker": {
          "color": "rgb(61,153,112)"
         },
         "mode": "lines",
         "type": "scatter",
         "x": [
          0,
          0.16674933370315873,
          0.16674933370315873,
          0
         ],
         "xaxis": "x",
         "y": [
          -135,
          -135,
          -145,
          -145
         ],
         "yaxis": "y"
        },
        {
         "hoverinfo": "text",
         "marker": {
          "color": "rgb(61,153,112)"
         },
         "mode": "lines",
         "type": "scatter",
         "x": [
          0,
          0.22640814324169833,
          0.22640814324169833,
          0
         ],
         "xaxis": "x",
         "y": [
          -155,
          -155,
          -165,
          -165
         ],
         "yaxis": "y"
        },
        {
         "hoverinfo": "text",
         "marker": {
          "color": "rgb(61,153,112)"
         },
         "mode": "lines",
         "type": "scatter",
         "x": [
          0.16674933370315873,
          0.263874185999613,
          0.263874185999613,
          0.22640814324169833
         ],
         "xaxis": "x",
         "y": [
          -140,
          -140,
          -160,
          -160
         ],
         "yaxis": "y"
        },
        {
         "hoverinfo": "text",
         "marker": {
          "color": "rgb(61,153,112)"
         },
         "mode": "lines",
         "type": "scatter",
         "x": [
          0.17689485825043003,
          0.2705722078954916,
          0.2705722078954916,
          0.263874185999613
         ],
         "xaxis": "x",
         "y": [
          -112.5,
          -112.5,
          -150,
          -150
         ],
         "yaxis": "y"
        },
        {
         "hoverinfo": "text",
         "marker": {
          "color": "rgb(61,153,112)"
         },
         "mode": "lines",
         "type": "scatter",
         "x": [
          0.21859955694342045,
          0.3207166824522269,
          0.3207166824522269,
          0.2705722078954916
         ],
         "xaxis": "x",
         "y": [
          -56.875,
          -56.875,
          -131.25,
          -131.25
         ],
         "yaxis": "y"
        },
        {
         "hoverinfo": "text",
         "marker": {
          "color": "rgb(61,153,112)"
         },
         "mode": "lines",
         "type": "scatter",
         "x": [
          0.25300863149866526,
          0.4454902002357821,
          0.4454902002357821,
          0.3207166824522269
         ],
         "xaxis": "x",
         "y": [
          -10,
          -10,
          -94.0625,
          -94.0625
         ],
         "yaxis": "y"
        },
        {
         "hoverinfo": "text",
         "marker": {
          "color": "rgb(255,65,54)"
         },
         "mode": "lines",
         "type": "scatter",
         "x": [
          0,
          0.3003174385793588,
          0.3003174385793588,
          0
         ],
         "xaxis": "x",
         "y": [
          -175,
          -175,
          -185,
          -185
         ],
         "yaxis": "y"
        },
        {
         "hoverinfo": "text",
         "marker": {
          "color": "rgb(255,65,54)"
         },
         "mode": "lines",
         "type": "scatter",
         "x": [
          0,
          0.3908057313339652,
          0.3908057313339652,
          0
         ],
         "xaxis": "x",
         "y": [
          -195,
          -195,
          -205,
          -205
         ],
         "yaxis": "y"
        },
        {
         "hoverinfo": "text",
         "marker": {
          "color": "rgb(255,65,54)"
         },
         "mode": "lines",
         "type": "scatter",
         "x": [
          0.3003174385793588,
          0.5797388577818894,
          0.5797388577818894,
          0.3908057313339652
         ],
         "xaxis": "x",
         "y": [
          -180,
          -180,
          -200,
          -200
         ],
         "yaxis": "y"
        },
        {
         "hoverinfo": "text",
         "marker": {
          "color": "rgb(0,116,217)"
         },
         "mode": "lines",
         "type": "scatter",
         "x": [
          0.4454902002357821,
          1.1269222566291948,
          1.1269222566291948,
          0.5797388577818894
         ],
         "xaxis": "x",
         "y": [
          -52.03125,
          -52.03125,
          -190,
          -190
         ],
         "yaxis": "y"
        }
       ],
       "layout": {
        "autosize": false,
        "height": 515,
        "hoverlabel": {
         "bgcolor": "white",
         "font": {
          "family": "Rockwell",
          "size": 16
         }
        },
        "hovermode": "closest",
        "plot_bgcolor": "#ECEFF1",
        "showlegend": false,
        "template": {
         "data": {
          "bar": [
           {
            "error_x": {
             "color": "#2a3f5f"
            },
            "error_y": {
             "color": "#2a3f5f"
            },
            "marker": {
             "line": {
              "color": "white",
              "width": 0.5
             },
             "pattern": {
              "fillmode": "overlay",
              "size": 10,
              "solidity": 0.2
             }
            },
            "type": "bar"
           }
          ],
          "barpolar": [
           {
            "marker": {
             "line": {
              "color": "white",
              "width": 0.5
             },
             "pattern": {
              "fillmode": "overlay",
              "size": 10,
              "solidity": 0.2
             }
            },
            "type": "barpolar"
           }
          ],
          "carpet": [
           {
            "aaxis": {
             "endlinecolor": "#2a3f5f",
             "gridcolor": "#C8D4E3",
             "linecolor": "#C8D4E3",
             "minorgridcolor": "#C8D4E3",
             "startlinecolor": "#2a3f5f"
            },
            "baxis": {
             "endlinecolor": "#2a3f5f",
             "gridcolor": "#C8D4E3",
             "linecolor": "#C8D4E3",
             "minorgridcolor": "#C8D4E3",
             "startlinecolor": "#2a3f5f"
            },
            "type": "carpet"
           }
          ],
          "choropleth": [
           {
            "colorbar": {
             "outlinewidth": 0,
             "ticks": ""
            },
            "type": "choropleth"
           }
          ],
          "contour": [
           {
            "colorbar": {
             "outlinewidth": 0,
             "ticks": ""
            },
            "colorscale": [
             [
              0,
              "#0d0887"
             ],
             [
              0.1111111111111111,
              "#46039f"
             ],
             [
              0.2222222222222222,
              "#7201a8"
             ],
             [
              0.3333333333333333,
              "#9c179e"
             ],
             [
              0.4444444444444444,
              "#bd3786"
             ],
             [
              0.5555555555555556,
              "#d8576b"
             ],
             [
              0.6666666666666666,
              "#ed7953"
             ],
             [
              0.7777777777777778,
              "#fb9f3a"
             ],
             [
              0.8888888888888888,
              "#fdca26"
             ],
             [
              1,
              "#f0f921"
             ]
            ],
            "type": "contour"
           }
          ],
          "contourcarpet": [
           {
            "colorbar": {
             "outlinewidth": 0,
             "ticks": ""
            },
            "type": "contourcarpet"
           }
          ],
          "heatmap": [
           {
            "colorbar": {
             "outlinewidth": 0,
             "ticks": ""
            },
            "colorscale": [
             [
              0,
              "#0d0887"
             ],
             [
              0.1111111111111111,
              "#46039f"
             ],
             [
              0.2222222222222222,
              "#7201a8"
             ],
             [
              0.3333333333333333,
              "#9c179e"
             ],
             [
              0.4444444444444444,
              "#bd3786"
             ],
             [
              0.5555555555555556,
              "#d8576b"
             ],
             [
              0.6666666666666666,
              "#ed7953"
             ],
             [
              0.7777777777777778,
              "#fb9f3a"
             ],
             [
              0.8888888888888888,
              "#fdca26"
             ],
             [
              1,
              "#f0f921"
             ]
            ],
            "type": "heatmap"
           }
          ],
          "heatmapgl": [
           {
            "colorbar": {
             "outlinewidth": 0,
             "ticks": ""
            },
            "colorscale": [
             [
              0,
              "#0d0887"
             ],
             [
              0.1111111111111111,
              "#46039f"
             ],
             [
              0.2222222222222222,
              "#7201a8"
             ],
             [
              0.3333333333333333,
              "#9c179e"
             ],
             [
              0.4444444444444444,
              "#bd3786"
             ],
             [
              0.5555555555555556,
              "#d8576b"
             ],
             [
              0.6666666666666666,
              "#ed7953"
             ],
             [
              0.7777777777777778,
              "#fb9f3a"
             ],
             [
              0.8888888888888888,
              "#fdca26"
             ],
             [
              1,
              "#f0f921"
             ]
            ],
            "type": "heatmapgl"
           }
          ],
          "histogram": [
           {
            "marker": {
             "pattern": {
              "fillmode": "overlay",
              "size": 10,
              "solidity": 0.2
             }
            },
            "type": "histogram"
           }
          ],
          "histogram2d": [
           {
            "colorbar": {
             "outlinewidth": 0,
             "ticks": ""
            },
            "colorscale": [
             [
              0,
              "#0d0887"
             ],
             [
              0.1111111111111111,
              "#46039f"
             ],
             [
              0.2222222222222222,
              "#7201a8"
             ],
             [
              0.3333333333333333,
              "#9c179e"
             ],
             [
              0.4444444444444444,
              "#bd3786"
             ],
             [
              0.5555555555555556,
              "#d8576b"
             ],
             [
              0.6666666666666666,
              "#ed7953"
             ],
             [
              0.7777777777777778,
              "#fb9f3a"
             ],
             [
              0.8888888888888888,
              "#fdca26"
             ],
             [
              1,
              "#f0f921"
             ]
            ],
            "type": "histogram2d"
           }
          ],
          "histogram2dcontour": [
           {
            "colorbar": {
             "outlinewidth": 0,
             "ticks": ""
            },
            "colorscale": [
             [
              0,
              "#0d0887"
             ],
             [
              0.1111111111111111,
              "#46039f"
             ],
             [
              0.2222222222222222,
              "#7201a8"
             ],
             [
              0.3333333333333333,
              "#9c179e"
             ],
             [
              0.4444444444444444,
              "#bd3786"
             ],
             [
              0.5555555555555556,
              "#d8576b"
             ],
             [
              0.6666666666666666,
              "#ed7953"
             ],
             [
              0.7777777777777778,
              "#fb9f3a"
             ],
             [
              0.8888888888888888,
              "#fdca26"
             ],
             [
              1,
              "#f0f921"
             ]
            ],
            "type": "histogram2dcontour"
           }
          ],
          "mesh3d": [
           {
            "colorbar": {
             "outlinewidth": 0,
             "ticks": ""
            },
            "type": "mesh3d"
           }
          ],
          "parcoords": [
           {
            "line": {
             "colorbar": {
              "outlinewidth": 0,
              "ticks": ""
             }
            },
            "type": "parcoords"
           }
          ],
          "pie": [
           {
            "automargin": true,
            "type": "pie"
           }
          ],
          "scatter": [
           {
            "marker": {
             "colorbar": {
              "outlinewidth": 0,
              "ticks": ""
             }
            },
            "type": "scatter"
           }
          ],
          "scatter3d": [
           {
            "line": {
             "colorbar": {
              "outlinewidth": 0,
              "ticks": ""
             }
            },
            "marker": {
             "colorbar": {
              "outlinewidth": 0,
              "ticks": ""
             }
            },
            "type": "scatter3d"
           }
          ],
          "scattercarpet": [
           {
            "marker": {
             "colorbar": {
              "outlinewidth": 0,
              "ticks": ""
             }
            },
            "type": "scattercarpet"
           }
          ],
          "scattergeo": [
           {
            "marker": {
             "colorbar": {
              "outlinewidth": 0,
              "ticks": ""
             }
            },
            "type": "scattergeo"
           }
          ],
          "scattergl": [
           {
            "marker": {
             "colorbar": {
              "outlinewidth": 0,
              "ticks": ""
             }
            },
            "type": "scattergl"
           }
          ],
          "scattermapbox": [
           {
            "marker": {
             "colorbar": {
              "outlinewidth": 0,
              "ticks": ""
             }
            },
            "type": "scattermapbox"
           }
          ],
          "scatterpolar": [
           {
            "marker": {
             "colorbar": {
              "outlinewidth": 0,
              "ticks": ""
             }
            },
            "type": "scatterpolar"
           }
          ],
          "scatterpolargl": [
           {
            "marker": {
             "colorbar": {
              "outlinewidth": 0,
              "ticks": ""
             }
            },
            "type": "scatterpolargl"
           }
          ],
          "scatterternary": [
           {
            "marker": {
             "colorbar": {
              "outlinewidth": 0,
              "ticks": ""
             }
            },
            "type": "scatterternary"
           }
          ],
          "surface": [
           {
            "colorbar": {
             "outlinewidth": 0,
             "ticks": ""
            },
            "colorscale": [
             [
              0,
              "#0d0887"
             ],
             [
              0.1111111111111111,
              "#46039f"
             ],
             [
              0.2222222222222222,
              "#7201a8"
             ],
             [
              0.3333333333333333,
              "#9c179e"
             ],
             [
              0.4444444444444444,
              "#bd3786"
             ],
             [
              0.5555555555555556,
              "#d8576b"
             ],
             [
              0.6666666666666666,
              "#ed7953"
             ],
             [
              0.7777777777777778,
              "#fb9f3a"
             ],
             [
              0.8888888888888888,
              "#fdca26"
             ],
             [
              1,
              "#f0f921"
             ]
            ],
            "type": "surface"
           }
          ],
          "table": [
           {
            "cells": {
             "fill": {
              "color": "#EBF0F8"
             },
             "line": {
              "color": "white"
             }
            },
            "header": {
             "fill": {
              "color": "#C8D4E3"
             },
             "line": {
              "color": "white"
             }
            },
            "type": "table"
           }
          ]
         },
         "layout": {
          "annotationdefaults": {
           "arrowcolor": "#2a3f5f",
           "arrowhead": 0,
           "arrowwidth": 1
          },
          "autotypenumbers": "strict",
          "coloraxis": {
           "colorbar": {
            "outlinewidth": 0,
            "ticks": ""
           }
          },
          "colorscale": {
           "diverging": [
            [
             0,
             "#8e0152"
            ],
            [
             0.1,
             "#c51b7d"
            ],
            [
             0.2,
             "#de77ae"
            ],
            [
             0.3,
             "#f1b6da"
            ],
            [
             0.4,
             "#fde0ef"
            ],
            [
             0.5,
             "#f7f7f7"
            ],
            [
             0.6,
             "#e6f5d0"
            ],
            [
             0.7,
             "#b8e186"
            ],
            [
             0.8,
             "#7fbc41"
            ],
            [
             0.9,
             "#4d9221"
            ],
            [
             1,
             "#276419"
            ]
           ],
           "sequential": [
            [
             0,
             "#0d0887"
            ],
            [
             0.1111111111111111,
             "#46039f"
            ],
            [
             0.2222222222222222,
             "#7201a8"
            ],
            [
             0.3333333333333333,
             "#9c179e"
            ],
            [
             0.4444444444444444,
             "#bd3786"
            ],
            [
             0.5555555555555556,
             "#d8576b"
            ],
            [
             0.6666666666666666,
             "#ed7953"
            ],
            [
             0.7777777777777778,
             "#fb9f3a"
            ],
            [
             0.8888888888888888,
             "#fdca26"
            ],
            [
             1,
             "#f0f921"
            ]
           ],
           "sequentialminus": [
            [
             0,
             "#0d0887"
            ],
            [
             0.1111111111111111,
             "#46039f"
            ],
            [
             0.2222222222222222,
             "#7201a8"
            ],
            [
             0.3333333333333333,
             "#9c179e"
            ],
            [
             0.4444444444444444,
             "#bd3786"
            ],
            [
             0.5555555555555556,
             "#d8576b"
            ],
            [
             0.6666666666666666,
             "#ed7953"
            ],
            [
             0.7777777777777778,
             "#fb9f3a"
            ],
            [
             0.8888888888888888,
             "#fdca26"
            ],
            [
             1,
             "#f0f921"
            ]
           ]
          },
          "colorway": [
           "#636efa",
           "#EF553B",
           "#00cc96",
           "#ab63fa",
           "#FFA15A",
           "#19d3f3",
           "#FF6692",
           "#B6E880",
           "#FF97FF",
           "#FECB52"
          ],
          "font": {
           "color": "#2a3f5f"
          },
          "geo": {
           "bgcolor": "white",
           "lakecolor": "white",
           "landcolor": "white",
           "showlakes": true,
           "showland": true,
           "subunitcolor": "#C8D4E3"
          },
          "hoverlabel": {
           "align": "left"
          },
          "hovermode": "closest",
          "mapbox": {
           "style": "light"
          },
          "paper_bgcolor": "white",
          "plot_bgcolor": "white",
          "polar": {
           "angularaxis": {
            "gridcolor": "#EBF0F8",
            "linecolor": "#EBF0F8",
            "ticks": ""
           },
           "bgcolor": "white",
           "radialaxis": {
            "gridcolor": "#EBF0F8",
            "linecolor": "#EBF0F8",
            "ticks": ""
           }
          },
          "scene": {
           "xaxis": {
            "backgroundcolor": "white",
            "gridcolor": "#DFE8F3",
            "gridwidth": 2,
            "linecolor": "#EBF0F8",
            "showbackground": true,
            "ticks": "",
            "zerolinecolor": "#EBF0F8"
           },
           "yaxis": {
            "backgroundcolor": "white",
            "gridcolor": "#DFE8F3",
            "gridwidth": 2,
            "linecolor": "#EBF0F8",
            "showbackground": true,
            "ticks": "",
            "zerolinecolor": "#EBF0F8"
           },
           "zaxis": {
            "backgroundcolor": "white",
            "gridcolor": "#DFE8F3",
            "gridwidth": 2,
            "linecolor": "#EBF0F8",
            "showbackground": true,
            "ticks": "",
            "zerolinecolor": "#EBF0F8"
           }
          },
          "shapedefaults": {
           "line": {
            "color": "#2a3f5f"
           }
          },
          "ternary": {
           "aaxis": {
            "gridcolor": "#DFE8F3",
            "linecolor": "#A2B1C6",
            "ticks": ""
           },
           "baxis": {
            "gridcolor": "#DFE8F3",
            "linecolor": "#A2B1C6",
            "ticks": ""
           },
           "bgcolor": "white",
           "caxis": {
            "gridcolor": "#DFE8F3",
            "linecolor": "#A2B1C6",
            "ticks": ""
           }
          },
          "title": {
           "x": 0.05
          },
          "xaxis": {
           "automargin": true,
           "gridcolor": "#EBF0F8",
           "linecolor": "#EBF0F8",
           "ticks": "",
           "title": {
            "standoff": 15
           },
           "zerolinecolor": "#EBF0F8",
           "zerolinewidth": 2
          },
          "yaxis": {
           "automargin": true,
           "gridcolor": "#EBF0F8",
           "linecolor": "#EBF0F8",
           "ticks": "",
           "title": {
            "standoff": 15
           },
           "zerolinecolor": "#EBF0F8",
           "zerolinewidth": 2
          }
         }
        },
        "title": {
         "font": {
          "color": "Black",
          "size": 22
         },
         "text": "<b>Hierarchical Clustering",
         "x": 0.5,
         "xanchor": "center",
         "yanchor": "top"
        },
        "width": 1000,
        "xaxis": {
         "autorange": true,
         "mirror": "allticks",
         "range": [
          0,
          1.1269222566291948
         ],
         "rangemode": "tozero",
         "showgrid": false,
         "showline": true,
         "showticklabels": true,
         "ticks": "outside",
         "type": "linear",
         "zeroline": false
        },
        "yaxis": {
         "mirror": "allticks",
         "range": [
          -210,
          0
         ],
         "rangemode": "tozero",
         "showgrid": false,
         "showline": true,
         "showticklabels": true,
         "tickmode": "array",
         "ticks": "outside",
         "ticktext": [
          "8_denver_colorado_students",
          "9_cca_usd_students",
          "3_students_voter_student",
          "4_campus_voter_students",
          "5_michigan_students_voter",
          "17_indiana_voter_campus",
          "16_suffolk_students_jumbovote",
          "19_students_voter_nu",
          "1_voter_registration_students",
          "13_wisconsin_voting_campus",
          "10_illinois_students_uic",
          "6_texas_campus_engagement",
          "11_iowa_drake_student",
          "0_engagement_students_civic",
          "2_campus_following_plan",
          "7_asu_arizona_voter",
          "14_etsu_mtsu_voting",
          "12_georgia_emory_evi",
          "15_umsl_louis_missouri",
          "18_tcnj_community_jersey",
          "20_morris_umn_minnesota"
         ],
         "tickvals": [
          -5,
          -15,
          -25,
          -35,
          -45,
          -55,
          -65,
          -75,
          -85,
          -95,
          -105,
          -115,
          -125,
          -135,
          -145,
          -155,
          -165,
          -175,
          -185,
          -195,
          -205
         ],
         "type": "linear",
         "zeroline": false
        }
       }
      },
      "image/png": "[encoded data removed]",
      "text/html": [
       "<div>                            <div id=\"2118605b-a502-4a5a-8331-c9f8008f9bc1\" class=\"plotly-graph-div\" style=\"height:515px; width:1000px;\"></div>            <script type=\"text/javascript\">                require([\"plotly\"], function(Plotly) {                    window.PLOTLYENV=window.PLOTLYENV || {};                                    if (document.getElementById(\"2118605b-a502-4a5a-8331-c9f8008f9bc1\")) {                    Plotly.newPlot(                        \"2118605b-a502-4a5a-8331-c9f8008f9bc1\",                        [{\"hoverinfo\":\"text\",\"marker\":{\"color\":\"rgb(61,153,112)\"},\"mode\":\"lines\",\"x\":[0.0,0.25300863149866526,0.25300863149866526,0.0],\"xaxis\":\"x\",\"y\":[-5.0,-5.0,-15.0,-15.0],\"yaxis\":\"y\",\"type\":\"scatter\"},{\"hoverinfo\":\"text\",\"marker\":{\"color\":\"rgb(61,153,112)\"},\"mode\":\"lines\",\"x\":[0.0,0.07985783853755891,0.07985783853755891,0.0],\"xaxis\":\"x\",\"y\":[-25.0,-25.0,-35.0,-35.0],\"yaxis\":\"y\",\"type\":\"scatter\"},{\"hoverinfo\":\"text\",\"marker\":{\"color\":\"rgb(61,153,112)\"},\"mode\":\"lines\",\"x\":[0.0,0.12332871750620122,0.12332871750620122,0.0],\"xaxis\":\"x\",\"y\":[-45.0,-45.0,-55.0,-55.0],\"yaxis\":\"y\",\"type\":\"scatter\"},{\"hoverinfo\":\"text\",\"marker\":{\"color\":\"rgb(61,153,112)\"},\"mode\":\"lines\",\"x\":[0.07985783853755891,0.15401520161803237,0.15401520161803237,0.12332871750620122],\"xaxis\":\"x\",\"y\":[-30.0,-30.0,-50.0,-50.0],\"yaxis\":\"y\",\"type\":\"scatter\"},{\"hoverinfo\":\"text\",\"marker\":{\"color\":\"rgb(61,153,112)\"},\"mode\":\"lines\",\"x\":[0.0,0.15443879971281005,0.15443879971281005,0.0],\"xaxis\":\"x\",\"y\":[-85.0,-85.0,-95.0,-95.0],\"yaxis\":\"y\",\"type\":\"scatter\"},{\"hoverinfo\":\"text\",\"marker\":{\"color\":\"rgb(61,153,112)\"},\"mode\":\"lines\",\"x\":[0.0,0.16742938803012192,0.16742938803012192,0.15443879971281005],\"xaxis\":\"x\",\"y\":[-75.0,-75.0,-90.0,-90.0],\"yaxis\":\"y\",\"type\":\"scatter\"},{\"hoverinfo\":\"text\",\"marker\":{\"color\":\"rgb(61,153,112)\"},\"mode\":\"lines\",\"x\":[0.0,0.1902321712879533,0.1902321712879533,0.16742938803012192],\"xaxis\":\"x\",\"y\":[-65.0,-65.0,-82.5,-82.5],\"yaxis\":\"y\",\"type\":\"scatter\"},{\"hoverinfo\":\"text\",\"marker\":{\"color\":\"rgb(61,153,112)\"},\"mode\":\"lines\",\"x\":[0.15401520161803237,0.21859955694342045,0.21859955694342045,0.1902321712879533],\"xaxis\":\"x\",\"y\":[-40.0,-40.0,-73.75,-73.75],\"yaxis\":\"y\",\"type\":\"scatter\"},{\"hoverinfo\":\"text\",\"marker\":{\"color\":\"rgb(61,153,112)\"},\"mode\":\"lines\",\"x\":[0.0,0.14263636356066797,0.14263636356066797,0.0],\"xaxis\":\"x\",\"y\":[-115.0,-115.0,-125.0,-125.0],\"yaxis\":\"y\",\"type\":\"scatter\"},{\"hoverinfo\":\"text\",\"marker\":{\"color\":\"rgb(61,153,112)\"},\"mode\":\"lines\",\"x\":[0.0,0.17689485825043003,0.17689485825043003,0.14263636356066797],\"xaxis\":\"x\",\"y\":[-105.0,-105.0,-120.0,-120.0],\"yaxis\":\"y\",\"type\":\"scatter\"},{\"hoverinfo\":\"text\",\"marker\":{\"color\":\"rgb(61,153,112)\"},\"mode\":\"lines\",\"x\":[0.0,0.16674933370315873,0.16674933370315873,0.0],\"xaxis\":\"x\",\"y\":[-135.0,-135.0,-145.0,-145.0],\"yaxis\":\"y\",\"type\":\"scatter\"},{\"hoverinfo\":\"text\",\"marker\":{\"color\":\"rgb(61,153,112)\"},\"mode\":\"lines\",\"x\":[0.0,0.22640814324169833,0.22640814324169833,0.0],\"xaxis\":\"x\",\"y\":[-155.0,-155.0,-165.0,-165.0],\"yaxis\":\"y\",\"type\":\"scatter\"},{\"hoverinfo\":\"text\",\"marker\":{\"color\":\"rgb(61,153,112)\"},\"mode\":\"lines\",\"x\":[0.16674933370315873,0.263874185999613,0.263874185999613,0.22640814324169833],\"xaxis\":\"x\",\"y\":[-140.0,-140.0,-160.0,-160.0],\"yaxis\":\"y\",\"type\":\"scatter\"},{\"hoverinfo\":\"text\",\"marker\":{\"color\":\"rgb(61,153,112)\"},\"mode\":\"lines\",\"x\":[0.17689485825043003,0.2705722078954916,0.2705722078954916,0.263874185999613],\"xaxis\":\"x\",\"y\":[-112.5,-112.5,-150.0,-150.0],\"yaxis\":\"y\",\"type\":\"scatter\"},{\"hoverinfo\":\"text\",\"marker\":{\"color\":\"rgb(61,153,112)\"},\"mode\":\"lines\",\"x\":[0.21859955694342045,0.3207166824522269,0.3207166824522269,0.2705722078954916],\"xaxis\":\"x\",\"y\":[-56.875,-56.875,-131.25,-131.25],\"yaxis\":\"y\",\"type\":\"scatter\"},{\"hoverinfo\":\"text\",\"marker\":{\"color\":\"rgb(61,153,112)\"},\"mode\":\"lines\",\"x\":[0.25300863149866526,0.4454902002357821,0.4454902002357821,0.3207166824522269],\"xaxis\":\"x\",\"y\":[-10.0,-10.0,-94.0625,-94.0625],\"yaxis\":\"y\",\"type\":\"scatter\"},{\"hoverinfo\":\"text\",\"marker\":{\"color\":\"rgb(255,65,54)\"},\"mode\":\"lines\",\"x\":[0.0,0.3003174385793588,0.3003174385793588,0.0],\"xaxis\":\"x\",\"y\":[-175.0,-175.0,-185.0,-185.0],\"yaxis\":\"y\",\"type\":\"scatter\"},{\"hoverinfo\":\"text\",\"marker\":{\"color\":\"rgb(255,65,54)\"},\"mode\":\"lines\",\"x\":[0.0,0.3908057313339652,0.3908057313339652,0.0],\"xaxis\":\"x\",\"y\":[-195.0,-195.0,-205.0,-205.0],\"yaxis\":\"y\",\"type\":\"scatter\"},{\"hoverinfo\":\"text\",\"marker\":{\"color\":\"rgb(255,65,54)\"},\"mode\":\"lines\",\"x\":[0.3003174385793588,0.5797388577818894,0.5797388577818894,0.3908057313339652],\"xaxis\":\"x\",\"y\":[-180.0,-180.0,-200.0,-200.0],\"yaxis\":\"y\",\"type\":\"scatter\"},{\"hoverinfo\":\"text\",\"marker\":{\"color\":\"rgb(0,116,217)\"},\"mode\":\"lines\",\"x\":[0.4454902002357821,1.1269222566291948,1.1269222566291948,0.5797388577818894],\"xaxis\":\"x\",\"y\":[-52.03125,-52.03125,-190.0,-190.0],\"yaxis\":\"y\",\"type\":\"scatter\"}],                        {\"autosize\":false,\"height\":515,\"hovermode\":\"closest\",\"showlegend\":false,\"width\":1000,\"xaxis\":{\"mirror\":\"allticks\",\"rangemode\":\"tozero\",\"showgrid\":false,\"showline\":true,\"showticklabels\":true,\"ticks\":\"outside\",\"type\":\"linear\",\"zeroline\":false},\"yaxis\":{\"mirror\":\"allticks\",\"rangemode\":\"tozero\",\"showgrid\":false,\"showline\":true,\"showticklabels\":true,\"tickmode\":\"array\",\"ticks\":\"outside\",\"ticktext\":[\"8_denver_colorado_students\",\"9_cca_usd_students\",\"3_students_voter_student\",\"4_campus_voter_students\",\"5_michigan_students_voter\",\"17_indiana_voter_campus\",\"16_suffolk_students_jumbovote\",\"19_students_voter_nu\",\"1_voter_registration_students\",\"13_wisconsin_voting_campus\",\"10_illinois_students_uic\",\"6_texas_campus_engagement\",\"11_iowa_drake_student\",\"0_engagement_students_civic\",\"2_campus_following_plan\",\"7_asu_arizona_voter\",\"14_etsu_mtsu_voting\",\"12_georgia_emory_evi\",\"15_umsl_louis_missouri\",\"18_tcnj_community_jersey\",\"20_morris_umn_minnesota\"],\"tickvals\":[-5.0,-15.0,-25.0,-35.0,-45.0,-55.0,-65.0,-75.0,-85.0,-95.0,-105.0,-115.0,-125.0,-135.0,-145.0,-155.0,-165.0,-175.0,-185.0,-195.0,-205.0],\"type\":\"linear\",\"zeroline\":false,\"range\":[-210.0,0.0]},\"template\":{\"data\":{\"barpolar\":[{\"marker\":{\"line\":{\"color\":\"white\",\"width\":0.5},\"pattern\":{\"fillmode\":\"overlay\",\"size\":10,\"solidity\":0.2}},\"type\":\"barpolar\"}],\"bar\":[{\"error_x\":{\"color\":\"#2a3f5f\"},\"error_y\":{\"color\":\"#2a3f5f\"},\"marker\":{\"line\":{\"color\":\"white\",\"width\":0.5},\"pattern\":{\"fillmode\":\"overlay\",\"size\":10,\"solidity\":0.2}},\"type\":\"bar\"}],\"carpet\":[{\"aaxis\":{\"endlinecolor\":\"#2a3f5f\",\"gridcolor\":\"#C8D4E3\",\"linecolor\":\"#C8D4E3\",\"minorgridcolor\":\"#C8D4E3\",\"startlinecolor\":\"#2a3f5f\"},\"baxis\":{\"endlinecolor\":\"#2a3f5f\",\"gridcolor\":\"#C8D4E3\",\"linecolor\":\"#C8D4E3\",\"minorgridcolor\":\"#C8D4E3\",\"startlinecolor\":\"#2a3f5f\"},\"type\":\"carpet\"}],\"choropleth\":[{\"colorbar\":{\"outlinewidth\":0,\"ticks\":\"\"},\"type\":\"choropleth\"}],\"contourcarpet\":[{\"colorbar\":{\"outlinewidth\":0,\"ticks\":\"\"},\"type\":\"contourcarpet\"}],\"contour\":[{\"colorbar\":{\"outlinewidth\":0,\"ticks\":\"\"},\"colorscale\":[[0.0,\"#0d0887\"],[0.1111111111111111,\"#46039f\"],[0.2222222222222222,\"#7201a8\"],[0.3333333333333333,\"#9c179e\"],[0.4444444444444444,\"#bd3786\"],[0.5555555555555556,\"#d8576b\"],[0.6666666666666666,\"#ed7953\"],[0.7777777777777778,\"#fb9f3a\"],[0.8888888888888888,\"#fdca26\"],[1.0,\"#f0f921\"]],\"type\":\"contour\"}],\"heatmapgl\":[{\"colorbar\":{\"outlinewidth\":0,\"ticks\":\"\"},\"colorscale\":[[0.0,\"#0d0887\"],[0.1111111111111111,\"#46039f\"],[0.2222222222222222,\"#7201a8\"],[0.3333333333333333,\"#9c179e\"],[0.4444444444444444,\"#bd3786\"],[0.5555555555555556,\"#d8576b\"],[0.6666666666666666,\"#ed7953\"],[0.7777777777777778,\"#fb9f3a\"],[0.8888888888888888,\"#fdca26\"],[1.0,\"#f0f921\"]],\"type\":\"heatmapgl\"}],\"heatmap\":[{\"colorbar\":{\"outlinewidth\":0,\"ticks\":\"\"},\"colorscale\":[[0.0,\"#0d0887\"],[0.1111111111111111,\"#46039f\"],[0.2222222222222222,\"#7201a8\"],[0.3333333333333333,\"#9c179e\"],[0.4444444444444444,\"#bd3786\"],[0.5555555555555556,\"#d8576b\"],[0.6666666666666666,\"#ed7953\"],[0.7777777777777778,\"#fb9f3a\"],[0.8888888888888888,\"#fdca26\"],[1.0,\"#f0f921\"]],\"type\":\"heatmap\"}],\"histogram2dcontour\":[{\"colorbar\":{\"outlinewidth\":0,\"ticks\":\"\"},\"colorscale\":[[0.0,\"#0d0887\"],[0.1111111111111111,\"#46039f\"],[0.2222222222222222,\"#7201a8\"],[0.3333333333333333,\"#9c179e\"],[0.4444444444444444,\"#bd3786\"],[0.5555555555555556,\"#d8576b\"],[0.6666666666666666,\"#ed7953\"],[0.7777777777777778,\"#fb9f3a\"],[0.8888888888888888,\"#fdca26\"],[1.0,\"#f0f921\"]],\"type\":\"histogram2dcontour\"}],\"histogram2d\":[{\"colorbar\":{\"outlinewidth\":0,\"ticks\":\"\"},\"colorscale\":[[0.0,\"#0d0887\"],[0.1111111111111111,\"#46039f\"],[0.2222222222222222,\"#7201a8\"],[0.3333333333333333,\"#9c179e\"],[0.4444444444444444,\"#bd3786\"],[0.5555555555555556,\"#d8576b\"],[0.6666666666666666,\"#ed7953\"],[0.7777777777777778,\"#fb9f3a\"],[0.8888888888888888,\"#fdca26\"],[1.0,\"#f0f921\"]],\"type\":\"histogram2d\"}],\"histogram\":[{\"marker\":{\"pattern\":{\"fillmode\":\"overlay\",\"size\":10,\"solidity\":0.2}},\"type\":\"histogram\"}],\"mesh3d\":[{\"colorbar\":{\"outlinewidth\":0,\"ticks\":\"\"},\"type\":\"mesh3d\"}],\"parcoords\":[{\"line\":{\"colorbar\":{\"outlinewidth\":0,\"ticks\":\"\"}},\"type\":\"parcoords\"}],\"pie\":[{\"automargin\":true,\"type\":\"pie\"}],\"scatter3d\":[{\"line\":{\"colorbar\":{\"outlinewidth\":0,\"ticks\":\"\"}},\"marker\":{\"colorbar\":{\"outlinewidth\":0,\"ticks\":\"\"}},\"type\":\"scatter3d\"}],\"scattercarpet\":[{\"marker\":{\"colorbar\":{\"outlinewidth\":0,\"ticks\":\"\"}},\"type\":\"scattercarpet\"}],\"scattergeo\":[{\"marker\":{\"colorbar\":{\"outlinewidth\":0,\"ticks\":\"\"}},\"type\":\"scattergeo\"}],\"scattergl\":[{\"marker\":{\"colorbar\":{\"outlinewidth\":0,\"ticks\":\"\"}},\"type\":\"scattergl\"}],\"scattermapbox\":[{\"marker\":{\"colorbar\":{\"outlinewidth\":0,\"ticks\":\"\"}},\"type\":\"scattermapbox\"}],\"scatterpolargl\":[{\"marker\":{\"colorbar\":{\"outlinewidth\":0,\"ticks\":\"\"}},\"type\":\"scatterpolargl\"}],\"scatterpolar\":[{\"marker\":{\"colorbar\":{\"outlinewidth\":0,\"ticks\":\"\"}},\"type\":\"scatterpolar\"}],\"scatter\":[{\"marker\":{\"colorbar\":{\"outlinewidth\":0,\"ticks\":\"\"}},\"type\":\"scatter\"}],\"scatterternary\":[{\"marker\":{\"colorbar\":{\"outlinewidth\":0,\"ticks\":\"\"}},\"type\":\"scatterternary\"}],\"surface\":[{\"colorbar\":{\"outlinewidth\":0,\"ticks\":\"\"},\"colorscale\":[[0.0,\"#0d0887\"],[0.1111111111111111,\"#46039f\"],[0.2222222222222222,\"#7201a8\"],[0.3333333333333333,\"#9c179e\"],[0.4444444444444444,\"#bd3786\"],[0.5555555555555556,\"#d8576b\"],[0.6666666666666666,\"#ed7953\"],[0.7777777777777778,\"#fb9f3a\"],[0.8888888888888888,\"#fdca26\"],[1.0,\"#f0f921\"]],\"type\":\"surface\"}],\"table\":[{\"cells\":{\"fill\":{\"color\":\"#EBF0F8\"},\"line\":{\"color\":\"white\"}},\"header\":{\"fill\":{\"color\":\"#C8D4E3\"},\"line\":{\"color\":\"white\"}},\"type\":\"table\"}]},\"layout\":{\"annotationdefaults\":{\"arrowcolor\":\"#2a3f5f\",\"arrowhead\":0,\"arrowwidth\":1},\"autotypenumbers\":\"strict\",\"coloraxis\":{\"colorbar\":{\"outlinewidth\":0,\"ticks\":\"\"}},\"colorscale\":{\"diverging\":[[0,\"#8e0152\"],[0.1,\"#c51b7d\"],[0.2,\"#de77ae\"],[0.3,\"#f1b6da\"],[0.4,\"#fde0ef\"],[0.5,\"#f7f7f7\"],[0.6,\"#e6f5d0\"],[0.7,\"#b8e186\"],[0.8,\"#7fbc41\"],[0.9,\"#4d9221\"],[1,\"#276419\"]],\"sequential\":[[0.0,\"#0d0887\"],[0.1111111111111111,\"#46039f\"],[0.2222222222222222,\"#7201a8\"],[0.3333333333333333,\"#9c179e\"],[0.4444444444444444,\"#bd3786\"],[0.5555555555555556,\"#d8576b\"],[0.6666666666666666,\"#ed7953\"],[0.7777777777777778,\"#fb9f3a\"],[0.8888888888888888,\"#fdca26\"],[1.0,\"#f0f921\"]],\"sequentialminus\":[[0.0,\"#0d0887\"],[0.1111111111111111,\"#46039f\"],[0.2222222222222222,\"#7201a8\"],[0.3333333333333333,\"#9c179e\"],[0.4444444444444444,\"#bd3786\"],[0.5555555555555556,\"#d8576b\"],[0.6666666666666666,\"#ed7953\"],[0.7777777777777778,\"#fb9f3a\"],[0.8888888888888888,\"#fdca26\"],[1.0,\"#f0f921\"]]},\"colorway\":[\"#636efa\",\"#EF553B\",\"#00cc96\",\"#ab63fa\",\"#FFA15A\",\"#19d3f3\",\"#FF6692\",\"#B6E880\",\"#FF97FF\",\"#FECB52\"],\"font\":{\"color\":\"#2a3f5f\"},\"geo\":{\"bgcolor\":\"white\",\"lakecolor\":\"white\",\"landcolor\":\"white\",\"showlakes\":true,\"showland\":true,\"subunitcolor\":\"#C8D4E3\"},\"hoverlabel\":{\"align\":\"left\"},\"hovermode\":\"closest\",\"mapbox\":{\"style\":\"light\"},\"paper_bgcolor\":\"white\",\"plot_bgcolor\":\"white\",\"polar\":{\"angularaxis\":{\"gridcolor\":\"#EBF0F8\",\"linecolor\":\"#EBF0F8\",\"ticks\":\"\"},\"bgcolor\":\"white\",\"radialaxis\":{\"gridcolor\":\"#EBF0F8\",\"linecolor\":\"#EBF0F8\",\"ticks\":\"\"}},\"scene\":{\"xaxis\":{\"backgroundcolor\":\"white\",\"gridcolor\":\"#DFE8F3\",\"gridwidth\":2,\"linecolor\":\"#EBF0F8\",\"showbackground\":true,\"ticks\":\"\",\"zerolinecolor\":\"#EBF0F8\"},\"yaxis\":{\"backgroundcolor\":\"white\",\"gridcolor\":\"#DFE8F3\",\"gridwidth\":2,\"linecolor\":\"#EBF0F8\",\"showbackground\":true,\"ticks\":\"\",\"zerolinecolor\":\"#EBF0F8\"},\"zaxis\":{\"backgroundcolor\":\"white\",\"gridcolor\":\"#DFE8F3\",\"gridwidth\":2,\"linecolor\":\"#EBF0F8\",\"showbackground\":true,\"ticks\":\"\",\"zerolinecolor\":\"#EBF0F8\"}},\"shapedefaults\":{\"line\":{\"color\":\"#2a3f5f\"}},\"ternary\":{\"aaxis\":{\"gridcolor\":\"#DFE8F3\",\"linecolor\":\"#A2B1C6\",\"ticks\":\"\"},\"baxis\":{\"gridcolor\":\"#DFE8F3\",\"linecolor\":\"#A2B1C6\",\"ticks\":\"\"},\"bgcolor\":\"white\",\"caxis\":{\"gridcolor\":\"#DFE8F3\",\"linecolor\":\"#A2B1C6\",\"ticks\":\"\"}},\"title\":{\"x\":0.05},\"xaxis\":{\"automargin\":true,\"gridcolor\":\"#EBF0F8\",\"linecolor\":\"#EBF0F8\",\"ticks\":\"\",\"title\":{\"standoff\":15},\"zerolinecolor\":\"#EBF0F8\",\"zerolinewidth\":2},\"yaxis\":{\"automargin\":true,\"gridcolor\":\"#EBF0F8\",\"linecolor\":\"#EBF0F8\",\"ticks\":\"\",\"title\":{\"standoff\":15},\"zerolinecolor\":\"#EBF0F8\",\"zerolinewidth\":2}}},\"title\":{\"font\":{\"size\":22,\"color\":\"Black\"},\"text\":\"<b>Hierarchical Clustering\",\"x\":0.5,\"xanchor\":\"center\",\"yanchor\":\"top\"},\"hoverlabel\":{\"font\":{\"size\":16,\"family\":\"Rockwell\"},\"bgcolor\":\"white\"},\"plot_bgcolor\":\"#ECEFF1\"},                        {\"responsive\": true}                    ).then(function(){\n",
       "                            \n",
       "var gd = document.getElementById('2118605b-a502-4a5a-8331-c9f8008f9bc1');\n",
       "var x = new MutationObserver(function (mutations, observer) {{\n",
       "        var display = window.getComputedStyle(gd).display;\n",
       "        if (!display || display === 'none') {{\n",
       "            console.log([gd, 'removed!']);\n",
       "            Plotly.purge(gd);\n",
       "            observer.disconnect();\n",
       "        }}\n",
       "}});\n",
       "\n",
       "// Listen for the removal of the full notebook cells\n",
       "var notebookContainer = gd.closest('#notebook-container');\n",
       "if (notebookContainer) {{\n",
       "    x.observe(notebookContainer, {childList: true});\n",
       "}}\n",
       "\n",
       "// Listen for the clearing of the current output cell\n",
       "var outputEl = gd.closest('.output');\n",
       "if (outputEl) {{\n",
       "    x.observe(outputEl, {childList: true});\n",
       "}}\n",
       "\n",
       "                        })                };                });            </script>        </div>"
      ]
     },
     "metadata": {},
     "output_type": "display_data"
    }
   ],
   "source": [
    "topic_model.visualize_hierarchy()\n",
    "\n",
    "topic_model.visualize_hierarchy().write_html(\"./outputs/hierarchy.html\")"
   ]
  },
  {
   "cell_type": "code",
   "execution_count": 122,
   "id": "2e90e4f9-6c15-4a31-864e-ea4713c1e704",
   "metadata": {},
   "outputs": [
    {
     "data": {
      "application/vnd.plotly.v1+json": {
       "config": {
        "plotlyServerURL": "https://plot.ly"
       },
       "data": [
        {
         "coloraxis": "coloraxis",
         "hovertemplate": "x: %{x}<br>y: %{y}<br>Similarity Score: %{z}<extra></extra>",
         "name": "0",
         "type": "heatmap",
         "x": [
          "0_engagement_students_civic",
          "2_campus_following_plan",
          "1_voter_registration_students",
          "3_students_voter_student",
          "4_campus_voter_students",
          "5_michigan_students_voter",
          "13_wisconsin_voting_campus",
          "16_suffolk_students_jumbovote",
          "17_indiana_voter_campus",
          "19_students_voter_nu",
          "6_texas_campus_engagement",
          "10_illinois_students_uic",
          "11_iowa_drake_student",
          "7_asu_arizona_voter",
          "14_etsu_mtsu_voting",
          "8_denver_colorado_students",
          "9_cca_usd_students",
          "12_georgia_emory_evi",
          "15_umsl_louis_missouri",
          "18_tcnj_community_jersey",
          "20_morris_umn_minnesota"
         ],
         "xaxis": "x",
         "y": [
          "0_engagement_students_civic",
          "2_campus_following_plan",
          "1_voter_registration_students",
          "3_students_voter_student",
          "4_campus_voter_students",
          "5_michigan_students_voter",
          "13_wisconsin_voting_campus",
          "16_suffolk_students_jumbovote",
          "17_indiana_voter_campus",
          "19_students_voter_nu",
          "6_texas_campus_engagement",
          "10_illinois_students_uic",
          "11_iowa_drake_student",
          "7_asu_arizona_voter",
          "14_etsu_mtsu_voting",
          "8_denver_colorado_students",
          "9_cca_usd_students",
          "12_georgia_emory_evi",
          "15_umsl_louis_missouri",
          "18_tcnj_community_jersey",
          "20_morris_umn_minnesota"
         ],
         "yaxis": "y",
         "z": [
          [
           1.0000000000000002,
           0.9108876467806433,
           0.8936772154385715,
           0.9429742715901382,
           0.9261430879920546,
           0.8807821576976189,
           0.8683603451645466,
           0.8758409158272618,
           0.8931115026528119,
           0.8994615160421664,
           0.9022823249720328,
           0.8756510972394778,
           0.8826630978565083,
           0.8935139817283653,
           0.8428997405237025,
           0.8949031548446376,
           0.9021566383976461,
           0.7679420948546077,
           0.7841301528225181,
           0.7884914986516788,
           0.79526874395598
          ],
          [
           0.9108876467806433,
           0.9999999999999999,
           0.8904769987947865,
           0.8924907552159659,
           0.9068554616703852,
           0.8868698003910035,
           0.8957273275275518,
           0.8850933805735569,
           0.8954698880630388,
           0.8969550413283011,
           0.8679167006801577,
           0.854113003747077,
           0.8743773824675851,
           0.8562538186088297,
           0.8650044327213336,
           0.8540823349392784,
           0.8671630145516637,
           0.7808463937918084,
           0.7989432246594332,
           0.7590038095878731,
           0.8145605453098284
          ],
          [
           0.8936772154385715,
           0.8904769987947865,
           0.9999999999999999,
           0.9490375461265901,
           0.9407470197182013,
           0.9311081433610403,
           0.9109493804197814,
           0.9118124474711939,
           0.9352213582327767,
           0.903781961923932,
           0.8715689974881529,
           0.9118403185875971,
           0.8994021347316974,
           0.8440680609221105,
           0.8843506740169191,
           0.824574298985231,
           0.8533779106352809,
           0.756995074360238,
           0.742781053130516,
           0.7633565493001401,
           0.8043038117513296
          ],
          [
           0.9429742715901382,
           0.8924907552159659,
           0.9490375461265901,
           1.0000000000000002,
           0.9657104245253226,
           0.9382390485038528,
           0.9241160422601498,
           0.9031670186498878,
           0.9280477230666941,
           0.9303158864685831,
           0.9295531874808618,
           0.9222599728834213,
           0.9167309165031875,
           0.8909811915303263,
           0.8886441452162483,
           0.8770699698149681,
           0.8626042867939554,
           0.7877235188949527,
           0.7927076371090798,
           0.7687787123316279,
           0.7903932733162864
          ],
          [
           0.9261430879920546,
           0.9068554616703852,
           0.9407470197182013,
           0.9657104245253226,
           0.9999999999999999,
           0.9402540541120354,
           0.9239784918827934,
           0.9111042505841698,
           0.9344998262443904,
           0.9401774144262134,
           0.9141085527149185,
           0.9235707156799607,
           0.9250758797420838,
           0.8939728164942106,
           0.9116500699037573,
           0.871180429568958,
           0.8750900617963179,
           0.8027382980990212,
           0.8186500256306195,
           0.776979877308174,
           0.8258473672634924
          ],
          [
           0.8807821576976189,
           0.8868698003910035,
           0.9311081433610403,
           0.9382390485038528,
           0.9402540541120354,
           0.9999999999999998,
           0.9326236414420997,
           0.9297219238551102,
           0.9279016172391888,
           0.9163963876569321,
           0.9103907240466667,
           0.8965162637293806,
           0.9211583041380224,
           0.8642993198702243,
           0.901802185121265,
           0.8468366279867644,
           0.8435008555373131,
           0.823122338216304,
           0.8113186123592495,
           0.7429339824518211,
           0.8176652260070635
          ],
          [
           0.8683603451645466,
           0.8957273275275518,
           0.9109493804197814,
           0.9241160422601498,
           0.9239784918827934,
           0.9326236414420997,
           1,
           0.8922503263171918,
           0.9120833186270991,
           0.9049587997518808,
           0.889592796199436,
           0.8814078292333974,
           0.9048733352836257,
           0.8400090912644349,
           0.8784780186200837,
           0.8391912233155623,
           0.8199564518451119,
           0.7598952139660019,
           0.7902699043855114,
           0.7404437040809451,
           0.7973990653939831
          ],
          [
           0.8758409158272618,
           0.8850933805735569,
           0.9118124474711939,
           0.9031670186498878,
           0.9111042505841698,
           0.9297219238551102,
           0.8922503263171918,
           0.9999999999999998,
           0.9046973539493568,
           0.8874201142376666,
           0.8585079329955065,
           0.8552585756855046,
           0.8782459737969422,
           0.8523285714804473,
           0.8753736340396883,
           0.8257790583609126,
           0.8433288195537967,
           0.8026082698360187,
           0.8133256593857262,
           0.7341773002756066,
           0.8169413940385701
          ],
          [
           0.8931115026528119,
           0.8954698880630388,
           0.9352213582327767,
           0.9280477230666941,
           0.9344998262443904,
           0.9279016172391888,
           0.9120833186270991,
           0.9046973539493568,
           1.0000000000000004,
           0.9099875150030753,
           0.892346680719634,
           0.9164173887372653,
           0.925002644984808,
           0.9023942577633068,
           0.9017717766115118,
           0.8565213106384908,
           0.8488812809466985,
           0.8098291278586386,
           0.8107197367250949,
           0.77199771047758,
           0.814145648096867
          ],
          [
           0.8994615160421664,
           0.8969550413283011,
           0.903781961923932,
           0.9303158864685831,
           0.9401774144262134,
           0.9163963876569321,
           0.9049587997518808,
           0.8874201142376666,
           0.9099875150030753,
           1,
           0.8846652797135569,
           0.8802965672471541,
           0.8933664801133611,
           0.8911325789875071,
           0.8789514649176942,
           0.8524881205078578,
           0.8666133552109729,
           0.7584300881872182,
           0.8040719349826364,
           0.7588389113075532,
           0.7986301090570854
          ],
          [
           0.9022823249720328,
           0.8679167006801577,
           0.8715689974881529,
           0.9295531874808618,
           0.9141085527149185,
           0.9103907240466667,
           0.889592796199436,
           0.8585079329955065,
           0.892346680719634,
           0.8846652797135569,
           0.9999999999999992,
           0.8923572705651,
           0.9187451441992011,
           0.8729145262084517,
           0.874119379152899,
           0.8960829102310518,
           0.851246464509198,
           0.8043641764049145,
           0.831278073297313,
           0.7681655170463478,
           0.8095571416980077
          ],
          [
           0.8756510972394778,
           0.854113003747077,
           0.9118403185875971,
           0.9222599728834213,
           0.9235707156799607,
           0.8965162637293806,
           0.8814078292333974,
           0.8552585756855046,
           0.9164173887372653,
           0.8802965672471541,
           0.8923572705651,
           1,
           0.9142865675100861,
           0.8700412969785275,
           0.8383376832114506,
           0.8543797119085798,
           0.8170953113893843,
           0.7858893680990282,
           0.7974926543926583,
           0.7545381240206661,
           0.8013390963678897
          ],
          [
           0.8826630978565083,
           0.8743773824675851,
           0.8994021347316974,
           0.9167309165031875,
           0.9250758797420838,
           0.9211583041380224,
           0.9048733352836257,
           0.8782459737969422,
           0.925002644984808,
           0.8933664801133611,
           0.9187451441992011,
           0.9142865675100861,
           0.9999999999999999,
           0.8849174095238355,
           0.8827260369580487,
           0.8756522106819309,
           0.8459856352576336,
           0.8242333901994348,
           0.8174166655017269,
           0.7231771694276491,
           0.8138286726859334
          ],
          [
           0.8935139817283653,
           0.8562538186088297,
           0.8440680609221105,
           0.8909811915303263,
           0.8939728164942106,
           0.8642993198702243,
           0.8400090912644349,
           0.8523285714804473,
           0.9023942577633068,
           0.8911325789875071,
           0.8729145262084517,
           0.8700412969785275,
           0.8849174095238355,
           0.9999999999999998,
           0.8639407928476419,
           0.8542893027536602,
           0.8504003815930457,
           0.7949007632973313,
           0.8325367344566679,
           0.7795378958350155,
           0.8278371128813995
          ],
          [
           0.8428997405237025,
           0.8650044327213336,
           0.8843506740169191,
           0.8886441452162483,
           0.9116500699037573,
           0.901802185121265,
           0.8784780186200837,
           0.8753736340396883,
           0.9017717766115118,
           0.8789514649176942,
           0.874119379152899,
           0.8383376832114506,
           0.8827260369580487,
           0.8639407928476419,
           1,
           0.8057186222547288,
           0.8178143513913579,
           0.787255828993894,
           0.8006886360027228,
           0.7569248228345261,
           0.8191869670435308
          ],
          [
           0.8949031548446376,
           0.8540823349392784,
           0.824574298985231,
           0.8770699698149681,
           0.871180429568958,
           0.8468366279867644,
           0.8391912233155623,
           0.8257790583609126,
           0.8565213106384908,
           0.8524881205078578,
           0.8960829102310518,
           0.8543797119085798,
           0.8756522106819309,
           0.8542893027536602,
           0.8057186222547288,
           1,
           0.837500426141747,
           0.7782527300282324,
           0.8139153365995271,
           0.722355232843392,
           0.7864366982876317
          ],
          [
           0.9021566383976461,
           0.8671630145516637,
           0.8533779106352809,
           0.8626042867939554,
           0.8750900617963179,
           0.8435008555373131,
           0.8199564518451119,
           0.8433288195537967,
           0.8488812809466985,
           0.8666133552109729,
           0.851246464509198,
           0.8170953113893843,
           0.8459856352576336,
           0.8504003815930457,
           0.8178143513913579,
           0.837500426141747,
           0.9999999999999999,
           0.7635414043232326,
           0.784123264994827,
           0.7777829601575706,
           0.8053590360032653
          ],
          [
           0.7679420948546077,
           0.7808463937918084,
           0.756995074360238,
           0.7877235188949527,
           0.8027382980990212,
           0.823122338216304,
           0.7598952139660019,
           0.8026082698360187,
           0.8098291278586386,
           0.7584300881872182,
           0.8043641764049145,
           0.7858893680990282,
           0.8242333901994348,
           0.7949007632973313,
           0.787255828993894,
           0.7782527300282324,
           0.7635414043232326,
           1,
           0.801640889141899,
           0.642272086276866,
           0.7471537702344725
          ],
          [
           0.7841301528225181,
           0.7989432246594332,
           0.742781053130516,
           0.7927076371090798,
           0.8186500256306195,
           0.8113186123592495,
           0.7902699043855114,
           0.8133256593857262,
           0.8107197367250949,
           0.8040719349826364,
           0.831278073297313,
           0.7974926543926583,
           0.8174166655017269,
           0.8325367344566679,
           0.8006886360027228,
           0.8139153365995271,
           0.784123264994827,
           0.801640889141899,
           0.9999999999999999,
           0.6522507876097431,
           0.8007272503793302
          ],
          [
           0.7884914986516788,
           0.7590038095878731,
           0.7633565493001401,
           0.7687787123316279,
           0.776979877308174,
           0.7429339824518211,
           0.7404437040809451,
           0.7341773002756066,
           0.77199771047758,
           0.7588389113075532,
           0.7681655170463478,
           0.7545381240206661,
           0.7231771694276491,
           0.7795378958350155,
           0.7569248228345261,
           0.722355232843392,
           0.7777829601575706,
           0.642272086276866,
           0.6522507876097431,
           1.0000000000000009,
           0.8132067989170773
          ],
          [
           0.79526874395598,
           0.8145605453098284,
           0.8043038117513296,
           0.7903932733162864,
           0.8258473672634924,
           0.8176652260070635,
           0.7973990653939831,
           0.8169413940385701,
           0.814145648096867,
           0.7986301090570854,
           0.8095571416980077,
           0.8013390963678897,
           0.8138286726859334,
           0.8278371128813995,
           0.8191869670435308,
           0.7864366982876317,
           0.8053590360032653,
           0.7471537702344725,
           0.8007272503793302,
           0.8132067989170773,
           1.0000000000000002
          ]
         ]
        }
       ],
       "layout": {
        "coloraxis": {
         "colorbar": {
          "title": {
           "text": "Similarity Score"
          }
         },
         "colorscale": [
          [
           0,
           "rgb(247,252,240)"
          ],
          [
           0.125,
           "rgb(224,243,219)"
          ],
          [
           0.25,
           "rgb(204,235,197)"
          ],
          [
           0.375,
           "rgb(168,221,181)"
          ],
          [
           0.5,
           "rgb(123,204,196)"
          ],
          [
           0.625,
           "rgb(78,179,211)"
          ],
          [
           0.75,
           "rgb(43,140,190)"
          ],
          [
           0.875,
           "rgb(8,104,172)"
          ],
          [
           1,
           "rgb(8,64,129)"
          ]
         ]
        },
        "height": 800,
        "hoverlabel": {
         "bgcolor": "white",
         "font": {
          "family": "Rockwell",
          "size": 16
         }
        },
        "legend": {
         "title": {
          "text": "Trend"
         }
        },
        "margin": {
         "t": 60
        },
        "showlegend": true,
        "template": {
         "data": {
          "bar": [
           {
            "error_x": {
             "color": "#2a3f5f"
            },
            "error_y": {
             "color": "#2a3f5f"
            },
            "marker": {
             "line": {
              "color": "#E5ECF6",
              "width": 0.5
             },
             "pattern": {
              "fillmode": "overlay",
              "size": 10,
              "solidity": 0.2
             }
            },
            "type": "bar"
           }
          ],
          "barpolar": [
           {
            "marker": {
             "line": {
              "color": "#E5ECF6",
              "width": 0.5
             },
             "pattern": {
              "fillmode": "overlay",
              "size": 10,
              "solidity": 0.2
             }
            },
            "type": "barpolar"
           }
          ],
          "carpet": [
           {
            "aaxis": {
             "endlinecolor": "#2a3f5f",
             "gridcolor": "white",
             "linecolor": "white",
             "minorgridcolor": "white",
             "startlinecolor": "#2a3f5f"
            },
            "baxis": {
             "endlinecolor": "#2a3f5f",
             "gridcolor": "white",
             "linecolor": "white",
             "minorgridcolor": "white",
             "startlinecolor": "#2a3f5f"
            },
            "type": "carpet"
           }
          ],
          "choropleth": [
           {
            "colorbar": {
             "outlinewidth": 0,
             "ticks": ""
            },
            "type": "choropleth"
           }
          ],
          "contour": [
           {
            "colorbar": {
             "outlinewidth": 0,
             "ticks": ""
            },
            "colorscale": [
             [
              0,
              "#0d0887"
             ],
             [
              0.1111111111111111,
              "#46039f"
             ],
             [
              0.2222222222222222,
              "#7201a8"
             ],
             [
              0.3333333333333333,
              "#9c179e"
             ],
             [
              0.4444444444444444,
              "#bd3786"
             ],
             [
              0.5555555555555556,
              "#d8576b"
             ],
             [
              0.6666666666666666,
              "#ed7953"
             ],
             [
              0.7777777777777778,
              "#fb9f3a"
             ],
             [
              0.8888888888888888,
              "#fdca26"
             ],
             [
              1,
              "#f0f921"
             ]
            ],
            "type": "contour"
           }
          ],
          "contourcarpet": [
           {
            "colorbar": {
             "outlinewidth": 0,
             "ticks": ""
            },
            "type": "contourcarpet"
           }
          ],
          "heatmap": [
           {
            "colorbar": {
             "outlinewidth": 0,
             "ticks": ""
            },
            "colorscale": [
             [
              0,
              "#0d0887"
             ],
             [
              0.1111111111111111,
              "#46039f"
             ],
             [
              0.2222222222222222,
              "#7201a8"
             ],
             [
              0.3333333333333333,
              "#9c179e"
             ],
             [
              0.4444444444444444,
              "#bd3786"
             ],
             [
              0.5555555555555556,
              "#d8576b"
             ],
             [
              0.6666666666666666,
              "#ed7953"
             ],
             [
              0.7777777777777778,
              "#fb9f3a"
             ],
             [
              0.8888888888888888,
              "#fdca26"
             ],
             [
              1,
              "#f0f921"
             ]
            ],
            "type": "heatmap"
           }
          ],
          "heatmapgl": [
           {
            "colorbar": {
             "outlinewidth": 0,
             "ticks": ""
            },
            "colorscale": [
             [
              0,
              "#0d0887"
             ],
             [
              0.1111111111111111,
              "#46039f"
             ],
             [
              0.2222222222222222,
              "#7201a8"
             ],
             [
              0.3333333333333333,
              "#9c179e"
             ],
             [
              0.4444444444444444,
              "#bd3786"
             ],
             [
              0.5555555555555556,
              "#d8576b"
             ],
             [
              0.6666666666666666,
              "#ed7953"
             ],
             [
              0.7777777777777778,
              "#fb9f3a"
             ],
             [
              0.8888888888888888,
              "#fdca26"
             ],
             [
              1,
              "#f0f921"
             ]
            ],
            "type": "heatmapgl"
           }
          ],
          "histogram": [
           {
            "marker": {
             "pattern": {
              "fillmode": "overlay",
              "size": 10,
              "solidity": 0.2
             }
            },
            "type": "histogram"
           }
          ],
          "histogram2d": [
           {
            "colorbar": {
             "outlinewidth": 0,
             "ticks": ""
            },
            "colorscale": [
             [
              0,
              "#0d0887"
             ],
             [
              0.1111111111111111,
              "#46039f"
             ],
             [
              0.2222222222222222,
              "#7201a8"
             ],
             [
              0.3333333333333333,
              "#9c179e"
             ],
             [
              0.4444444444444444,
              "#bd3786"
             ],
             [
              0.5555555555555556,
              "#d8576b"
             ],
             [
              0.6666666666666666,
              "#ed7953"
             ],
             [
              0.7777777777777778,
              "#fb9f3a"
             ],
             [
              0.8888888888888888,
              "#fdca26"
             ],
             [
              1,
              "#f0f921"
             ]
            ],
            "type": "histogram2d"
           }
          ],
          "histogram2dcontour": [
           {
            "colorbar": {
             "outlinewidth": 0,
             "ticks": ""
            },
            "colorscale": [
             [
              0,
              "#0d0887"
             ],
             [
              0.1111111111111111,
              "#46039f"
             ],
             [
              0.2222222222222222,
              "#7201a8"
             ],
             [
              0.3333333333333333,
              "#9c179e"
             ],
             [
              0.4444444444444444,
              "#bd3786"
             ],
             [
              0.5555555555555556,
              "#d8576b"
             ],
             [
              0.6666666666666666,
              "#ed7953"
             ],
             [
              0.7777777777777778,
              "#fb9f3a"
             ],
             [
              0.8888888888888888,
              "#fdca26"
             ],
             [
              1,
              "#f0f921"
             ]
            ],
            "type": "histogram2dcontour"
           }
          ],
          "mesh3d": [
           {
            "colorbar": {
             "outlinewidth": 0,
             "ticks": ""
            },
            "type": "mesh3d"
           }
          ],
          "parcoords": [
           {
            "line": {
             "colorbar": {
              "outlinewidth": 0,
              "ticks": ""
             }
            },
            "type": "parcoords"
           }
          ],
          "pie": [
           {
            "automargin": true,
            "type": "pie"
           }
          ],
          "scatter": [
           {
            "marker": {
             "colorbar": {
              "outlinewidth": 0,
              "ticks": ""
             }
            },
            "type": "scatter"
           }
          ],
          "scatter3d": [
           {
            "line": {
             "colorbar": {
              "outlinewidth": 0,
              "ticks": ""
             }
            },
            "marker": {
             "colorbar": {
              "outlinewidth": 0,
              "ticks": ""
             }
            },
            "type": "scatter3d"
           }
          ],
          "scattercarpet": [
           {
            "marker": {
             "colorbar": {
              "outlinewidth": 0,
              "ticks": ""
             }
            },
            "type": "scattercarpet"
           }
          ],
          "scattergeo": [
           {
            "marker": {
             "colorbar": {
              "outlinewidth": 0,
              "ticks": ""
             }
            },
            "type": "scattergeo"
           }
          ],
          "scattergl": [
           {
            "marker": {
             "colorbar": {
              "outlinewidth": 0,
              "ticks": ""
             }
            },
            "type": "scattergl"
           }
          ],
          "scattermapbox": [
           {
            "marker": {
             "colorbar": {
              "outlinewidth": 0,
              "ticks": ""
             }
            },
            "type": "scattermapbox"
           }
          ],
          "scatterpolar": [
           {
            "marker": {
             "colorbar": {
              "outlinewidth": 0,
              "ticks": ""
             }
            },
            "type": "scatterpolar"
           }
          ],
          "scatterpolargl": [
           {
            "marker": {
             "colorbar": {
              "outlinewidth": 0,
              "ticks": ""
             }
            },
            "type": "scatterpolargl"
           }
          ],
          "scatterternary": [
           {
            "marker": {
             "colorbar": {
              "outlinewidth": 0,
              "ticks": ""
             }
            },
            "type": "scatterternary"
           }
          ],
          "surface": [
           {
            "colorbar": {
             "outlinewidth": 0,
             "ticks": ""
            },
            "colorscale": [
             [
              0,
              "#0d0887"
             ],
             [
              0.1111111111111111,
              "#46039f"
             ],
             [
              0.2222222222222222,
              "#7201a8"
             ],
             [
              0.3333333333333333,
              "#9c179e"
             ],
             [
              0.4444444444444444,
              "#bd3786"
             ],
             [
              0.5555555555555556,
              "#d8576b"
             ],
             [
              0.6666666666666666,
              "#ed7953"
             ],
             [
              0.7777777777777778,
              "#fb9f3a"
             ],
             [
              0.8888888888888888,
              "#fdca26"
             ],
             [
              1,
              "#f0f921"
             ]
            ],
            "type": "surface"
           }
          ],
          "table": [
           {
            "cells": {
             "fill": {
              "color": "#EBF0F8"
             },
             "line": {
              "color": "white"
             }
            },
            "header": {
             "fill": {
              "color": "#C8D4E3"
             },
             "line": {
              "color": "white"
             }
            },
            "type": "table"
           }
          ]
         },
         "layout": {
          "annotationdefaults": {
           "arrowcolor": "#2a3f5f",
           "arrowhead": 0,
           "arrowwidth": 1
          },
          "autotypenumbers": "strict",
          "coloraxis": {
           "colorbar": {
            "outlinewidth": 0,
            "ticks": ""
           }
          },
          "colorscale": {
           "diverging": [
            [
             0,
             "#8e0152"
            ],
            [
             0.1,
             "#c51b7d"
            ],
            [
             0.2,
             "#de77ae"
            ],
            [
             0.3,
             "#f1b6da"
            ],
            [
             0.4,
             "#fde0ef"
            ],
            [
             0.5,
             "#f7f7f7"
            ],
            [
             0.6,
             "#e6f5d0"
            ],
            [
             0.7,
             "#b8e186"
            ],
            [
             0.8,
             "#7fbc41"
            ],
            [
             0.9,
             "#4d9221"
            ],
            [
             1,
             "#276419"
            ]
           ],
           "sequential": [
            [
             0,
             "#0d0887"
            ],
            [
             0.1111111111111111,
             "#46039f"
            ],
            [
             0.2222222222222222,
             "#7201a8"
            ],
            [
             0.3333333333333333,
             "#9c179e"
            ],
            [
             0.4444444444444444,
             "#bd3786"
            ],
            [
             0.5555555555555556,
             "#d8576b"
            ],
            [
             0.6666666666666666,
             "#ed7953"
            ],
            [
             0.7777777777777778,
             "#fb9f3a"
            ],
            [
             0.8888888888888888,
             "#fdca26"
            ],
            [
             1,
             "#f0f921"
            ]
           ],
           "sequentialminus": [
            [
             0,
             "#0d0887"
            ],
            [
             0.1111111111111111,
             "#46039f"
            ],
            [
             0.2222222222222222,
             "#7201a8"
            ],
            [
             0.3333333333333333,
             "#9c179e"
            ],
            [
             0.4444444444444444,
             "#bd3786"
            ],
            [
             0.5555555555555556,
             "#d8576b"
            ],
            [
             0.6666666666666666,
             "#ed7953"
            ],
            [
             0.7777777777777778,
             "#fb9f3a"
            ],
            [
             0.8888888888888888,
             "#fdca26"
            ],
            [
             1,
             "#f0f921"
            ]
           ]
          },
          "colorway": [
           "#636efa",
           "#EF553B",
           "#00cc96",
           "#ab63fa",
           "#FFA15A",
           "#19d3f3",
           "#FF6692",
           "#B6E880",
           "#FF97FF",
           "#FECB52"
          ],
          "font": {
           "color": "#2a3f5f"
          },
          "geo": {
           "bgcolor": "white",
           "lakecolor": "white",
           "landcolor": "#E5ECF6",
           "showlakes": true,
           "showland": true,
           "subunitcolor": "white"
          },
          "hoverlabel": {
           "align": "left"
          },
          "hovermode": "closest",
          "mapbox": {
           "style": "light"
          },
          "paper_bgcolor": "white",
          "plot_bgcolor": "#E5ECF6",
          "polar": {
           "angularaxis": {
            "gridcolor": "white",
            "linecolor": "white",
            "ticks": ""
           },
           "bgcolor": "#E5ECF6",
           "radialaxis": {
            "gridcolor": "white",
            "linecolor": "white",
            "ticks": ""
           }
          },
          "scene": {
           "xaxis": {
            "backgroundcolor": "#E5ECF6",
            "gridcolor": "white",
            "gridwidth": 2,
            "linecolor": "white",
            "showbackground": true,
            "ticks": "",
            "zerolinecolor": "white"
           },
           "yaxis": {
            "backgroundcolor": "#E5ECF6",
            "gridcolor": "white",
            "gridwidth": 2,
            "linecolor": "white",
            "showbackground": true,
            "ticks": "",
            "zerolinecolor": "white"
           },
           "zaxis": {
            "backgroundcolor": "#E5ECF6",
            "gridcolor": "white",
            "gridwidth": 2,
            "linecolor": "white",
            "showbackground": true,
            "ticks": "",
            "zerolinecolor": "white"
           }
          },
          "shapedefaults": {
           "line": {
            "color": "#2a3f5f"
           }
          },
          "ternary": {
           "aaxis": {
            "gridcolor": "white",
            "linecolor": "white",
            "ticks": ""
           },
           "baxis": {
            "gridcolor": "white",
            "linecolor": "white",
            "ticks": ""
           },
           "bgcolor": "#E5ECF6",
           "caxis": {
            "gridcolor": "white",
            "linecolor": "white",
            "ticks": ""
           }
          },
          "title": {
           "x": 0.05
          },
          "xaxis": {
           "automargin": true,
           "gridcolor": "white",
           "linecolor": "white",
           "ticks": "",
           "title": {
            "standoff": 15
           },
           "zerolinecolor": "white",
           "zerolinewidth": 2
          },
          "yaxis": {
           "automargin": true,
           "gridcolor": "white",
           "linecolor": "white",
           "ticks": "",
           "title": {
            "standoff": 15
           },
           "zerolinecolor": "white",
           "zerolinewidth": 2
          }
         }
        },
        "title": {
         "font": {
          "color": "Black",
          "size": 22
         },
         "text": "<b>Similarity Matrix",
         "x": 0.55,
         "xanchor": "center",
         "y": 0.95,
         "yanchor": "top"
        },
        "width": 800,
        "xaxis": {
         "anchor": "y",
         "autorange": true,
         "constrain": "domain",
         "domain": [
          0,
          1
         ],
         "range": [
          -0.5,
          20.5
         ],
         "scaleanchor": "y",
         "type": "category"
        },
        "yaxis": {
         "anchor": "x",
         "autorange": true,
         "constrain": "domain",
         "domain": [
          0.1446078431372549,
          0.8553921568627452
         ],
         "range": [
          20.5,
          -0.5
         ],
         "type": "category"
        }
       }
      },
      "image/png": "[encoded data removed]",
      "text/html": [
       "<div>                            <div id=\"3d38603e-b4d3-4e05-8ed8-2a1e9e6c8570\" class=\"plotly-graph-div\" style=\"height:800px; width:800px;\"></div>            <script type=\"text/javascript\">                require([\"plotly\"], function(Plotly) {                    window.PLOTLYENV=window.PLOTLYENV || {};                                    if (document.getElementById(\"3d38603e-b4d3-4e05-8ed8-2a1e9e6c8570\")) {                    Plotly.newPlot(                        \"3d38603e-b4d3-4e05-8ed8-2a1e9e6c8570\",                        [{\"coloraxis\":\"coloraxis\",\"name\":\"0\",\"x\":[\"0_engagement_students_civic\",\"2_campus_following_plan\",\"1_voter_registration_students\",\"3_students_voter_student\",\"4_campus_voter_students\",\"5_michigan_students_voter\",\"13_wisconsin_voting_campus\",\"16_suffolk_students_jumbovote\",\"17_indiana_voter_campus\",\"19_students_voter_nu\",\"6_texas_campus_engagement\",\"10_illinois_students_uic\",\"11_iowa_drake_student\",\"7_asu_arizona_voter\",\"14_etsu_mtsu_voting\",\"8_denver_colorado_students\",\"9_cca_usd_students\",\"12_georgia_emory_evi\",\"15_umsl_louis_missouri\",\"18_tcnj_community_jersey\",\"20_morris_umn_minnesota\"],\"y\":[\"0_engagement_students_civic\",\"2_campus_following_plan\",\"1_voter_registration_students\",\"3_students_voter_student\",\"4_campus_voter_students\",\"5_michigan_students_voter\",\"13_wisconsin_voting_campus\",\"16_suffolk_students_jumbovote\",\"17_indiana_voter_campus\",\"19_students_voter_nu\",\"6_texas_campus_engagement\",\"10_illinois_students_uic\",\"11_iowa_drake_student\",\"7_asu_arizona_voter\",\"14_etsu_mtsu_voting\",\"8_denver_colorado_students\",\"9_cca_usd_students\",\"12_georgia_emory_evi\",\"15_umsl_louis_missouri\",\"18_tcnj_community_jersey\",\"20_morris_umn_minnesota\"],\"z\":[[1.0000000000000002,0.9108876467806433,0.8936772154385715,0.9429742715901382,0.9261430879920546,0.8807821576976189,0.8683603451645466,0.8758409158272618,0.8931115026528119,0.8994615160421664,0.9022823249720328,0.8756510972394778,0.8826630978565083,0.8935139817283653,0.8428997405237025,0.8949031548446376,0.9021566383976461,0.7679420948546077,0.7841301528225181,0.7884914986516788,0.79526874395598],[0.9108876467806433,0.9999999999999999,0.8904769987947865,0.8924907552159659,0.9068554616703852,0.8868698003910035,0.8957273275275518,0.8850933805735569,0.8954698880630388,0.8969550413283011,0.8679167006801577,0.854113003747077,0.8743773824675851,0.8562538186088297,0.8650044327213336,0.8540823349392784,0.8671630145516637,0.7808463937918084,0.7989432246594332,0.7590038095878731,0.8145605453098284],[0.8936772154385715,0.8904769987947865,0.9999999999999999,0.9490375461265901,0.9407470197182013,0.9311081433610403,0.9109493804197814,0.9118124474711939,0.9352213582327767,0.903781961923932,0.8715689974881529,0.9118403185875971,0.8994021347316974,0.8440680609221105,0.8843506740169191,0.824574298985231,0.8533779106352809,0.756995074360238,0.742781053130516,0.7633565493001401,0.8043038117513296],[0.9429742715901382,0.8924907552159659,0.9490375461265901,1.0000000000000002,0.9657104245253226,0.9382390485038528,0.9241160422601498,0.9031670186498878,0.9280477230666941,0.9303158864685831,0.9295531874808618,0.9222599728834213,0.9167309165031875,0.8909811915303263,0.8886441452162483,0.8770699698149681,0.8626042867939554,0.7877235188949527,0.7927076371090798,0.7687787123316279,0.7903932733162864],[0.9261430879920546,0.9068554616703852,0.9407470197182013,0.9657104245253226,0.9999999999999999,0.9402540541120354,0.9239784918827934,0.9111042505841698,0.9344998262443904,0.9401774144262134,0.9141085527149185,0.9235707156799607,0.9250758797420838,0.8939728164942106,0.9116500699037573,0.871180429568958,0.8750900617963179,0.8027382980990212,0.8186500256306195,0.776979877308174,0.8258473672634924],[0.8807821576976189,0.8868698003910035,0.9311081433610403,0.9382390485038528,0.9402540541120354,0.9999999999999998,0.9326236414420997,0.9297219238551102,0.9279016172391888,0.9163963876569321,0.9103907240466667,0.8965162637293806,0.9211583041380224,0.8642993198702243,0.901802185121265,0.8468366279867644,0.8435008555373131,0.823122338216304,0.8113186123592495,0.7429339824518211,0.8176652260070635],[0.8683603451645466,0.8957273275275518,0.9109493804197814,0.9241160422601498,0.9239784918827934,0.9326236414420997,1.0,0.8922503263171918,0.9120833186270991,0.9049587997518808,0.889592796199436,0.8814078292333974,0.9048733352836257,0.8400090912644349,0.8784780186200837,0.8391912233155623,0.8199564518451119,0.7598952139660019,0.7902699043855114,0.7404437040809451,0.7973990653939831],[0.8758409158272618,0.8850933805735569,0.9118124474711939,0.9031670186498878,0.9111042505841698,0.9297219238551102,0.8922503263171918,0.9999999999999998,0.9046973539493568,0.8874201142376666,0.8585079329955065,0.8552585756855046,0.8782459737969422,0.8523285714804473,0.8753736340396883,0.8257790583609126,0.8433288195537967,0.8026082698360187,0.8133256593857262,0.7341773002756066,0.8169413940385701],[0.8931115026528119,0.8954698880630388,0.9352213582327767,0.9280477230666941,0.9344998262443904,0.9279016172391888,0.9120833186270991,0.9046973539493568,1.0000000000000004,0.9099875150030753,0.892346680719634,0.9164173887372653,0.925002644984808,0.9023942577633068,0.9017717766115118,0.8565213106384908,0.8488812809466985,0.8098291278586386,0.8107197367250949,0.77199771047758,0.814145648096867],[0.8994615160421664,0.8969550413283011,0.903781961923932,0.9303158864685831,0.9401774144262134,0.9163963876569321,0.9049587997518808,0.8874201142376666,0.9099875150030753,1.0,0.8846652797135569,0.8802965672471541,0.8933664801133611,0.8911325789875071,0.8789514649176942,0.8524881205078578,0.8666133552109729,0.7584300881872182,0.8040719349826364,0.7588389113075532,0.7986301090570854],[0.9022823249720328,0.8679167006801577,0.8715689974881529,0.9295531874808618,0.9141085527149185,0.9103907240466667,0.889592796199436,0.8585079329955065,0.892346680719634,0.8846652797135569,0.9999999999999992,0.8923572705651,0.9187451441992011,0.8729145262084517,0.874119379152899,0.8960829102310518,0.851246464509198,0.8043641764049145,0.831278073297313,0.7681655170463478,0.8095571416980077],[0.8756510972394778,0.854113003747077,0.9118403185875971,0.9222599728834213,0.9235707156799607,0.8965162637293806,0.8814078292333974,0.8552585756855046,0.9164173887372653,0.8802965672471541,0.8923572705651,1.0,0.9142865675100861,0.8700412969785275,0.8383376832114506,0.8543797119085798,0.8170953113893843,0.7858893680990282,0.7974926543926583,0.7545381240206661,0.8013390963678897],[0.8826630978565083,0.8743773824675851,0.8994021347316974,0.9167309165031875,0.9250758797420838,0.9211583041380224,0.9048733352836257,0.8782459737969422,0.925002644984808,0.8933664801133611,0.9187451441992011,0.9142865675100861,0.9999999999999999,0.8849174095238355,0.8827260369580487,0.8756522106819309,0.8459856352576336,0.8242333901994348,0.8174166655017269,0.7231771694276491,0.8138286726859334],[0.8935139817283653,0.8562538186088297,0.8440680609221105,0.8909811915303263,0.8939728164942106,0.8642993198702243,0.8400090912644349,0.8523285714804473,0.9023942577633068,0.8911325789875071,0.8729145262084517,0.8700412969785275,0.8849174095238355,0.9999999999999998,0.8639407928476419,0.8542893027536602,0.8504003815930457,0.7949007632973313,0.8325367344566679,0.7795378958350155,0.8278371128813995],[0.8428997405237025,0.8650044327213336,0.8843506740169191,0.8886441452162483,0.9116500699037573,0.901802185121265,0.8784780186200837,0.8753736340396883,0.9017717766115118,0.8789514649176942,0.874119379152899,0.8383376832114506,0.8827260369580487,0.8639407928476419,1.0,0.8057186222547288,0.8178143513913579,0.787255828993894,0.8006886360027228,0.7569248228345261,0.8191869670435308],[0.8949031548446376,0.8540823349392784,0.824574298985231,0.8770699698149681,0.871180429568958,0.8468366279867644,0.8391912233155623,0.8257790583609126,0.8565213106384908,0.8524881205078578,0.8960829102310518,0.8543797119085798,0.8756522106819309,0.8542893027536602,0.8057186222547288,1.0,0.837500426141747,0.7782527300282324,0.8139153365995271,0.722355232843392,0.7864366982876317],[0.9021566383976461,0.8671630145516637,0.8533779106352809,0.8626042867939554,0.8750900617963179,0.8435008555373131,0.8199564518451119,0.8433288195537967,0.8488812809466985,0.8666133552109729,0.851246464509198,0.8170953113893843,0.8459856352576336,0.8504003815930457,0.8178143513913579,0.837500426141747,0.9999999999999999,0.7635414043232326,0.784123264994827,0.7777829601575706,0.8053590360032653],[0.7679420948546077,0.7808463937918084,0.756995074360238,0.7877235188949527,0.8027382980990212,0.823122338216304,0.7598952139660019,0.8026082698360187,0.8098291278586386,0.7584300881872182,0.8043641764049145,0.7858893680990282,0.8242333901994348,0.7949007632973313,0.787255828993894,0.7782527300282324,0.7635414043232326,1.0,0.801640889141899,0.642272086276866,0.7471537702344725],[0.7841301528225181,0.7989432246594332,0.742781053130516,0.7927076371090798,0.8186500256306195,0.8113186123592495,0.7902699043855114,0.8133256593857262,0.8107197367250949,0.8040719349826364,0.831278073297313,0.7974926543926583,0.8174166655017269,0.8325367344566679,0.8006886360027228,0.8139153365995271,0.784123264994827,0.801640889141899,0.9999999999999999,0.6522507876097431,0.8007272503793302],[0.7884914986516788,0.7590038095878731,0.7633565493001401,0.7687787123316279,0.776979877308174,0.7429339824518211,0.7404437040809451,0.7341773002756066,0.77199771047758,0.7588389113075532,0.7681655170463478,0.7545381240206661,0.7231771694276491,0.7795378958350155,0.7569248228345261,0.722355232843392,0.7777829601575706,0.642272086276866,0.6522507876097431,1.0000000000000009,0.8132067989170773],[0.79526874395598,0.8145605453098284,0.8043038117513296,0.7903932733162864,0.8258473672634924,0.8176652260070635,0.7973990653939831,0.8169413940385701,0.814145648096867,0.7986301090570854,0.8095571416980077,0.8013390963678897,0.8138286726859334,0.8278371128813995,0.8191869670435308,0.7864366982876317,0.8053590360032653,0.7471537702344725,0.8007272503793302,0.8132067989170773,1.0000000000000002]],\"type\":\"heatmap\",\"xaxis\":\"x\",\"yaxis\":\"y\",\"hovertemplate\":\"x: %{x}<br>y: %{y}<br>Similarity Score: %{z}<extra></extra>\"}],                        {\"template\":{\"data\":{\"bar\":[{\"error_x\":{\"color\":\"#2a3f5f\"},\"error_y\":{\"color\":\"#2a3f5f\"},\"marker\":{\"line\":{\"color\":\"#E5ECF6\",\"width\":0.5},\"pattern\":{\"fillmode\":\"overlay\",\"size\":10,\"solidity\":0.2}},\"type\":\"bar\"}],\"barpolar\":[{\"marker\":{\"line\":{\"color\":\"#E5ECF6\",\"width\":0.5},\"pattern\":{\"fillmode\":\"overlay\",\"size\":10,\"solidity\":0.2}},\"type\":\"barpolar\"}],\"carpet\":[{\"aaxis\":{\"endlinecolor\":\"#2a3f5f\",\"gridcolor\":\"white\",\"linecolor\":\"white\",\"minorgridcolor\":\"white\",\"startlinecolor\":\"#2a3f5f\"},\"baxis\":{\"endlinecolor\":\"#2a3f5f\",\"gridcolor\":\"white\",\"linecolor\":\"white\",\"minorgridcolor\":\"white\",\"startlinecolor\":\"#2a3f5f\"},\"type\":\"carpet\"}],\"choropleth\":[{\"colorbar\":{\"outlinewidth\":0,\"ticks\":\"\"},\"type\":\"choropleth\"}],\"contour\":[{\"colorbar\":{\"outlinewidth\":0,\"ticks\":\"\"},\"colorscale\":[[0.0,\"#0d0887\"],[0.1111111111111111,\"#46039f\"],[0.2222222222222222,\"#7201a8\"],[0.3333333333333333,\"#9c179e\"],[0.4444444444444444,\"#bd3786\"],[0.5555555555555556,\"#d8576b\"],[0.6666666666666666,\"#ed7953\"],[0.7777777777777778,\"#fb9f3a\"],[0.8888888888888888,\"#fdca26\"],[1.0,\"#f0f921\"]],\"type\":\"contour\"}],\"contourcarpet\":[{\"colorbar\":{\"outlinewidth\":0,\"ticks\":\"\"},\"type\":\"contourcarpet\"}],\"heatmap\":[{\"colorbar\":{\"outlinewidth\":0,\"ticks\":\"\"},\"colorscale\":[[0.0,\"#0d0887\"],[0.1111111111111111,\"#46039f\"],[0.2222222222222222,\"#7201a8\"],[0.3333333333333333,\"#9c179e\"],[0.4444444444444444,\"#bd3786\"],[0.5555555555555556,\"#d8576b\"],[0.6666666666666666,\"#ed7953\"],[0.7777777777777778,\"#fb9f3a\"],[0.8888888888888888,\"#fdca26\"],[1.0,\"#f0f921\"]],\"type\":\"heatmap\"}],\"heatmapgl\":[{\"colorbar\":{\"outlinewidth\":0,\"ticks\":\"\"},\"colorscale\":[[0.0,\"#0d0887\"],[0.1111111111111111,\"#46039f\"],[0.2222222222222222,\"#7201a8\"],[0.3333333333333333,\"#9c179e\"],[0.4444444444444444,\"#bd3786\"],[0.5555555555555556,\"#d8576b\"],[0.6666666666666666,\"#ed7953\"],[0.7777777777777778,\"#fb9f3a\"],[0.8888888888888888,\"#fdca26\"],[1.0,\"#f0f921\"]],\"type\":\"heatmapgl\"}],\"histogram\":[{\"marker\":{\"pattern\":{\"fillmode\":\"overlay\",\"size\":10,\"solidity\":0.2}},\"type\":\"histogram\"}],\"histogram2d\":[{\"colorbar\":{\"outlinewidth\":0,\"ticks\":\"\"},\"colorscale\":[[0.0,\"#0d0887\"],[0.1111111111111111,\"#46039f\"],[0.2222222222222222,\"#7201a8\"],[0.3333333333333333,\"#9c179e\"],[0.4444444444444444,\"#bd3786\"],[0.5555555555555556,\"#d8576b\"],[0.6666666666666666,\"#ed7953\"],[0.7777777777777778,\"#fb9f3a\"],[0.8888888888888888,\"#fdca26\"],[1.0,\"#f0f921\"]],\"type\":\"histogram2d\"}],\"histogram2dcontour\":[{\"colorbar\":{\"outlinewidth\":0,\"ticks\":\"\"},\"colorscale\":[[0.0,\"#0d0887\"],[0.1111111111111111,\"#46039f\"],[0.2222222222222222,\"#7201a8\"],[0.3333333333333333,\"#9c179e\"],[0.4444444444444444,\"#bd3786\"],[0.5555555555555556,\"#d8576b\"],[0.6666666666666666,\"#ed7953\"],[0.7777777777777778,\"#fb9f3a\"],[0.8888888888888888,\"#fdca26\"],[1.0,\"#f0f921\"]],\"type\":\"histogram2dcontour\"}],\"mesh3d\":[{\"colorbar\":{\"outlinewidth\":0,\"ticks\":\"\"},\"type\":\"mesh3d\"}],\"parcoords\":[{\"line\":{\"colorbar\":{\"outlinewidth\":0,\"ticks\":\"\"}},\"type\":\"parcoords\"}],\"pie\":[{\"automargin\":true,\"type\":\"pie\"}],\"scatter\":[{\"marker\":{\"colorbar\":{\"outlinewidth\":0,\"ticks\":\"\"}},\"type\":\"scatter\"}],\"scatter3d\":[{\"line\":{\"colorbar\":{\"outlinewidth\":0,\"ticks\":\"\"}},\"marker\":{\"colorbar\":{\"outlinewidth\":0,\"ticks\":\"\"}},\"type\":\"scatter3d\"}],\"scattercarpet\":[{\"marker\":{\"colorbar\":{\"outlinewidth\":0,\"ticks\":\"\"}},\"type\":\"scattercarpet\"}],\"scattergeo\":[{\"marker\":{\"colorbar\":{\"outlinewidth\":0,\"ticks\":\"\"}},\"type\":\"scattergeo\"}],\"scattergl\":[{\"marker\":{\"colorbar\":{\"outlinewidth\":0,\"ticks\":\"\"}},\"type\":\"scattergl\"}],\"scattermapbox\":[{\"marker\":{\"colorbar\":{\"outlinewidth\":0,\"ticks\":\"\"}},\"type\":\"scattermapbox\"}],\"scatterpolar\":[{\"marker\":{\"colorbar\":{\"outlinewidth\":0,\"ticks\":\"\"}},\"type\":\"scatterpolar\"}],\"scatterpolargl\":[{\"marker\":{\"colorbar\":{\"outlinewidth\":0,\"ticks\":\"\"}},\"type\":\"scatterpolargl\"}],\"scatterternary\":[{\"marker\":{\"colorbar\":{\"outlinewidth\":0,\"ticks\":\"\"}},\"type\":\"scatterternary\"}],\"surface\":[{\"colorbar\":{\"outlinewidth\":0,\"ticks\":\"\"},\"colorscale\":[[0.0,\"#0d0887\"],[0.1111111111111111,\"#46039f\"],[0.2222222222222222,\"#7201a8\"],[0.3333333333333333,\"#9c179e\"],[0.4444444444444444,\"#bd3786\"],[0.5555555555555556,\"#d8576b\"],[0.6666666666666666,\"#ed7953\"],[0.7777777777777778,\"#fb9f3a\"],[0.8888888888888888,\"#fdca26\"],[1.0,\"#f0f921\"]],\"type\":\"surface\"}],\"table\":[{\"cells\":{\"fill\":{\"color\":\"#EBF0F8\"},\"line\":{\"color\":\"white\"}},\"header\":{\"fill\":{\"color\":\"#C8D4E3\"},\"line\":{\"color\":\"white\"}},\"type\":\"table\"}]},\"layout\":{\"annotationdefaults\":{\"arrowcolor\":\"#2a3f5f\",\"arrowhead\":0,\"arrowwidth\":1},\"autotypenumbers\":\"strict\",\"coloraxis\":{\"colorbar\":{\"outlinewidth\":0,\"ticks\":\"\"}},\"colorscale\":{\"diverging\":[[0,\"#8e0152\"],[0.1,\"#c51b7d\"],[0.2,\"#de77ae\"],[0.3,\"#f1b6da\"],[0.4,\"#fde0ef\"],[0.5,\"#f7f7f7\"],[0.6,\"#e6f5d0\"],[0.7,\"#b8e186\"],[0.8,\"#7fbc41\"],[0.9,\"#4d9221\"],[1,\"#276419\"]],\"sequential\":[[0.0,\"#0d0887\"],[0.1111111111111111,\"#46039f\"],[0.2222222222222222,\"#7201a8\"],[0.3333333333333333,\"#9c179e\"],[0.4444444444444444,\"#bd3786\"],[0.5555555555555556,\"#d8576b\"],[0.6666666666666666,\"#ed7953\"],[0.7777777777777778,\"#fb9f3a\"],[0.8888888888888888,\"#fdca26\"],[1.0,\"#f0f921\"]],\"sequentialminus\":[[0.0,\"#0d0887\"],[0.1111111111111111,\"#46039f\"],[0.2222222222222222,\"#7201a8\"],[0.3333333333333333,\"#9c179e\"],[0.4444444444444444,\"#bd3786\"],[0.5555555555555556,\"#d8576b\"],[0.6666666666666666,\"#ed7953\"],[0.7777777777777778,\"#fb9f3a\"],[0.8888888888888888,\"#fdca26\"],[1.0,\"#f0f921\"]]},\"colorway\":[\"#636efa\",\"#EF553B\",\"#00cc96\",\"#ab63fa\",\"#FFA15A\",\"#19d3f3\",\"#FF6692\",\"#B6E880\",\"#FF97FF\",\"#FECB52\"],\"font\":{\"color\":\"#2a3f5f\"},\"geo\":{\"bgcolor\":\"white\",\"lakecolor\":\"white\",\"landcolor\":\"#E5ECF6\",\"showlakes\":true,\"showland\":true,\"subunitcolor\":\"white\"},\"hoverlabel\":{\"align\":\"left\"},\"hovermode\":\"closest\",\"mapbox\":{\"style\":\"light\"},\"paper_bgcolor\":\"white\",\"plot_bgcolor\":\"#E5ECF6\",\"polar\":{\"angularaxis\":{\"gridcolor\":\"white\",\"linecolor\":\"white\",\"ticks\":\"\"},\"bgcolor\":\"#E5ECF6\",\"radialaxis\":{\"gridcolor\":\"white\",\"linecolor\":\"white\",\"ticks\":\"\"}},\"scene\":{\"xaxis\":{\"backgroundcolor\":\"#E5ECF6\",\"gridcolor\":\"white\",\"gridwidth\":2,\"linecolor\":\"white\",\"showbackground\":true,\"ticks\":\"\",\"zerolinecolor\":\"white\"},\"yaxis\":{\"backgroundcolor\":\"#E5ECF6\",\"gridcolor\":\"white\",\"gridwidth\":2,\"linecolor\":\"white\",\"showbackground\":true,\"ticks\":\"\",\"zerolinecolor\":\"white\"},\"zaxis\":{\"backgroundcolor\":\"#E5ECF6\",\"gridcolor\":\"white\",\"gridwidth\":2,\"linecolor\":\"white\",\"showbackground\":true,\"ticks\":\"\",\"zerolinecolor\":\"white\"}},\"shapedefaults\":{\"line\":{\"color\":\"#2a3f5f\"}},\"ternary\":{\"aaxis\":{\"gridcolor\":\"white\",\"linecolor\":\"white\",\"ticks\":\"\"},\"baxis\":{\"gridcolor\":\"white\",\"linecolor\":\"white\",\"ticks\":\"\"},\"bgcolor\":\"#E5ECF6\",\"caxis\":{\"gridcolor\":\"white\",\"linecolor\":\"white\",\"ticks\":\"\"}},\"title\":{\"x\":0.05},\"xaxis\":{\"automargin\":true,\"gridcolor\":\"white\",\"linecolor\":\"white\",\"ticks\":\"\",\"title\":{\"standoff\":15},\"zerolinecolor\":\"white\",\"zerolinewidth\":2},\"yaxis\":{\"automargin\":true,\"gridcolor\":\"white\",\"linecolor\":\"white\",\"ticks\":\"\",\"title\":{\"standoff\":15},\"zerolinecolor\":\"white\",\"zerolinewidth\":2}}},\"xaxis\":{\"anchor\":\"y\",\"domain\":[0.0,1.0],\"scaleanchor\":\"y\",\"constrain\":\"domain\"},\"yaxis\":{\"anchor\":\"x\",\"domain\":[0.0,1.0],\"autorange\":\"reversed\",\"constrain\":\"domain\"},\"coloraxis\":{\"colorbar\":{\"title\":{\"text\":\"Similarity Score\"}},\"colorscale\":[[0.0,\"rgb(247,252,240)\"],[0.125,\"rgb(224,243,219)\"],[0.25,\"rgb(204,235,197)\"],[0.375,\"rgb(168,221,181)\"],[0.5,\"rgb(123,204,196)\"],[0.625,\"rgb(78,179,211)\"],[0.75,\"rgb(43,140,190)\"],[0.875,\"rgb(8,104,172)\"],[1.0,\"rgb(8,64,129)\"]]},\"margin\":{\"t\":60},\"title\":{\"font\":{\"size\":22,\"color\":\"Black\"},\"text\":\"<b>Similarity Matrix\",\"y\":0.95,\"x\":0.55,\"xanchor\":\"center\",\"yanchor\":\"top\"},\"hoverlabel\":{\"font\":{\"size\":16,\"family\":\"Rockwell\"},\"bgcolor\":\"white\"},\"width\":800,\"height\":800,\"showlegend\":true,\"legend\":{\"title\":{\"text\":\"Trend\"}}},                        {\"responsive\": true}                    ).then(function(){\n",
       "                            \n",
       "var gd = document.getElementById('3d38603e-b4d3-4e05-8ed8-2a1e9e6c8570');\n",
       "var x = new MutationObserver(function (mutations, observer) {{\n",
       "        var display = window.getComputedStyle(gd).display;\n",
       "        if (!display || display === 'none') {{\n",
       "            console.log([gd, 'removed!']);\n",
       "            Plotly.purge(gd);\n",
       "            observer.disconnect();\n",
       "        }}\n",
       "}});\n",
       "\n",
       "// Listen for the removal of the full notebook cells\n",
       "var notebookContainer = gd.closest('#notebook-container');\n",
       "if (notebookContainer) {{\n",
       "    x.observe(notebookContainer, {childList: true});\n",
       "}}\n",
       "\n",
       "// Listen for the clearing of the current output cell\n",
       "var outputEl = gd.closest('.output');\n",
       "if (outputEl) {{\n",
       "    x.observe(outputEl, {childList: true});\n",
       "}}\n",
       "\n",
       "                        })                };                });            </script>        </div>"
      ]
     },
     "metadata": {},
     "output_type": "display_data"
    }
   ],
   "source": [
    "topic_model.visualize_heatmap(n_clusters = 10)\n",
    "\n",
    "topic_model.visualize_heatmap().write_html(\"./outputs/similarity.html\")"
   ]
  },
  {
   "cell_type": "code",
   "execution_count": null,
   "id": "da7a3347-5daa-4e89-ac4d-5cac1bebbb91",
   "metadata": {},
   "outputs": [],
   "source": []
  },
  {
   "cell_type": "code",
   "execution_count": null,
   "id": "5537e322-d073-4504-a769-3f1320b8d732",
   "metadata": {},
   "outputs": [],
   "source": []
  }
 ],
 "metadata": {
  "kernelspec": {
   "display_name": "Python 3 (ipykernel)",
   "language": "python",
   "name": "python3"
  },
  "language_info": {
   "codemirror_mode": {
    "name": "ipython",
    "version": 3
   },
   "file_extension": ".py",
   "mimetype": "text/x-python",
   "name": "python",
   "nbconvert_exporter": "python",
   "pygments_lexer": "ipython3",
   "version": "3.9.12"
  }
 },
 "nbformat": 4,
 "nbformat_minor": 5
}
